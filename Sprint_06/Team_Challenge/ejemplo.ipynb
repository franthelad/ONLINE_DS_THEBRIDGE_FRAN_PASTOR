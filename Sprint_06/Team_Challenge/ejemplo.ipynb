{
 "cells": [
  {
   "cell_type": "code",
   "execution_count": 8,
   "metadata": {},
   "outputs": [],
   "source": [
    "from modulo_bd_excel import *\n",
    "import pandas as pd"
   ]
  },
  {
   "cell_type": "code",
   "execution_count": 9,
   "metadata": {},
   "outputs": [],
   "source": [
    "excel = 'C:\\\\Users\\\\franc\\\\Desktop\\\\ONLINE_DS_THEBRIDGE_FRAN_PASTOR\\\\Sprint_06\\\\Team_Challenge\\\\BD.xlsx'\n",
    "bd = '.\\\\BD_farmacia_miren.db'"
   ]
  },
  {
   "cell_type": "code",
   "execution_count": 10,
   "metadata": {},
   "outputs": [],
   "source": [
    "#generar_bd(excel, bd)"
   ]
  },
  {
   "cell_type": "code",
   "execution_count": 11,
   "metadata": {},
   "outputs": [
    {
     "ename": "OperationalError",
     "evalue": "database is locked",
     "output_type": "error",
     "traceback": [
      "\u001b[1;31m---------------------------------------------------------------------------\u001b[0m",
      "\u001b[1;31mOperationalError\u001b[0m                          Traceback (most recent call last)",
      "Cell \u001b[1;32mIn[11], line 1\u001b[0m\n\u001b[1;32m----> 1\u001b[0m \u001b[43maniadir_data\u001b[49m\u001b[43m(\u001b[49m\u001b[43mexcel\u001b[49m\u001b[43m,\u001b[49m\u001b[43m \u001b[49m\u001b[43mbd\u001b[49m\u001b[43m)\u001b[49m\n",
      "File \u001b[1;32mc:\\Users\\franc\\Desktop\\ONLINE_DS_THEBRIDGE_FRAN_PASTOR\\Sprint_06\\Team_Challenge\\modulo_bd_excel.py:56\u001b[0m, in \u001b[0;36maniadir_data\u001b[1;34m(path_excel, path_bd)\u001b[0m\n\u001b[0;32m     53\u001b[0m         celdas \u001b[38;5;241m=\u001b[39m \u001b[38;5;28mstr\u001b[39m(celdas) \u001b[38;5;66;03m# generamos la segunda parte de la query donde encontramos los datos a insertar\u001b[39;00m\n\u001b[0;32m     55\u001b[0m         query_insert \u001b[38;5;241m=\u001b[39m \u001b[38;5;124mf\u001b[39m\u001b[38;5;124m'\u001b[39m\u001b[38;5;124mINSERT INTO \u001b[39m\u001b[38;5;132;01m{\u001b[39;00mtabla\u001b[38;5;132;01m}\u001b[39;00m\u001b[38;5;124m \u001b[39m\u001b[38;5;132;01m{\u001b[39;00mcolumnas\u001b[38;5;132;01m}\u001b[39;00m\u001b[38;5;124m VALUES \u001b[39m\u001b[38;5;132;01m{\u001b[39;00mceldas\u001b[38;5;132;01m}\u001b[39;00m\u001b[38;5;124m;\u001b[39m\u001b[38;5;124m'\u001b[39m \u001b[38;5;66;03m# generamos la query de insercion incluyendo las partes \u001b[39;00m\n\u001b[1;32m---> 56\u001b[0m         \u001b[43mcursor_beta\u001b[49m\u001b[38;5;241;43m.\u001b[39;49m\u001b[43mexecute\u001b[49m\u001b[43m(\u001b[49m\u001b[43mquery_insert\u001b[49m\u001b[43m)\u001b[49m \u001b[38;5;66;03m# ejecutamos la query\u001b[39;00m\n\u001b[0;32m     58\u001b[0m conexion\u001b[38;5;241m.\u001b[39mcommit() \u001b[38;5;66;03m# comiteamos los updates\u001b[39;00m\n\u001b[0;32m     59\u001b[0m conexion\u001b[38;5;241m.\u001b[39mclose() \u001b[38;5;66;03m# cerramos la conexion\u001b[39;00m\n",
      "\u001b[1;31mOperationalError\u001b[0m: database is locked"
     ]
    }
   ],
   "source": [
    "aniadir_data(excel, bd)"
   ]
  },
  {
   "cell_type": "code",
   "execution_count": null,
   "metadata": {},
   "outputs": [
    {
     "data": {
      "text/html": [
       "<div>\n",
       "<style scoped>\n",
       "    .dataframe tbody tr th:only-of-type {\n",
       "        vertical-align: middle;\n",
       "    }\n",
       "\n",
       "    .dataframe tbody tr th {\n",
       "        vertical-align: top;\n",
       "    }\n",
       "\n",
       "    .dataframe thead th {\n",
       "        text-align: right;\n",
       "    }\n",
       "</style>\n",
       "<table border=\"1\" class=\"dataframe\">\n",
       "  <thead>\n",
       "    <tr style=\"text-align: right;\">\n",
       "      <th></th>\n",
       "      <th>id_proveedor</th>\n",
       "      <th>nombre</th>\n",
       "      <th>direccion</th>\n",
       "      <th>telefono</th>\n",
       "      <th>email</th>\n",
       "      <th>id_producto</th>\n",
       "      <th>nombre</th>\n",
       "      <th>tipo</th>\n",
       "      <th>precio</th>\n",
       "      <th>id_proveedor</th>\n",
       "    </tr>\n",
       "  </thead>\n",
       "  <tbody>\n",
       "    <tr>\n",
       "      <th>0</th>\n",
       "      <td>1</td>\n",
       "      <td>fulanito</td>\n",
       "      <td>calle falsa 123</td>\n",
       "      <td>123456789</td>\n",
       "      <td>ejemplo@gmail.com</td>\n",
       "      <td>1</td>\n",
       "      <td>paracetamol</td>\n",
       "      <td>generico</td>\n",
       "      <td>0.70</td>\n",
       "      <td>1</td>\n",
       "    </tr>\n",
       "    <tr>\n",
       "      <th>1</th>\n",
       "      <td>2</td>\n",
       "      <td>agapito</td>\n",
       "      <td>calle falsa 456</td>\n",
       "      <td>987654321</td>\n",
       "      <td>ejemplo_1@hotmail.com</td>\n",
       "      <td>2</td>\n",
       "      <td>viagra</td>\n",
       "      <td>vigorizante</td>\n",
       "      <td>5.80</td>\n",
       "      <td>2</td>\n",
       "    </tr>\n",
       "    <tr>\n",
       "      <th>2</th>\n",
       "      <td>3</td>\n",
       "      <td>menganito</td>\n",
       "      <td>calle falsa 789</td>\n",
       "      <td>102030405</td>\n",
       "      <td>ejemplo_2@yahoo.es</td>\n",
       "      <td>3</td>\n",
       "      <td>champu</td>\n",
       "      <td>higiene</td>\n",
       "      <td>2.30</td>\n",
       "      <td>3</td>\n",
       "    </tr>\n",
       "  </tbody>\n",
       "</table>\n",
       "</div>"
      ],
      "text/plain": [
       "   id_proveedor     nombre        direccion   telefono                  email  \\\n",
       "0             1   fulanito  calle falsa 123  123456789      ejemplo@gmail.com   \n",
       "1             2    agapito  calle falsa 456  987654321  ejemplo_1@hotmail.com   \n",
       "2             3  menganito  calle falsa 789  102030405     ejemplo_2@yahoo.es   \n",
       "\n",
       "   id_producto       nombre         tipo precio  id_proveedor  \n",
       "0            1  paracetamol     generico   0.70             1  \n",
       "1            2       viagra  vigorizante   5.80             2  \n",
       "2            3       champu      higiene   2.30             3  "
      ]
     },
     "execution_count": 5,
     "metadata": {},
     "output_type": "execute_result"
    }
   ],
   "source": [
    "conexion = sqlite3.connect(bd)\n",
    "\n",
    "query = '''\n",
    "SELECT * \n",
    "FROM proveedores AS a\n",
    "LEFT JOIN productos AS b ON a.id_proveedor = b.id_proveedor'''\n",
    "\n",
    "df = pd.read_sql(query, conexion)\n",
    "df"
   ]
  }
 ],
 "metadata": {
  "kernelspec": {
   "display_name": "Python 3",
   "language": "python",
   "name": "python3"
  },
  "language_info": {
   "codemirror_mode": {
    "name": "ipython",
    "version": 3
   },
   "file_extension": ".py",
   "mimetype": "text/x-python",
   "name": "python",
   "nbconvert_exporter": "python",
   "pygments_lexer": "ipython3",
   "version": "3.12.0"
  }
 },
 "nbformat": 4,
 "nbformat_minor": 2
}
