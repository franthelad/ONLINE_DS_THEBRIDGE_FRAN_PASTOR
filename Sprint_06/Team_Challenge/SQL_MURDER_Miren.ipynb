{
 "cells": [
  {
   "cell_type": "markdown",
   "metadata": {},
   "source": [
    "## Librerias"
   ]
  },
  {
   "cell_type": "code",
   "execution_count": 1,
   "metadata": {},
   "outputs": [],
   "source": [
    "import pandas as pd\n",
    "import sqlite3"
   ]
  },
  {
   "cell_type": "markdown",
   "metadata": {},
   "source": [
    "## Conexión"
   ]
  },
  {
   "cell_type": "code",
   "execution_count": 8,
   "metadata": {},
   "outputs": [],
   "source": [
    "\n",
    "connection = sqlite3.connect(\"data/sql-murder-mystery.db\")\n",
    "\n",
    "\n",
    "crsr = connection.cursor()"
   ]
  },
  {
   "cell_type": "code",
   "execution_count": 9,
   "metadata": {},
   "outputs": [],
   "source": [
    "# Con esta función leemos los datos y lo pasamos a un DataFrame de Pandas\n",
    "def sql_query(query):\n",
    "\n",
    "   \n",
    "    crsr.execute(query)\n",
    "\n",
    "    \n",
    "    ans = crsr.fetchall()\n",
    "\n",
    "    # Obtenemos los nombres de las columnas de la tabla\n",
    "    names = [description[0] for description in crsr.description]\n",
    "\n",
    "    return pd.DataFrame(ans,columns=names)"
   ]
  },
  {
   "cell_type": "markdown",
   "metadata": {},
   "source": [
    "## Ayuda"
   ]
  },
  {
   "cell_type": "markdown",
   "metadata": {},
   "source": []
  },
  {
   "cell_type": "markdown",
   "metadata": {},
   "source": [
    "## Consultas"
   ]
  },
  {
   "cell_type": "code",
   "execution_count": 10,
   "metadata": {},
   "outputs": [],
   "source": [
    "pd.set_option('display.max_colwidth', None)"
   ]
  },
  {
   "cell_type": "code",
   "execution_count": 11,
   "metadata": {},
   "outputs": [
    {
     "ename": "OperationalError",
     "evalue": "no such table: crime_scene_report",
     "output_type": "error",
     "traceback": [
      "\u001b[1;31m---------------------------------------------------------------------------\u001b[0m",
      "\u001b[1;31mOperationalError\u001b[0m                          Traceback (most recent call last)",
      "Cell \u001b[1;32mIn[11], line 9\u001b[0m\n\u001b[0;32m      1\u001b[0m query1 \u001b[38;5;241m=\u001b[39m \u001b[38;5;124m\"\"\"\u001b[39m\n\u001b[0;32m      2\u001b[0m \u001b[38;5;124mSELECT *\u001b[39m\n\u001b[0;32m      3\u001b[0m \u001b[38;5;124mFROM crime_scene_report\u001b[39m\n\u001b[1;32m   (...)\u001b[0m\n\u001b[0;32m      6\u001b[0m \u001b[38;5;124mAND date = 20180115\u001b[39m\n\u001b[0;32m      7\u001b[0m \u001b[38;5;124m\"\"\"\u001b[39m\n\u001b[1;32m----> 9\u001b[0m \u001b[43msql_query\u001b[49m\u001b[43m(\u001b[49m\u001b[43mquery1\u001b[49m\u001b[43m)\u001b[49m\n",
      "Cell \u001b[1;32mIn[9], line 5\u001b[0m, in \u001b[0;36msql_query\u001b[1;34m(query)\u001b[0m\n\u001b[0;32m      2\u001b[0m \u001b[38;5;28;01mdef\u001b[39;00m \u001b[38;5;21msql_query\u001b[39m(query):\n\u001b[0;32m      3\u001b[0m \n\u001b[0;32m      4\u001b[0m     \u001b[38;5;66;03m# Ejecuta la query\u001b[39;00m\n\u001b[1;32m----> 5\u001b[0m     \u001b[43mcrsr\u001b[49m\u001b[38;5;241;43m.\u001b[39;49m\u001b[43mexecute\u001b[49m\u001b[43m(\u001b[49m\u001b[43mquery\u001b[49m\u001b[43m)\u001b[49m\n\u001b[0;32m      7\u001b[0m     \u001b[38;5;66;03m# Almacena los datos de la query \u001b[39;00m\n\u001b[0;32m      8\u001b[0m     ans \u001b[38;5;241m=\u001b[39m crsr\u001b[38;5;241m.\u001b[39mfetchall()\n",
      "\u001b[1;31mOperationalError\u001b[0m: no such table: crime_scene_report"
     ]
    }
   ],
   "source": [
    "query1 = \"\"\"\n",
    "SELECT *\n",
    "FROM crime_scene_report\n",
    "WHERE type = 'murder' \n",
    "AND city = 'SQL City'\n",
    "AND date = 20180115\n",
    "\"\"\"\n",
    "\n",
    "sql_query(query1)"
   ]
  },
  {
   "cell_type": "code",
   "execution_count": 7,
   "metadata": {},
   "outputs": [
    {
     "ename": "OperationalError",
     "evalue": "no such table: person",
     "output_type": "error",
     "traceback": [
      "\u001b[1;31m---------------------------------------------------------------------------\u001b[0m",
      "\u001b[1;31mOperationalError\u001b[0m                          Traceback (most recent call last)",
      "Cell \u001b[1;32mIn[7], line 8\u001b[0m\n\u001b[0;32m      1\u001b[0m query2 \u001b[38;5;241m=\u001b[39m \u001b[38;5;124m\"\"\"\u001b[39m\n\u001b[0;32m      2\u001b[0m \u001b[38;5;124mSELECT name, address_number, address_street_name\u001b[39m\n\u001b[0;32m      3\u001b[0m \u001b[38;5;124mFROM person\u001b[39m\n\u001b[0;32m      4\u001b[0m \u001b[38;5;124mWHERE address_street_name LIKE \u001b[39m\u001b[38;5;124m'\u001b[39m\u001b[38;5;124m%\u001b[39m\u001b[38;5;124mNorthwestern\u001b[39m\u001b[38;5;124m%\u001b[39m\u001b[38;5;124m'\u001b[39m\n\u001b[0;32m      5\u001b[0m \u001b[38;5;124mORDER BY address_number DESC\u001b[39m\n\u001b[0;32m      6\u001b[0m \u001b[38;5;124m\"\"\"\u001b[39m\n\u001b[1;32m----> 8\u001b[0m \u001b[43msql_query\u001b[49m\u001b[43m(\u001b[49m\u001b[43mquery2\u001b[49m\u001b[43m)\u001b[49m\n",
      "Cell \u001b[1;32mIn[3], line 5\u001b[0m, in \u001b[0;36msql_query\u001b[1;34m(query)\u001b[0m\n\u001b[0;32m      2\u001b[0m \u001b[38;5;28;01mdef\u001b[39;00m \u001b[38;5;21msql_query\u001b[39m(query):\n\u001b[0;32m      3\u001b[0m \n\u001b[0;32m      4\u001b[0m     \u001b[38;5;66;03m# Ejecuta la query\u001b[39;00m\n\u001b[1;32m----> 5\u001b[0m     \u001b[43mcrsr\u001b[49m\u001b[38;5;241;43m.\u001b[39;49m\u001b[43mexecute\u001b[49m\u001b[43m(\u001b[49m\u001b[43mquery\u001b[49m\u001b[43m)\u001b[49m\n\u001b[0;32m      7\u001b[0m     \u001b[38;5;66;03m# Almacena los datos de la query \u001b[39;00m\n\u001b[0;32m      8\u001b[0m     ans \u001b[38;5;241m=\u001b[39m crsr\u001b[38;5;241m.\u001b[39mfetchall()\n",
      "\u001b[1;31mOperationalError\u001b[0m: no such table: person"
     ]
    }
   ],
   "source": [
    "query2 = \"\"\"\n",
    "SELECT name, address_number, address_street_name\n",
    "FROM person\n",
    "WHERE address_street_name LIKE '%Northwestern%'\n",
    "ORDER BY address_number DESC\n",
    "\"\"\"\n",
    "\n",
    "sql_query(query2)"
   ]
  },
  {
   "cell_type": "code",
   "execution_count": 22,
   "metadata": {},
   "outputs": [
    {
     "data": {
      "text/html": [
       "<div>\n",
       "<style scoped>\n",
       "    .dataframe tbody tr th:only-of-type {\n",
       "        vertical-align: middle;\n",
       "    }\n",
       "\n",
       "    .dataframe tbody tr th {\n",
       "        vertical-align: top;\n",
       "    }\n",
       "\n",
       "    .dataframe thead th {\n",
       "        text-align: right;\n",
       "    }\n",
       "</style>\n",
       "<table border=\"1\" class=\"dataframe\">\n",
       "  <thead>\n",
       "    <tr style=\"text-align: right;\">\n",
       "      <th></th>\n",
       "      <th>name</th>\n",
       "      <th>transcript</th>\n",
       "    </tr>\n",
       "  </thead>\n",
       "  <tbody>\n",
       "    <tr>\n",
       "      <th>0</th>\n",
       "      <td>Morty Schapiro</td>\n",
       "      <td>I heard a gunshot and then saw a man run out. He had a \"Get Fit Now Gym\" bag. The membership number on the bag started with \"48Z\". Only gold members have those bags. The man got into a car with a plate that included \"H42W\".</td>\n",
       "    </tr>\n",
       "  </tbody>\n",
       "</table>\n",
       "</div>"
      ],
      "text/plain": [
       "             name  \\\n",
       "0  Morty Schapiro   \n",
       "\n",
       "                                                                                                                                                                                                                        transcript  \n",
       "0  I heard a gunshot and then saw a man run out. He had a \"Get Fit Now Gym\" bag. The membership number on the bag started with \"48Z\". Only gold members have those bags. The man got into a car with a plate that included \"H42W\".  "
      ]
     },
     "execution_count": 22,
     "metadata": {},
     "output_type": "execute_result"
    }
   ],
   "source": [
    "query3 = \"\"\"\n",
    "SELECT p.name, i.transcript\n",
    "FROM interview i\n",
    "INNER JOIN person p\n",
    "ON i.person_id = p.id\n",
    "WHERE p.name = 'Morty Schapiro'\n",
    "\"\"\"\n",
    "\n",
    "sql_query(query3)"
   ]
  },
  {
   "cell_type": "code",
   "execution_count": 23,
   "metadata": {},
   "outputs": [
    {
     "data": {
      "text/html": [
       "<div>\n",
       "<style scoped>\n",
       "    .dataframe tbody tr th:only-of-type {\n",
       "        vertical-align: middle;\n",
       "    }\n",
       "\n",
       "    .dataframe tbody tr th {\n",
       "        vertical-align: top;\n",
       "    }\n",
       "\n",
       "    .dataframe thead th {\n",
       "        text-align: right;\n",
       "    }\n",
       "</style>\n",
       "<table border=\"1\" class=\"dataframe\">\n",
       "  <thead>\n",
       "    <tr style=\"text-align: right;\">\n",
       "      <th></th>\n",
       "      <th>name</th>\n",
       "      <th>address_number</th>\n",
       "      <th>address_street_name</th>\n",
       "    </tr>\n",
       "  </thead>\n",
       "  <tbody>\n",
       "    <tr>\n",
       "      <th>0</th>\n",
       "      <td>Annabel Miller</td>\n",
       "      <td>103</td>\n",
       "      <td>Franklin Ave</td>\n",
       "    </tr>\n",
       "  </tbody>\n",
       "</table>\n",
       "</div>"
      ],
      "text/plain": [
       "             name  address_number address_street_name\n",
       "0  Annabel Miller             103        Franklin Ave"
      ]
     },
     "execution_count": 23,
     "metadata": {},
     "output_type": "execute_result"
    }
   ],
   "source": [
    "query4 = \"\"\"\n",
    "SELECT name, address_number, address_street_name\n",
    "FROM person\n",
    "WHERE address_street_name LIKE '%Franklin Ave%'\n",
    "AND name LIKE '%Annabel%'\n",
    "\"\"\"\n",
    "\n",
    "sql_query(query4)"
   ]
  },
  {
   "cell_type": "code",
   "execution_count": 24,
   "metadata": {},
   "outputs": [
    {
     "data": {
      "text/html": [
       "<div>\n",
       "<style scoped>\n",
       "    .dataframe tbody tr th:only-of-type {\n",
       "        vertical-align: middle;\n",
       "    }\n",
       "\n",
       "    .dataframe tbody tr th {\n",
       "        vertical-align: top;\n",
       "    }\n",
       "\n",
       "    .dataframe thead th {\n",
       "        text-align: right;\n",
       "    }\n",
       "</style>\n",
       "<table border=\"1\" class=\"dataframe\">\n",
       "  <thead>\n",
       "    <tr style=\"text-align: right;\">\n",
       "      <th></th>\n",
       "      <th>name</th>\n",
       "      <th>transcript</th>\n",
       "    </tr>\n",
       "  </thead>\n",
       "  <tbody>\n",
       "    <tr>\n",
       "      <th>0</th>\n",
       "      <td>Annabel Miller</td>\n",
       "      <td>I saw the murder happen, and I recognized the killer from my gym when I was working out last week on January the 9th.</td>\n",
       "    </tr>\n",
       "  </tbody>\n",
       "</table>\n",
       "</div>"
      ],
      "text/plain": [
       "             name  \\\n",
       "0  Annabel Miller   \n",
       "\n",
       "                                                                                                              transcript  \n",
       "0  I saw the murder happen, and I recognized the killer from my gym when I was working out last week on January the 9th.  "
      ]
     },
     "execution_count": 24,
     "metadata": {},
     "output_type": "execute_result"
    }
   ],
   "source": [
    "query1 = \"\"\"\n",
    "SELECT p.name, i.transcript\n",
    "FROM interview i\n",
    "INNER JOIN person p\n",
    "ON i.person_id = p.id\n",
    "WHERE p.name = 'Annabel Miller'\n",
    "\"\"\"\n",
    "\n",
    "sql_query(query1)"
   ]
  },
  {
   "cell_type": "code",
   "execution_count": 12,
   "metadata": {},
   "outputs": [
    {
     "ename": "OperationalError",
     "evalue": "no such table: get_fit_now_member",
     "output_type": "error",
     "traceback": [
      "\u001b[1;31m---------------------------------------------------------------------------\u001b[0m",
      "\u001b[1;31mOperationalError\u001b[0m                          Traceback (most recent call last)",
      "Cell \u001b[1;32mIn[12], line 15\u001b[0m\n\u001b[0;32m      1\u001b[0m query1 \u001b[38;5;241m=\u001b[39m \u001b[38;5;124m\"\"\"\u001b[39m\n\u001b[0;32m      2\u001b[0m \u001b[38;5;124mSELECT m.name\u001b[39m\n\u001b[0;32m      3\u001b[0m \u001b[38;5;124mFROM get_fit_now_member as m\u001b[39m\n\u001b[1;32m   (...)\u001b[0m\n\u001b[0;32m     12\u001b[0m \u001b[38;5;124mAND m.membership_status = \u001b[39m\u001b[38;5;124m'\u001b[39m\u001b[38;5;124mgold\u001b[39m\u001b[38;5;124m'\u001b[39m\n\u001b[0;32m     13\u001b[0m \u001b[38;5;124m\"\"\"\u001b[39m\n\u001b[1;32m---> 15\u001b[0m \u001b[43msql_query\u001b[49m\u001b[43m(\u001b[49m\u001b[43mquery1\u001b[49m\u001b[43m)\u001b[49m\n",
      "Cell \u001b[1;32mIn[9], line 5\u001b[0m, in \u001b[0;36msql_query\u001b[1;34m(query)\u001b[0m\n\u001b[0;32m      2\u001b[0m \u001b[38;5;28;01mdef\u001b[39;00m \u001b[38;5;21msql_query\u001b[39m(query):\n\u001b[0;32m      3\u001b[0m \n\u001b[0;32m      4\u001b[0m     \u001b[38;5;66;03m# Ejecuta la query\u001b[39;00m\n\u001b[1;32m----> 5\u001b[0m     \u001b[43mcrsr\u001b[49m\u001b[38;5;241;43m.\u001b[39;49m\u001b[43mexecute\u001b[49m\u001b[43m(\u001b[49m\u001b[43mquery\u001b[49m\u001b[43m)\u001b[49m\n\u001b[0;32m      7\u001b[0m     \u001b[38;5;66;03m# Almacena los datos de la query \u001b[39;00m\n\u001b[0;32m      8\u001b[0m     ans \u001b[38;5;241m=\u001b[39m crsr\u001b[38;5;241m.\u001b[39mfetchall()\n",
      "\u001b[1;31mOperationalError\u001b[0m: no such table: get_fit_now_member"
     ]
    }
   ],
   "source": [
    "query1 = \"\"\"\n",
    "SELECT m.name\n",
    "FROM get_fit_now_member as m\n",
    "INNER JOIN get_fit_now_check_in as c\n",
    "ON m.id = c.membership_id\n",
    "INNER JOIN person as p\n",
    "ON m.person_id = p.id\n",
    "INNER JOIN drivers_license as l\n",
    "ON p.license_id = l.id\n",
    "WHERE c.check_in_date = 20180109\n",
    "AND l.plate_number LIKE '%H42W%'\n",
    "AND m.membership_status = 'gold'\n",
    "\"\"\"\n",
    "\n",
    "sql_query(query1)"
   ]
  },
  {
   "cell_type": "code",
   "execution_count": 29,
   "metadata": {},
   "outputs": [
    {
     "ename": "TypeError",
     "evalue": "'NoneType' object is not iterable",
     "output_type": "error",
     "traceback": [
      "\u001b[1;31m---------------------------------------------------------------------------\u001b[0m",
      "\u001b[1;31mTypeError\u001b[0m                                 Traceback (most recent call last)",
      "\u001b[1;32mc:\\Users\\jamr1\\Documents\\Data_Science\\GITHUB\\DS_PT_09_2023\\Data_Analysis\\7-Bases_de_datos\\SQL\\Ejercicicio_individual_II\\murder_game\\SQL_MURDER_PROF.ipynb Cell 16\u001b[0m line \u001b[0;36m7\n\u001b[0;32m      <a href='vscode-notebook-cell:/c%3A/Users/jamr1/Documents/Data_Science/GITHUB/DS_PT_09_2023/Data_Analysis/7-Bases_de_datos/SQL/Ejercicicio_individual_II/murder_game/SQL_MURDER_PROF.ipynb#X31sZmlsZQ%3D%3D?line=0'>1</a>\u001b[0m query3 \u001b[39m=\u001b[39m \u001b[39m\"\"\"\u001b[39m\n\u001b[0;32m      <a href='vscode-notebook-cell:/c%3A/Users/jamr1/Documents/Data_Science/GITHUB/DS_PT_09_2023/Data_Analysis/7-Bases_de_datos/SQL/Ejercicicio_individual_II/murder_game/SQL_MURDER_PROF.ipynb#X31sZmlsZQ%3D%3D?line=1'>2</a>\u001b[0m \u001b[39mINSERT INTO solution\u001b[39m\n\u001b[0;32m      <a href='vscode-notebook-cell:/c%3A/Users/jamr1/Documents/Data_Science/GITHUB/DS_PT_09_2023/Data_Analysis/7-Bases_de_datos/SQL/Ejercicicio_individual_II/murder_game/SQL_MURDER_PROF.ipynb#X31sZmlsZQ%3D%3D?line=2'>3</a>\u001b[0m \u001b[39mVALUES\u001b[39m\n\u001b[0;32m      <a href='vscode-notebook-cell:/c%3A/Users/jamr1/Documents/Data_Science/GITHUB/DS_PT_09_2023/Data_Analysis/7-Bases_de_datos/SQL/Ejercicicio_individual_II/murder_game/SQL_MURDER_PROF.ipynb#X31sZmlsZQ%3D%3D?line=3'>4</a>\u001b[0m \u001b[39m(1, \u001b[39m\u001b[39m'\u001b[39m\u001b[39mJeremy Bowers\u001b[39m\u001b[39m'\u001b[39m\u001b[39m)                                                \u001b[39m\n\u001b[0;32m      <a href='vscode-notebook-cell:/c%3A/Users/jamr1/Documents/Data_Science/GITHUB/DS_PT_09_2023/Data_Analysis/7-Bases_de_datos/SQL/Ejercicicio_individual_II/murder_game/SQL_MURDER_PROF.ipynb#X31sZmlsZQ%3D%3D?line=4'>5</a>\u001b[0m \u001b[39m\"\"\"\u001b[39m\n\u001b[1;32m----> <a href='vscode-notebook-cell:/c%3A/Users/jamr1/Documents/Data_Science/GITHUB/DS_PT_09_2023/Data_Analysis/7-Bases_de_datos/SQL/Ejercicicio_individual_II/murder_game/SQL_MURDER_PROF.ipynb#X31sZmlsZQ%3D%3D?line=6'>7</a>\u001b[0m sql_query(query3)\n",
      "\u001b[1;32mc:\\Users\\jamr1\\Documents\\Data_Science\\GITHUB\\DS_PT_09_2023\\Data_Analysis\\7-Bases_de_datos\\SQL\\Ejercicicio_individual_II\\murder_game\\SQL_MURDER_PROF.ipynb Cell 16\u001b[0m line \u001b[0;36m1\n\u001b[0;32m      <a href='vscode-notebook-cell:/c%3A/Users/jamr1/Documents/Data_Science/GITHUB/DS_PT_09_2023/Data_Analysis/7-Bases_de_datos/SQL/Ejercicicio_individual_II/murder_game/SQL_MURDER_PROF.ipynb#X31sZmlsZQ%3D%3D?line=7'>8</a>\u001b[0m ans \u001b[39m=\u001b[39m crsr\u001b[39m.\u001b[39mfetchall()\n\u001b[0;32m     <a href='vscode-notebook-cell:/c%3A/Users/jamr1/Documents/Data_Science/GITHUB/DS_PT_09_2023/Data_Analysis/7-Bases_de_datos/SQL/Ejercicicio_individual_II/murder_game/SQL_MURDER_PROF.ipynb#X31sZmlsZQ%3D%3D?line=9'>10</a>\u001b[0m \u001b[39m# Obtenemos los nombres de las columnas de la tabla\u001b[39;00m\n\u001b[1;32m---> <a href='vscode-notebook-cell:/c%3A/Users/jamr1/Documents/Data_Science/GITHUB/DS_PT_09_2023/Data_Analysis/7-Bases_de_datos/SQL/Ejercicicio_individual_II/murder_game/SQL_MURDER_PROF.ipynb#X31sZmlsZQ%3D%3D?line=10'>11</a>\u001b[0m names \u001b[39m=\u001b[39m [description[\u001b[39m0\u001b[39;49m] \u001b[39mfor\u001b[39;49;00m description \u001b[39min\u001b[39;49;00m crsr\u001b[39m.\u001b[39;49mdescription]\n\u001b[0;32m     <a href='vscode-notebook-cell:/c%3A/Users/jamr1/Documents/Data_Science/GITHUB/DS_PT_09_2023/Data_Analysis/7-Bases_de_datos/SQL/Ejercicicio_individual_II/murder_game/SQL_MURDER_PROF.ipynb#X31sZmlsZQ%3D%3D?line=12'>13</a>\u001b[0m \u001b[39mreturn\u001b[39;00m pd\u001b[39m.\u001b[39mDataFrame(ans,columns\u001b[39m=\u001b[39mnames)\n",
      "\u001b[1;31mTypeError\u001b[0m: 'NoneType' object is not iterable"
     ]
    }
   ],
   "source": [
    "query3 = \"\"\"\n",
    "INSERT INTO solution\n",
    "VALUES\n",
    "(1, 'Jeremy Bowers')                                                \n",
    "\"\"\"\n",
    "\n",
    "sql_query(query3)"
   ]
  },
  {
   "cell_type": "code",
   "execution_count": 30,
   "metadata": {},
   "outputs": [
    {
     "data": {
      "text/html": [
       "<div>\n",
       "<style scoped>\n",
       "    .dataframe tbody tr th:only-of-type {\n",
       "        vertical-align: middle;\n",
       "    }\n",
       "\n",
       "    .dataframe tbody tr th {\n",
       "        vertical-align: top;\n",
       "    }\n",
       "\n",
       "    .dataframe thead th {\n",
       "        text-align: right;\n",
       "    }\n",
       "</style>\n",
       "<table border=\"1\" class=\"dataframe\">\n",
       "  <thead>\n",
       "    <tr style=\"text-align: right;\">\n",
       "      <th></th>\n",
       "      <th>value</th>\n",
       "    </tr>\n",
       "  </thead>\n",
       "  <tbody>\n",
       "    <tr>\n",
       "      <th>0</th>\n",
       "      <td>Congrats, you found the murderer! But wait, there's more... If you think you're up for a challenge, try querying the interview transcript of the murderer to find the real villain behind this crime. If you feel especially confident in your SQL skills, try to complete this final step with no more than 2 queries. Use this same INSERT statement with your new suspect to check your answer.</td>\n",
       "    </tr>\n",
       "  </tbody>\n",
       "</table>\n",
       "</div>"
      ],
      "text/plain": [
       "                                                                                                                                                                                                                                                                                                                                                                                                value\n",
       "0  Congrats, you found the murderer! But wait, there's more... If you think you're up for a challenge, try querying the interview transcript of the murderer to find the real villain behind this crime. If you feel especially confident in your SQL skills, try to complete this final step with no more than 2 queries. Use this same INSERT statement with your new suspect to check your answer."
      ]
     },
     "execution_count": 30,
     "metadata": {},
     "output_type": "execute_result"
    }
   ],
   "source": [
    "query3 = \"\"\"\n",
    "SELECT value\n",
    "FROM solution\n",
    "\"\"\"\n",
    "\n",
    "sql_query(query3)"
   ]
  },
  {
   "cell_type": "code",
   "execution_count": 28,
   "metadata": {},
   "outputs": [
    {
     "data": {
      "text/html": [
       "<div>\n",
       "<style scoped>\n",
       "    .dataframe tbody tr th:only-of-type {\n",
       "        vertical-align: middle;\n",
       "    }\n",
       "\n",
       "    .dataframe tbody tr th {\n",
       "        vertical-align: top;\n",
       "    }\n",
       "\n",
       "    .dataframe thead th {\n",
       "        text-align: right;\n",
       "    }\n",
       "</style>\n",
       "<table border=\"1\" class=\"dataframe\">\n",
       "  <thead>\n",
       "    <tr style=\"text-align: right;\">\n",
       "      <th></th>\n",
       "      <th>name</th>\n",
       "      <th>transcript</th>\n",
       "    </tr>\n",
       "  </thead>\n",
       "  <tbody>\n",
       "    <tr>\n",
       "      <th>0</th>\n",
       "      <td>Jeremy Bowers</td>\n",
       "      <td>I was hired by a woman with a lot of money. I don't know her name but I know she's around 5'5\" (65\") or 5'7\" (67\"). She has red hair and she drives a Tesla Model S. I know that she attended the SQL Symphony Concert 3 times in December 2017.\\n</td>\n",
       "    </tr>\n",
       "  </tbody>\n",
       "</table>\n",
       "</div>"
      ],
      "text/plain": [
       "            name  \\\n",
       "0  Jeremy Bowers   \n",
       "\n",
       "                                                                                                                                                                                                                                           transcript  \n",
       "0  I was hired by a woman with a lot of money. I don't know her name but I know she's around 5'5\" (65\") or 5'7\" (67\"). She has red hair and she drives a Tesla Model S. I know that she attended the SQL Symphony Concert 3 times in December 2017.\\n  "
      ]
     },
     "execution_count": 28,
     "metadata": {},
     "output_type": "execute_result"
    }
   ],
   "source": [
    "query3 = \"\"\"\n",
    "SELECT p.name, i.transcript\n",
    "FROM interview i\n",
    "INNER JOIN person p\n",
    "ON i.person_id = p.id\n",
    "WHERE p.name = 'Jeremy Bowers'\n",
    "\"\"\"\n",
    "\n",
    "sql_query(query3)"
   ]
  },
  {
   "cell_type": "code",
   "execution_count": 49,
   "metadata": {},
   "outputs": [
    {
     "data": {
      "text/html": [
       "<div>\n",
       "<style scoped>\n",
       "    .dataframe tbody tr th:only-of-type {\n",
       "        vertical-align: middle;\n",
       "    }\n",
       "\n",
       "    .dataframe tbody tr th {\n",
       "        vertical-align: top;\n",
       "    }\n",
       "\n",
       "    .dataframe thead th {\n",
       "        text-align: right;\n",
       "    }\n",
       "</style>\n",
       "<table border=\"1\" class=\"dataframe\">\n",
       "  <thead>\n",
       "    <tr style=\"text-align: right;\">\n",
       "      <th></th>\n",
       "      <th>name</th>\n",
       "      <th>height</th>\n",
       "      <th>coche</th>\n",
       "      <th>evento</th>\n",
       "    </tr>\n",
       "  </thead>\n",
       "  <tbody>\n",
       "    <tr>\n",
       "      <th>0</th>\n",
       "      <td>Miranda Priestly</td>\n",
       "      <td>66</td>\n",
       "      <td>Tesla Model S</td>\n",
       "      <td>SQL Symphony Concert</td>\n",
       "    </tr>\n",
       "  </tbody>\n",
       "</table>\n",
       "</div>"
      ],
      "text/plain": [
       "               name  height          coche                evento\n",
       "0  Miranda Priestly      66  Tesla Model S  SQL Symphony Concert"
      ]
     },
     "execution_count": 49,
     "metadata": {},
     "output_type": "execute_result"
    }
   ],
   "source": [
    "query3 = \"\"\"\n",
    "SELECT p.name, dl.height, dl.car_make || ' ' || dl.car_model as coche, f.event_name as evento\n",
    "FROM person AS p\n",
    "INNER JOIN drivers_license AS dl\n",
    "ON p.license_id = dl.id\n",
    "INNER JOIN facebook_event_checkin AS f\n",
    "ON f.person_id = p.id\n",
    "WHERE dl.hair_color = 'red'\n",
    "AND dl.gender = 'female'\n",
    "AND dl.car_make = 'Tesla'\n",
    "AND dl.car_model = 'Model S'\n",
    "AND dl.height BETWEEN 65 AND 67\n",
    "AND f.date LIKE '201712%'\n",
    "AND f.event_name = 'SQL Symphony Concert'\n",
    "GROUP BY p.name\n",
    "HAVING COUNT(f.person_id)  = 3\n",
    "\"\"\"\n",
    "\n",
    "sql_query(query3)"
   ]
  },
  {
   "cell_type": "code",
   "execution_count": 43,
   "metadata": {},
   "outputs": [
    {
     "ename": "TypeError",
     "evalue": "'NoneType' object is not iterable",
     "output_type": "error",
     "traceback": [
      "\u001b[1;31m---------------------------------------------------------------------------\u001b[0m",
      "\u001b[1;31mTypeError\u001b[0m                                 Traceback (most recent call last)",
      "\u001b[1;32mc:\\Users\\jamr1\\Documents\\Data_Science\\GITHUB\\DS_PT_09_2023\\Data_Analysis\\7-Bases_de_datos\\SQL\\Ejercicicio_individual_II\\murder_game\\SQL_MURDER_PROF.ipynb Cell 20\u001b[0m line \u001b[0;36m7\n\u001b[0;32m      <a href='vscode-notebook-cell:/c%3A/Users/jamr1/Documents/Data_Science/GITHUB/DS_PT_09_2023/Data_Analysis/7-Bases_de_datos/SQL/Ejercicicio_individual_II/murder_game/SQL_MURDER_PROF.ipynb#X35sZmlsZQ%3D%3D?line=0'>1</a>\u001b[0m query3 \u001b[39m=\u001b[39m \u001b[39m\"\"\"\u001b[39m\n\u001b[0;32m      <a href='vscode-notebook-cell:/c%3A/Users/jamr1/Documents/Data_Science/GITHUB/DS_PT_09_2023/Data_Analysis/7-Bases_de_datos/SQL/Ejercicicio_individual_II/murder_game/SQL_MURDER_PROF.ipynb#X35sZmlsZQ%3D%3D?line=1'>2</a>\u001b[0m \u001b[39mINSERT INTO solution\u001b[39m\n\u001b[0;32m      <a href='vscode-notebook-cell:/c%3A/Users/jamr1/Documents/Data_Science/GITHUB/DS_PT_09_2023/Data_Analysis/7-Bases_de_datos/SQL/Ejercicicio_individual_II/murder_game/SQL_MURDER_PROF.ipynb#X35sZmlsZQ%3D%3D?line=2'>3</a>\u001b[0m \u001b[39mVALUES\u001b[39m\n\u001b[0;32m      <a href='vscode-notebook-cell:/c%3A/Users/jamr1/Documents/Data_Science/GITHUB/DS_PT_09_2023/Data_Analysis/7-Bases_de_datos/SQL/Ejercicicio_individual_II/murder_game/SQL_MURDER_PROF.ipynb#X35sZmlsZQ%3D%3D?line=3'>4</a>\u001b[0m \u001b[39m(1, \u001b[39m\u001b[39m'\u001b[39m\u001b[39mMiranda Priestly\u001b[39m\u001b[39m'\u001b[39m\u001b[39m)                                                \u001b[39m\n\u001b[0;32m      <a href='vscode-notebook-cell:/c%3A/Users/jamr1/Documents/Data_Science/GITHUB/DS_PT_09_2023/Data_Analysis/7-Bases_de_datos/SQL/Ejercicicio_individual_II/murder_game/SQL_MURDER_PROF.ipynb#X35sZmlsZQ%3D%3D?line=4'>5</a>\u001b[0m \u001b[39m\"\"\"\u001b[39m\n\u001b[1;32m----> <a href='vscode-notebook-cell:/c%3A/Users/jamr1/Documents/Data_Science/GITHUB/DS_PT_09_2023/Data_Analysis/7-Bases_de_datos/SQL/Ejercicicio_individual_II/murder_game/SQL_MURDER_PROF.ipynb#X35sZmlsZQ%3D%3D?line=6'>7</a>\u001b[0m sql_query(query3)\n",
      "\u001b[1;32mc:\\Users\\jamr1\\Documents\\Data_Science\\GITHUB\\DS_PT_09_2023\\Data_Analysis\\7-Bases_de_datos\\SQL\\Ejercicicio_individual_II\\murder_game\\SQL_MURDER_PROF.ipynb Cell 20\u001b[0m line \u001b[0;36m1\n\u001b[0;32m      <a href='vscode-notebook-cell:/c%3A/Users/jamr1/Documents/Data_Science/GITHUB/DS_PT_09_2023/Data_Analysis/7-Bases_de_datos/SQL/Ejercicicio_individual_II/murder_game/SQL_MURDER_PROF.ipynb#X35sZmlsZQ%3D%3D?line=7'>8</a>\u001b[0m ans \u001b[39m=\u001b[39m crsr\u001b[39m.\u001b[39mfetchall()\n\u001b[0;32m     <a href='vscode-notebook-cell:/c%3A/Users/jamr1/Documents/Data_Science/GITHUB/DS_PT_09_2023/Data_Analysis/7-Bases_de_datos/SQL/Ejercicicio_individual_II/murder_game/SQL_MURDER_PROF.ipynb#X35sZmlsZQ%3D%3D?line=9'>10</a>\u001b[0m \u001b[39m# Obtenemos los nombres de las columnas de la tabla\u001b[39;00m\n\u001b[1;32m---> <a href='vscode-notebook-cell:/c%3A/Users/jamr1/Documents/Data_Science/GITHUB/DS_PT_09_2023/Data_Analysis/7-Bases_de_datos/SQL/Ejercicicio_individual_II/murder_game/SQL_MURDER_PROF.ipynb#X35sZmlsZQ%3D%3D?line=10'>11</a>\u001b[0m names \u001b[39m=\u001b[39m [description[\u001b[39m0\u001b[39;49m] \u001b[39mfor\u001b[39;49;00m description \u001b[39min\u001b[39;49;00m crsr\u001b[39m.\u001b[39;49mdescription]\n\u001b[0;32m     <a href='vscode-notebook-cell:/c%3A/Users/jamr1/Documents/Data_Science/GITHUB/DS_PT_09_2023/Data_Analysis/7-Bases_de_datos/SQL/Ejercicicio_individual_II/murder_game/SQL_MURDER_PROF.ipynb#X35sZmlsZQ%3D%3D?line=12'>13</a>\u001b[0m \u001b[39mreturn\u001b[39;00m pd\u001b[39m.\u001b[39mDataFrame(ans,columns\u001b[39m=\u001b[39mnames)\n",
      "\u001b[1;31mTypeError\u001b[0m: 'NoneType' object is not iterable"
     ]
    }
   ],
   "source": [
    "query3 = \"\"\"\n",
    "INSERT INTO solution\n",
    "VALUES\n",
    "(1, 'Miranda Priestly')                                                \n",
    "\"\"\"\n",
    "\n",
    "sql_query(query3)"
   ]
  },
  {
   "cell_type": "code",
   "execution_count": 44,
   "metadata": {},
   "outputs": [
    {
     "data": {
      "text/html": [
       "<div>\n",
       "<style scoped>\n",
       "    .dataframe tbody tr th:only-of-type {\n",
       "        vertical-align: middle;\n",
       "    }\n",
       "\n",
       "    .dataframe tbody tr th {\n",
       "        vertical-align: top;\n",
       "    }\n",
       "\n",
       "    .dataframe thead th {\n",
       "        text-align: right;\n",
       "    }\n",
       "</style>\n",
       "<table border=\"1\" class=\"dataframe\">\n",
       "  <thead>\n",
       "    <tr style=\"text-align: right;\">\n",
       "      <th></th>\n",
       "      <th>value</th>\n",
       "    </tr>\n",
       "  </thead>\n",
       "  <tbody>\n",
       "    <tr>\n",
       "      <th>0</th>\n",
       "      <td>Congrats, you found the brains behind the murder! Everyone in SQL City hails you as the greatest SQL detective of all time. Time to break out the champagne!</td>\n",
       "    </tr>\n",
       "  </tbody>\n",
       "</table>\n",
       "</div>"
      ],
      "text/plain": [
       "                                                                                                                                                          value\n",
       "0  Congrats, you found the brains behind the murder! Everyone in SQL City hails you as the greatest SQL detective of all time. Time to break out the champagne!"
      ]
     },
     "execution_count": 44,
     "metadata": {},
     "output_type": "execute_result"
    }
   ],
   "source": [
    "query3 = \"\"\"\n",
    "SELECT value\n",
    "FROM solution\n",
    "\"\"\"\n",
    "\n",
    "sql_query(query3)"
   ]
  },
  {
   "cell_type": "code",
   "execution_count": 48,
   "metadata": {},
   "outputs": [
    {
     "data": {
      "text/html": [
       "<div>\n",
       "<style scoped>\n",
       "    .dataframe tbody tr th:only-of-type {\n",
       "        vertical-align: middle;\n",
       "    }\n",
       "\n",
       "    .dataframe tbody tr th {\n",
       "        vertical-align: top;\n",
       "    }\n",
       "\n",
       "    .dataframe thead th {\n",
       "        text-align: right;\n",
       "    }\n",
       "</style>\n",
       "<table border=\"1\" class=\"dataframe\">\n",
       "  <thead>\n",
       "    <tr style=\"text-align: right;\">\n",
       "      <th></th>\n",
       "      <th>ssn</th>\n",
       "      <th>annual_income</th>\n",
       "    </tr>\n",
       "  </thead>\n",
       "  <tbody>\n",
       "    <tr>\n",
       "      <th>0</th>\n",
       "      <td>361660921</td>\n",
       "      <td>498500</td>\n",
       "    </tr>\n",
       "    <tr>\n",
       "      <th>1</th>\n",
       "      <td>121635236</td>\n",
       "      <td>489800</td>\n",
       "    </tr>\n",
       "    <tr>\n",
       "      <th>2</th>\n",
       "      <td>118015315</td>\n",
       "      <td>486600</td>\n",
       "    </tr>\n",
       "    <tr>\n",
       "      <th>3</th>\n",
       "      <td>541217354</td>\n",
       "      <td>476300</td>\n",
       "    </tr>\n",
       "    <tr>\n",
       "      <th>4</th>\n",
       "      <td>313890530</td>\n",
       "      <td>475700</td>\n",
       "    </tr>\n",
       "    <tr>\n",
       "      <th>5</th>\n",
       "      <td>311494850</td>\n",
       "      <td>473100</td>\n",
       "    </tr>\n",
       "    <tr>\n",
       "      <th>6</th>\n",
       "      <td>800582909</td>\n",
       "      <td>449400</td>\n",
       "    </tr>\n",
       "    <tr>\n",
       "      <th>7</th>\n",
       "      <td>990250718</td>\n",
       "      <td>448000</td>\n",
       "    </tr>\n",
       "    <tr>\n",
       "      <th>8</th>\n",
       "      <td>208676025</td>\n",
       "      <td>446200</td>\n",
       "    </tr>\n",
       "    <tr>\n",
       "      <th>9</th>\n",
       "      <td>625660122</td>\n",
       "      <td>446000</td>\n",
       "    </tr>\n",
       "    <tr>\n",
       "      <th>10</th>\n",
       "      <td>250672272</td>\n",
       "      <td>442300</td>\n",
       "    </tr>\n",
       "    <tr>\n",
       "      <th>11</th>\n",
       "      <td>442830147</td>\n",
       "      <td>440900</td>\n",
       "    </tr>\n",
       "    <tr>\n",
       "      <th>12</th>\n",
       "      <td>828936905</td>\n",
       "      <td>439500</td>\n",
       "    </tr>\n",
       "    <tr>\n",
       "      <th>13</th>\n",
       "      <td>149045552</td>\n",
       "      <td>431400</td>\n",
       "    </tr>\n",
       "    <tr>\n",
       "      <th>14</th>\n",
       "      <td>276609539</td>\n",
       "      <td>427200</td>\n",
       "    </tr>\n",
       "    <tr>\n",
       "      <th>15</th>\n",
       "      <td>583476083</td>\n",
       "      <td>426200</td>\n",
       "    </tr>\n",
       "    <tr>\n",
       "      <th>16</th>\n",
       "      <td>271242578</td>\n",
       "      <td>422200</td>\n",
       "    </tr>\n",
       "    <tr>\n",
       "      <th>17</th>\n",
       "      <td>653649119</td>\n",
       "      <td>410200</td>\n",
       "    </tr>\n",
       "    <tr>\n",
       "      <th>18</th>\n",
       "      <td>251610858</td>\n",
       "      <td>408900</td>\n",
       "    </tr>\n",
       "    <tr>\n",
       "      <th>19</th>\n",
       "      <td>130276880</td>\n",
       "      <td>407100</td>\n",
       "    </tr>\n",
       "  </tbody>\n",
       "</table>\n",
       "</div>"
      ],
      "text/plain": [
       "          ssn  annual_income\n",
       "0   361660921         498500\n",
       "1   121635236         489800\n",
       "2   118015315         486600\n",
       "3   541217354         476300\n",
       "4   313890530         475700\n",
       "5   311494850         473100\n",
       "6   800582909         449400\n",
       "7   990250718         448000\n",
       "8   208676025         446200\n",
       "9   625660122         446000\n",
       "10  250672272         442300\n",
       "11  442830147         440900\n",
       "12  828936905         439500\n",
       "13  149045552         431400\n",
       "14  276609539         427200\n",
       "15  583476083         426200\n",
       "16  271242578         422200\n",
       "17  653649119         410200\n",
       "18  251610858         408900\n",
       "19  130276880         407100"
      ]
     },
     "execution_count": 48,
     "metadata": {},
     "output_type": "execute_result"
    }
   ],
   "source": [
    "query3 = \"\"\"\n",
    "SELECT *\n",
    "FROM income\n",
    "ORDER BY annual_income DESC\n",
    "\"\"\"\n",
    "\n",
    "sql_query(query3).head(20)"
   ]
  }
 ],
 "metadata": {
  "kernelspec": {
   "display_name": ".venv",
   "language": "python",
   "name": "python3"
  },
  "language_info": {
   "codemirror_mode": {
    "name": "ipython",
    "version": 3
   },
   "file_extension": ".py",
   "mimetype": "text/x-python",
   "name": "python",
   "nbconvert_exporter": "python",
   "pygments_lexer": "ipython3",
   "version": "3.10.0"
  }
 },
 "nbformat": 4,
 "nbformat_minor": 2
}
