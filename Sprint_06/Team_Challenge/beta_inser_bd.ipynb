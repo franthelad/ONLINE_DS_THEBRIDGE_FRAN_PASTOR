{
 "cells": [
  {
   "cell_type": "code",
   "execution_count": 1,
   "metadata": {},
   "outputs": [],
   "source": [
    "import openpyxl as opx\n",
    "import sqlite3\n",
    "import pandas as pd\n"
   ]
  },
  {
   "cell_type": "code",
   "execution_count": 2,
   "metadata": {},
   "outputs": [],
   "source": [
    "archivo_excel = opx.load_workbook('C:\\\\Users\\\\franc\\\\Desktop\\\\ONLINE_DS_THEBRIDGE_FRAN_PASTOR\\\\Sprint_06\\\\Team_Challenge\\\\BD.xlsx')\n",
    "hojas = archivo_excel.sheetnames # esto nos va a dar una lista con los nombres de las hojas/tablas\n",
    "\n",
    "# CREAR LA BD Y UN CURSOR PARA INTERACCIONAR CON ELLA\n",
    "\n",
    "conexion = sqlite3.connect('bd_beta.db')\n",
    "cursor_beta = conexion.cursor()\n",
    "\n",
    "#CREAR TABLAS\n",
    "\n",
    "for hoja in archivo_excel.sheetnames:\n",
    "    query_create = f'CREATE TABLE {hoja} (\\n'\n",
    "        \n",
    "    for col in archivo_excel[hoja][1]:\n",
    "        if col == archivo_excel[hoja][1][0]:\n",
    "            query_create += f'{col.value} INTEGER PRIMARY KEY,\\n'\n",
    "        else:\n",
    "            query_create += f'{col.value},\\n'\n",
    "    \n",
    "    query_create += ')'\n",
    "    query_create = query_create.replace(',\\n)', '\\n)')\n",
    "\n",
    "    cursor_beta.execute(query_create)\n"
   ]
  },
  {
   "cell_type": "code",
   "execution_count": 3,
   "metadata": {},
   "outputs": [],
   "source": [
    "# AÑADIR DATOS\n",
    "for tabla in archivo_excel.sheetnames:\n",
    "    columnas = [celda.value for celda in archivo_excel[tabla][1]]\n",
    "    columnas = tuple(columnas)\n",
    "    columnas = str(columnas)\n",
    "\n",
    "    for line in archivo_excel[tabla].iter_rows(2):\n",
    "        \n",
    "        celdas = [celda.value for celda in line]\n",
    "        celdas = tuple(celdas)\n",
    "        celdas = str(celdas)\n",
    "        celdas += ';'\n",
    "\n",
    "        query_insert = f'INSERT INTO {tabla} {columnas} VALUES {celdas}'\n",
    "        cursor_beta.execute(query_insert)\n"
   ]
  },
  {
   "cell_type": "code",
   "execution_count": 4,
   "metadata": {},
   "outputs": [],
   "source": [
    "conexion.commit()"
   ]
  },
  {
   "cell_type": "code",
   "execution_count": 5,
   "metadata": {},
   "outputs": [],
   "source": [
    "conexion = sqlite3.connect('bd_beta.db')\n",
    "cursor_beta = conexion.cursor()\n",
    "\n",
    "query = '''\n",
    "SELECT *\n",
    "FROM stock'''\n",
    "\n",
    "df = pd.read_sql(query, conexion)"
   ]
  },
  {
   "cell_type": "code",
   "execution_count": 6,
   "metadata": {},
   "outputs": [],
   "source": [
    "#conexion.close()"
   ]
  },
  {
   "cell_type": "code",
   "execution_count": 11,
   "metadata": {},
   "outputs": [
    {
     "data": {
      "text/html": [
       "<div>\n",
       "<style scoped>\n",
       "    .dataframe tbody tr th:only-of-type {\n",
       "        vertical-align: middle;\n",
       "    }\n",
       "\n",
       "    .dataframe tbody tr th {\n",
       "        vertical-align: top;\n",
       "    }\n",
       "\n",
       "    .dataframe thead th {\n",
       "        text-align: right;\n",
       "    }\n",
       "</style>\n",
       "<table border=\"1\" class=\"dataframe\">\n",
       "  <thead>\n",
       "    <tr style=\"text-align: right;\">\n",
       "      <th></th>\n",
       "      <th>id_factura</th>\n",
       "      <th>fecha</th>\n",
       "      <th>total</th>\n",
       "      <th>id_proveedor</th>\n",
       "    </tr>\n",
       "  </thead>\n",
       "  <tbody>\n",
       "    <tr>\n",
       "      <th>0</th>\n",
       "      <td>1</td>\n",
       "      <td>12.12.2018</td>\n",
       "      <td>20</td>\n",
       "      <td>1</td>\n",
       "    </tr>\n",
       "    <tr>\n",
       "      <th>1</th>\n",
       "      <td>2</td>\n",
       "      <td>09.08.2020</td>\n",
       "      <td>12</td>\n",
       "      <td>2</td>\n",
       "    </tr>\n",
       "    <tr>\n",
       "      <th>2</th>\n",
       "      <td>3</td>\n",
       "      <td>30.11.2021</td>\n",
       "      <td>23</td>\n",
       "      <td>3</td>\n",
       "    </tr>\n",
       "  </tbody>\n",
       "</table>\n",
       "</div>"
      ],
      "text/plain": [
       "   id_factura       fecha  total  id_proveedor\n",
       "0           1  12.12.2018     20             1\n",
       "1           2  09.08.2020     12             2\n",
       "2           3  30.11.2021     23             3"
      ]
     },
     "execution_count": 11,
     "metadata": {},
     "output_type": "execute_result"
    }
   ],
   "source": [
    "query = '''\n",
    "SELECT *\n",
    "FROM facturas'''\n",
    "\n",
    "df = pd.read_sql(query, conexion)\n",
    "df"
   ]
  }
 ],
 "metadata": {
  "kernelspec": {
   "display_name": "Python 3",
   "language": "python",
   "name": "python3"
  },
  "language_info": {
   "codemirror_mode": {
    "name": "ipython",
    "version": 3
   },
   "file_extension": ".py",
   "mimetype": "text/x-python",
   "name": "python",
   "nbconvert_exporter": "python",
   "pygments_lexer": "ipython3",
   "version": "3.12.0"
  }
 },
 "nbformat": 4,
 "nbformat_minor": 2
}
