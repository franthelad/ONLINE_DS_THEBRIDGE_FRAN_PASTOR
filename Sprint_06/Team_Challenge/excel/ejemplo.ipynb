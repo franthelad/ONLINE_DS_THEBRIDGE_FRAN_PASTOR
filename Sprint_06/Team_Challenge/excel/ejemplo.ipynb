{
 "cells": [
  {
   "cell_type": "code",
   "execution_count": 1,
   "metadata": {},
   "outputs": [],
   "source": [
    "from modulo_bd_excel import *\n",
    "import pandas as pd"
   ]
  },
  {
   "cell_type": "code",
   "execution_count": 4,
   "metadata": {},
   "outputs": [],
   "source": [
    "excel = 'C:\\\\Users\\\\franc\\\\Desktop\\\\ONLINE_DS_THEBRIDGE_FRAN_PASTOR\\\\Sprint_06\\\\Team_Challenge\\\\excel\\\\BD.xlsx'\n",
    "bd = '.\\\\BD.bd'"
   ]
  },
  {
   "cell_type": "code",
   "execution_count": 5,
   "metadata": {},
   "outputs": [],
   "source": [
    "generar_bd(excel, bd)"
   ]
  },
  {
   "cell_type": "code",
   "execution_count": 6,
   "metadata": {},
   "outputs": [
    {
     "ename": "OperationalError",
     "evalue": "near \"(\": syntax error",
     "output_type": "error",
     "traceback": [
      "\u001b[1;31m---------------------------------------------------------------------------\u001b[0m",
      "\u001b[1;31mOperationalError\u001b[0m                          Traceback (most recent call last)",
      "Cell \u001b[1;32mIn[6], line 1\u001b[0m\n\u001b[1;32m----> 1\u001b[0m \u001b[43maniadir_data\u001b[49m\u001b[43m(\u001b[49m\u001b[43mexcel\u001b[49m\u001b[43m,\u001b[49m\u001b[43m \u001b[49m\u001b[43mbd\u001b[49m\u001b[43m)\u001b[49m\n",
      "File \u001b[1;32mc:\\Users\\franc\\Desktop\\ONLINE_DS_THEBRIDGE_FRAN_PASTOR\\Sprint_06\\Team_Challenge\\excel\\modulo_bd_excel.py:56\u001b[0m, in \u001b[0;36maniadir_data\u001b[1;34m(path_excel, path_bd)\u001b[0m\n\u001b[0;32m     53\u001b[0m         celdas \u001b[38;5;241m=\u001b[39m \u001b[38;5;28mstr\u001b[39m(celdas) \u001b[38;5;66;03m# generamos la segunda parte de la query donde encontramos los datos a insertar\u001b[39;00m\n\u001b[0;32m     55\u001b[0m         query_insert \u001b[38;5;241m=\u001b[39m \u001b[38;5;124mf\u001b[39m\u001b[38;5;124m'\u001b[39m\u001b[38;5;124mINSERT INTO \u001b[39m\u001b[38;5;132;01m{\u001b[39;00mtabla\u001b[38;5;132;01m}\u001b[39;00m\u001b[38;5;124m \u001b[39m\u001b[38;5;132;01m{\u001b[39;00mcolumnas\u001b[38;5;132;01m}\u001b[39;00m\u001b[38;5;124m VALUES \u001b[39m\u001b[38;5;132;01m{\u001b[39;00mceldas\u001b[38;5;132;01m}\u001b[39;00m\u001b[38;5;124m;\u001b[39m\u001b[38;5;124m'\u001b[39m \u001b[38;5;66;03m# generamos la query de insercion incluyendo las partes \u001b[39;00m\n\u001b[1;32m---> 56\u001b[0m         \u001b[43mcursor_beta\u001b[49m\u001b[38;5;241;43m.\u001b[39;49m\u001b[43mexecute\u001b[49m\u001b[43m(\u001b[49m\u001b[43mquery_insert\u001b[49m\u001b[43m)\u001b[49m \u001b[38;5;66;03m# ejecutamos la query\u001b[39;00m\n\u001b[0;32m     58\u001b[0m conexion\u001b[38;5;241m.\u001b[39mcommit() \u001b[38;5;66;03m# comiteamos los updates\u001b[39;00m\n\u001b[0;32m     59\u001b[0m conexion\u001b[38;5;241m.\u001b[39mclose() \u001b[38;5;66;03m# cerramos la conexion\u001b[39;00m\n",
      "\u001b[1;31mOperationalError\u001b[0m: near \"(\": syntax error"
     ]
    }
   ],
   "source": [
    "aniadir_data(excel, bd)"
   ]
  },
  {
   "cell_type": "code",
   "execution_count": 22,
   "metadata": {},
   "outputs": [
    {
     "name": "stdout",
     "output_type": "stream",
     "text": [
      "<class 'pandas.core.frame.DataFrame'>\n",
      "RangeIndex: 3 entries, 0 to 2\n",
      "Data columns (total 10 columns):\n",
      " #   Column        Non-Null Count  Dtype  \n",
      "---  ------        --------------  -----  \n",
      " 0   id_proveedor  3 non-null      int64  \n",
      " 1   nombre        3 non-null      object \n",
      " 2   direccion     3 non-null      object \n",
      " 3   telefono      3 non-null      int64  \n",
      " 4   email         3 non-null      object \n",
      " 5   id_producto   3 non-null      int64  \n",
      " 6   nombre        3 non-null      object \n",
      " 7   tipo          3 non-null      object \n",
      " 8   precio        3 non-null      float64\n",
      " 9   id_proveedor  3 non-null      int64  \n",
      "dtypes: float64(1), int64(4), object(5)\n",
      "memory usage: 372.0+ bytes\n"
     ]
    }
   ],
   "source": [
    "conexion = sqlite3.connect(bd)\n",
    "\n",
    "query = '''\n",
    "SELECT * \n",
    "FROM proveedores AS a\n",
    "RIGHT JOIN productos AS b ON a.id_proveedor = b.id_proveedor'''\n",
    "\n",
    "df = pd.read_sql(query, conexion)\n",
    "df.info()"
   ]
  }
 ],
 "metadata": {
  "kernelspec": {
   "display_name": "Python 3",
   "language": "python",
   "name": "python3"
  },
  "language_info": {
   "codemirror_mode": {
    "name": "ipython",
    "version": 3
   },
   "file_extension": ".py",
   "mimetype": "text/x-python",
   "name": "python",
   "nbconvert_exporter": "python",
   "pygments_lexer": "ipython3",
   "version": "3.12.0"
  }
 },
 "nbformat": 4,
 "nbformat_minor": 2
}
