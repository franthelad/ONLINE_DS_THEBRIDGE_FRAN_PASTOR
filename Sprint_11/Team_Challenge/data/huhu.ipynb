{
 "cells": [
  {
   "cell_type": "code",
   "execution_count": 3,
   "metadata": {},
   "outputs": [],
   "source": [
    "import pandas as pd\n",
    "from scipy.stats import pearsonr"
   ]
  },
  {
   "cell_type": "code",
   "execution_count": 12,
   "metadata": {},
   "outputs": [],
   "source": [
    "def get_features_num_regresion(dataframe, target_col, umbral_corr, pvalue= None):\n",
    "\n",
    "    '''\n",
    "    La funcion get_features_num_regresion devuelve las features para la creacion de un modelo de machine learning.\n",
    "\n",
    "    Estas features deben ser variables numericas y disponer de una correlacón y significacion estadistica significativa con el target, definidos previamente por el usuario.\n",
    "    La significacion estadistica es nula por defecto.\n",
    "\n",
    "    Argumentos:\n",
    "\n",
    "    .-dataframe(pandas.core.frame.DataFrame) -> un dataframe pandas sobre el que realizar el estudio\n",
    "    .-target_col(str) -> la columna seleccionada como target para nuestro modelo\n",
    "    .-umbral_corr(float) -> la correlacion minima exigida a una variable con el target para ser designado como feature. Debe estar comprendido entre 0 y 1\n",
    "    .-pvalue(float) -> la significacion estadistica Pearson maxima exigida a una variable para ser designada como feature (generalmente 0.005). None por defecto\n",
    "\n",
    "    Retorna:\n",
    "\n",
    "    Lista con las columnas designadas como features para el modelo.\n",
    "    Tipo lista compuesto por cadenas de texto.\n",
    "    '''\n",
    "\n",
    "    cardinalidad = dataframe[target_col].nunique() / len(dataframe[target_col])\n",
    "\n",
    "    if (umbral_corr < 0) or (umbral_corr > 1):\n",
    "\n",
    "        print('Variable umbral_corr incorrecto.')\n",
    "        return None\n",
    "\n",
    "    elif dataframe[target_col].dtype not in ['int8', 'int16', 'int32','int64', 'float16', 'float32', 'float64']:\n",
    "\n",
    "        print('La columna seleccionada como target debe ser numerica.')\n",
    "        return None\n",
    "    \n",
    "    elif cardinalidad < 0: # este no se si ponerlo\n",
    "\n",
    "        print('Tu variable target tiene una cardinalidad muy baja para ser target.')\n",
    "        return None\n",
    "    \n",
    "    lista_numericas = []\n",
    "    for column in dataframe.columns:\n",
    "        \n",
    "        if dataframe[column].dtypes in ['int8', 'int16', 'int32','int64', 'float16', 'float32', 'float64']:\n",
    "            lista_numericas.append(column)\n",
    "\n",
    "    lista_numericas.remove(target_col)\n",
    "    lista_features = []\n",
    "    for columna in lista_numericas:\n",
    "\n",
    "        no_nulos = dataframe.dropna(subset= [target_col, columna])\n",
    "        corr, pearson = pearsonr(no_nulos[target_col], no_nulos[columna])\n",
    "\n",
    "        if pvalue != None:\n",
    "            if (abs(corr) >= umbral_corr) and (pearson <= pvalue):\n",
    "                lista_features.append(columna)\n",
    "        else:\n",
    "            if abs(corr) >= umbral_corr:\n",
    "                lista_features.append(columna)\n",
    "    \n",
    "    return lista_features"
   ]
  },
  {
   "cell_type": "code",
   "execution_count": 6,
   "metadata": {},
   "outputs": [],
   "source": [
    "df_titanic = pd.read_csv('titanic.csv')\n",
    "df_california = pd.read_csv('california_cities.csv')\n",
    "df_pokemon = pd.read_csv('pokemon.csv')"
   ]
  },
  {
   "cell_type": "code",
   "execution_count": 7,
   "metadata": {},
   "outputs": [
    {
     "data": {
      "text/plain": [
       "['area_total_sq_mi', 'area_land_sq_mi', 'area_total_km2', 'area_land_km2']"
      ]
     },
     "execution_count": 7,
     "metadata": {},
     "output_type": "execute_result"
    }
   ],
   "source": [
    "get_features_num_regresion(df_california, 'population_total', 0.6)"
   ]
  },
  {
   "cell_type": "code",
   "execution_count": 11,
   "metadata": {},
   "outputs": [
    {
     "data": {
      "text/plain": [
       "['against_fairy',\n",
       " 'base_egg_steps',\n",
       " 'base_happiness',\n",
       " 'base_total',\n",
       " 'defense',\n",
       " 'experience_growth',\n",
       " 'height_m',\n",
       " 'hp',\n",
       " 'sp_attack',\n",
       " 'sp_defense',\n",
       " 'speed',\n",
       " 'weight_kg',\n",
       " 'is_legendary']"
      ]
     },
     "execution_count": 11,
     "metadata": {},
     "output_type": "execute_result"
    }
   ],
   "source": [
    "get_features_num_regresion(df_pokemon, 'attack', 0.2)"
   ]
  }
 ],
 "metadata": {
  "kernelspec": {
   "display_name": "Python 3",
   "language": "python",
   "name": "python3"
  },
  "language_info": {
   "codemirror_mode": {
    "name": "ipython",
    "version": 3
   },
   "file_extension": ".py",
   "mimetype": "text/x-python",
   "name": "python",
   "nbconvert_exporter": "python",
   "pygments_lexer": "ipython3",
   "version": "3.12.0"
  }
 },
 "nbformat": 4,
 "nbformat_minor": 2
}
