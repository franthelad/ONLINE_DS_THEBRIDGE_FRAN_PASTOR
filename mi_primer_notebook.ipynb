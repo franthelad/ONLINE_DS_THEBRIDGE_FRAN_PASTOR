{
 "cells": [
  {
   "cell_type": "code",
   "execution_count": 1,
   "id": "da1d965e-bb22-4966-b14c-682fd00b1be7",
   "metadata": {},
   "outputs": [
    {
     "name": "stdout",
     "output_type": "stream",
     "text": [
      "Hola mundo\n"
     ]
    }
   ],
   "source": [
    "print('Hola mundo')"
   ]
  },
  {
   "cell_type": "markdown",
   "id": "cb4ca754-0381-439d-9dd6-b5333bfa56ac",
   "metadata": {},
   "source": [
    "Que dice ese equipo!! Es la primera vez que veo jupyter notebook pero basicamente parece lo mismo del visual code no? jejej creo que visual code parece mas comodo, aunque quizas simplemente es que estoy mas familiarizado con el."
   ]
  },
  {
   "cell_type": "code",
   "execution_count": null,
   "id": "0cb67638-2579-4713-8216-ea97541d6f77",
   "metadata": {},
   "outputs": [],
   "source": []
  }
 ],
 "metadata": {
  "kernelspec": {
   "display_name": "Python 3 (ipykernel)",
   "language": "python",
   "name": "python3"
  },
  "language_info": {
   "codemirror_mode": {
    "name": "ipython",
    "version": 3
   },
   "file_extension": ".py",
   "mimetype": "text/x-python",
   "name": "python",
   "nbconvert_exporter": "python",
   "pygments_lexer": "ipython3",
   "version": "3.12.0"
  }
 },
 "nbformat": 4,
 "nbformat_minor": 5
}
