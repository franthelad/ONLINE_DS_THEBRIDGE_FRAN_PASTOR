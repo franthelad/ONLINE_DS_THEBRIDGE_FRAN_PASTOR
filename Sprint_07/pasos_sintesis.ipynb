{
 "cells": [
  {
   "cell_type": "markdown",
   "metadata": {},
   "source": [
    "PARTE I  \n",
    "1. **Establecer objetivos**  \n",
    "1. **Completar la definición de los datos/Rellenar fichas datasets**\n",
    "2. **Tipificar los datos**\n",
    "3. **Priorizar variables** \n",
    "\n",
    "PARTE II  \n",
    "4. **Aplicar tendencia central a todas las variables**  \n",
    "5. **Analizar las frecuencias de las variables categóricas**: Gráficos de barras   \n",
    "6. **Analizar las medidas de posición y los rangos de las variables numéricas**: Graficos de Caja  \n",
    "7. **Analizar las medidas de dispersión de las variables numéricas**  \n",
    "8. **Analizar las distribuciones de las variables numéricas**: Histogramas y funciones estimadas de densidad (combinados)  \n",
    "9. **Analizar las anomalías o outliers**: confrontación de histogramas y gráficos de cajas. Umbrales (2-3 desviaciones estándar, 4.5 en tamaño \"bigotes\")  \n",
    "10. **Trata los outliers**: separa en dos, elimina, crea una categoría especial...   \n",
    "\n",
    "PARTE III  \n",
    "11. **Revisa prioridades, preguntas y notas hasta el momento**  \n",
    "12. **Preparara el analisis bivariante** en función de la revisión anterior.  \n",
    "13. **Empieza por categóricas importantes/target**: combinalas con categóricas y numéricas  \n",
    "14. **Sigue con numéricas importantes/target**  \n",
    "15. **Analiza las parejas de variables que necesites para contestar tus preguntas**  \n",
    "    15.1 **Es directo así que: Matriz de correlación, heatmap y pairplot**  \n",
    "16. **Recapitula**: Clasifica ya tus hallazgos en posibles mensajes, elementos a profundizar, cosas interesantes pero no importantes (descártalas). Añade las preguntas contestadas y la lista de preguntas sin contestar.  \n",
    "\n",
    "PARTE IV  \n",
    "17. **Intenta resolver todas las preguntas pendientes**  \n",
    "18. Si necesitas análisis más complicados (3 o más variables): Planifica muy bien que grupos  \n",
    "19. Aplica lo visto en estas sesiones, tendrás que probar variaciones hasta llegar a encontrar el punto adecuado.  \n",
    "20. **Acaba el análisis**: Cierras las preguntas pendientes, lo que te quede por trabajar -> Lineas de trabajo futuro.  \n",
    "\n"
   ]
  }
 ],
 "metadata": {
  "language_info": {
   "name": "python"
  }
 },
 "nbformat": 4,
 "nbformat_minor": 2
}
