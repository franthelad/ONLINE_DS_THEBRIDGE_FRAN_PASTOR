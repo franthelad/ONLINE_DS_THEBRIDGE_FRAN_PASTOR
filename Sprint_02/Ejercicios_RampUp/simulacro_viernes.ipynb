{
 "cells": [
  {
   "attachments": {},
   "cell_type": "markdown",
   "metadata": {},
   "source": [
    "# Simulacro Rampup"
   ]
  },
  {
   "cell_type": "code",
   "execution_count": 1,
   "metadata": {},
   "outputs": [],
   "source": [
    "# Escribe tu nombre y apellidos (apellido si solo tienes uno) en las variables:\n",
    "nombre = \"Francisco Jesus\"\n",
    "apellidos = \"Pastor Sanchez\""
   ]
  },
  {
   "cell_type": "code",
   "execution_count": 2,
   "metadata": {},
   "outputs": [
    {
     "name": "stdout",
     "output_type": "stream",
     "text": [
      "Bienvenido Francisco Jesus Pastor Sanchez. Mucha suerte!\n"
     ]
    }
   ],
   "source": [
    "# Solo ejecutar\n",
    "nombre_apellidos = nombre + ' ' + apellidos\n",
    "print(\"Bienvenido\", nombre_apellidos + '. Mucha suerte!')"
   ]
  },
  {
   "cell_type": "markdown",
   "metadata": {},
   "source": [
    "### Ejercicio 1: Calculadoras (3 puntos)\n"
   ]
  },
  {
   "cell_type": "markdown",
   "metadata": {},
   "source": [
    "Construye un programa que:\n",
    "\n",
    "- Salude al usuario por su nombre\n",
    "- Le pregunte si quiere sumar, restar, multiplicar o dividir\n",
    "- Pida que introduzca 2 números de manera sucesiva\n",
    "- Devuelva el resultado de manera formal con un mensaje apropiado \n",
    "\n",
    "**Ayuda**: No se puede dividir por 0"
   ]
  },
  {
   "cell_type": "code",
   "execution_count": 8,
   "metadata": {},
   "outputs": [
    {
     "name": "stdout",
     "output_type": "stream",
     "text": [
      "Hola Francisco Jesus!!\n",
      "No podemos dividir entre 0!!\n"
     ]
    }
   ],
   "source": [
    "print(f'Hola {nombre}!!')\n",
    "operaciones = ['sumar', 'restar', 'multiplicar', 'dividir']\n",
    "\n",
    "operacion = (input('Que quieres hacer? Sumar / Restar / Multiplicar / Dividir')).lower()\n",
    "\n",
    "while operacion not in operaciones:\n",
    "    operacion = input('Esa no es una opcion valida. Que quieres hacer? Sumar / Restar / Multiplicar / Dividir')\n",
    "\n",
    "valido = False\n",
    "while valido == False:\n",
    "    try:\n",
    "        dato_1 = float(input('Introduce el primer dato con el que operar: '))\n",
    "        dato_2 = float(input('Introduce el segundo dato con el que operar: '))\n",
    "        valido = True\n",
    "    except BaseException:\n",
    "        print('Has introducido datos invalidos!')\n",
    "try:\n",
    "    if operacion == 'sumar':\n",
    "        print(f'{dato_1} + {dato_2} da un resultado de', dato_1 + dato_2, '.')\n",
    "    elif operacion == 'restar':\n",
    "        print(f'{dato_1} - {dato_2} da un resultado de', dato_1 - dato_2, '.')\n",
    "    elif operacion == 'multiplicar':\n",
    "        print(f'{dato_1} * {dato_2} da un resultado de', dato_1 * dato_2, '.')\n",
    "    elif operacion == 'dividir':\n",
    "        print(f'{dato_1} / {dato_2} da un resultado de', dato_1 / dato_2, '.')\n",
    "except ZeroDivisionError:\n",
    "    print('No podemos dividir entre 0!!')"
   ]
  },
  {
   "cell_type": "markdown",
   "metadata": {},
   "source": [
    "Construye una calculadora que sea como la anterior pero:\n",
    "\n",
    "- Acepte tantos valores de entrada como queramos\n",
    "- Devuelva mensajes con las cuentas que se van haciendo.\n",
    "- Permita salir con una palabra clave (exit, quit, ...)"
   ]
  },
  {
   "cell_type": "code",
   "execution_count": 29,
   "metadata": {},
   "outputs": [
    {
     "name": "stdout",
     "output_type": "stream",
     "text": [
      "Si metes un 0 vas a romper las operaciones cuando sea el divisor. No lo voy a coger. Mete otro.\n",
      "1.0 / 2.0 da un resultado de 0.5 .\n",
      "0.5 / 3.0 da un resultado de 0.16666666666666666 .\n",
      "0.16666666666666666 / 3.0 da un resultado de 0.05555555555555555 .\n",
      "0.05555555555555555 / 2.0 da un resultado de 0.027777777777777776 .\n",
      "0.027777777777777776 / 1.0 da un resultado de 0.027777777777777776 .\n"
     ]
    }
   ],
   "source": [
    "operaciones = ['sumar', 'restar', 'multiplicar', 'dividir']\n",
    "\n",
    "operacion = (input('Que quieres hacer? Sumar / Restar / Multiplicar / Dividir')).lower()\n",
    "\n",
    "while operacion not in operaciones:\n",
    "    operacion = input('Esa no es una opcion valida. Que quieres hacer? Sumar / Restar / Multiplicar / Dividir')\n",
    "\n",
    "lista_datos = []\n",
    "while True:\n",
    "    try:\n",
    "        dato = input('Introduce un dato con el que operar. Puedes introducir tantos datos como quieras. Para dejar de introducir datos introduce \"Exit\": ')\n",
    "        if dato in ['Exit', 'exit']:\n",
    "            break\n",
    "        elif (operacion == 'dividir') and (float(dato) == 0):\n",
    "            print('Si metes un 0 vas a romper las operaciones cuando sea el divisor. No lo voy a coger. Mete otro.')\n",
    "            continue\n",
    "        dato = float(dato)\n",
    "        lista_datos.append(dato)\n",
    "    except BaseException:\n",
    "        print(f'No puedo operar con {dato}!')\n",
    "resultado = 0\n",
    "resultado_1 = 1\n",
    "for i in range(len(lista_datos)-1):\n",
    "     \n",
    "    if operacion == 'sumar':\n",
    "        if resultado == 0:\n",
    "            print(f'{lista_datos[i]} + {lista_datos[i+1]} da un resultado de', lista_datos[i] + lista_datos[i+1], '.')\n",
    "            resultado = lista_datos[i] + lista_datos[i+1]  \n",
    "        else:\n",
    "            print(f'{resultado} + {lista_datos[i+1]} da un resultado de', resultado + lista_datos[i+1], '.')\n",
    "            resultado += lista_datos[i+1]           \n",
    "    elif operacion == 'restar':\n",
    "        if resultado == 0:\n",
    "            print(f'{lista_datos[i]} - {lista_datos[i+1]} da un resultado de', lista_datos[i] - lista_datos[i+1], '.')\n",
    "            resultado = lista_datos[i] - lista_datos[i+1]  \n",
    "        else:\n",
    "            print(f'{resultado} - {lista_datos[i+1]} da un resultado de', resultado - lista_datos[i+1], '.')\n",
    "            resultado -= lista_datos[i+1]   \n",
    "    elif operacion == 'multiplicar':\n",
    "        if resultado_1 == 1:\n",
    "            print(f'{lista_datos[i]} * {lista_datos[i+1]} da un resultado de', lista_datos[i] * lista_datos[i+1], '.')\n",
    "            resultado_1 = lista_datos[i] * lista_datos[i+1]  \n",
    "        else:\n",
    "            print(f'{resultado_1} * {lista_datos[i+1]} da un resultado de', resultado_1 * lista_datos[i+1], '.')\n",
    "            resultado_1*= lista_datos[i+1]   \n",
    "    elif operacion == 'dividir':\n",
    "        if resultado_1 == 1:\n",
    "            print(f'{lista_datos[i]} / {lista_datos[i+1]} da un resultado de', lista_datos[i] / lista_datos[i+1], '.')\n",
    "            resultado_1 = lista_datos[i] / lista_datos[i+1]  \n",
    "        else:\n",
    "            print(f'{resultado_1} / {lista_datos[i+1]} da un resultado de', resultado_1 / lista_datos[i+1], '.')\n",
    "            resultado_1 /= lista_datos[i+1]   "
   ]
  },
  {
   "cell_type": "markdown",
   "metadata": {},
   "source": [
    "### Ejercicio 2 (4 puntos)\n",
    "\n",
    "Escribe un programa que trabaje con 3 listas:\n",
    "\n",
    "La lista ***grupo_musical*** contiene strings.\n",
    "\n",
    "La lista ***generos*** contiene strings.\n",
    "\n",
    "La lista ***anios*** puede contener un entero o tuplas.\n",
    "\n",
    "Ejemplo de datos:\n",
    "\n",
    ">\"ABBA\"\n",
    ">\n",
    ">\"pop\"\n",
    ">\n",
    ">(1972, 1982)\n",
    "\n",
    "Otro ejemplo:\n",
    "\n",
    ">\"Madonna\"\n",
    ">\n",
    ">\"pop\"\n",
    ">\n",
    ">1983\n",
    "\n",
    "Otro ejemplo:\n",
    "\n",
    ">\"Kölsch\"\n",
    ">\n",
    ">\"electronica\"\n",
    ">\n",
    ">1995\n",
    "\n",
    "Un grupo musical solo puede tener un género musical.\n",
    "Un grupo musical debe tener como mínimo un año de formación, que es un entero.\n",
    "Un grupo musical, si tuviese año de disolución, la información se guardaría en una tupla.\n",
    "\n",
    "Se pide implementar:\n",
    "\n",
    "a. Una función llamada *inserta* que acepte 4 parámetros (grupo, genero, comienzo, fin). El fin por defecto debe ser un objeto nulo. El grupo se inserta en la lista de grupos. El genero se inserta en la lista de géneros. El comienzo o comienzo y fin se inserta en la lista de años. La función no tiene valor retornado.\n",
    "\n",
    "b. Una función *busca_genero* con un parámetro de tipo string (genero) y devuelve una lista con todos los grupos de ese género.\n",
    "\n",
    "c. Una función *busca_grupos* con un parámetro booleano llamado *activos* con un valor por defecto verdadero. Cuando el valor es verdadero, devuelve solo los grupos activos en una lista. Cuando *activos* es falso, devuelve todos los grupos disueltos en una lista.\n",
    "\n",
    "d. Una función *busca_genero_indice* con un parámetro de tipo string (genero) que devuelve una lista con los índices donde se encuentra ese género.\n",
    "\n",
    "e. Una función *filtra_listas_genero* con un parámetro de tipo string (genero) que devuelve una tupla con las 3 listas filtradas y ***llame*** a busca_genero_indice\n",
    "\n",
    "f. Una función *anios_activos* que no tenga parámetros de entrada ni valor retornado que imprima línea a línea la información: grupo musical ---> años activos. Es decir: \n",
    "\n",
    ">ABBA ---> 10 años activos\n",
    ">\n",
    ">Madonna --> 40 años activos\n",
    ">\n",
    ">Kölsch --> 25 años activos\n",
    "\n",
    "\n",
    "Nota: si no te sale un apartado después de un tiempo prudencial, ¡pasa al siguiente!"
   ]
  },
  {
   "cell_type": "code",
   "execution_count": 12,
   "metadata": {},
   "outputs": [
    {
     "name": "stdout",
     "output_type": "stream",
     "text": [
      "['Extremoduro', 'The Police', 'Arde Bogotá']\n",
      "['rock', 'rock', 'indie']\n",
      "[1987, (1977, 1986), 2015]\n",
      "\n",
      "['Extremoduro', 'The Police']\n",
      "\n",
      "['Extremoduro', 'Arde Bogotá']\n",
      "\n",
      "['The Police']\n",
      "\n",
      "[0, 1]\n",
      "\n",
      "Extremoduro --> 37 años activos.\n",
      "The Police --> 9 años activos.\n",
      "Arde Bogotá --> 9 años activos.\n"
     ]
    }
   ],
   "source": [
    "grupo_musical = []\n",
    "genero_musical = []\n",
    "año = []\n",
    "\n",
    "def inserta(grupo:str, genero:str, comienzo:int, fin = None):\n",
    "\n",
    "    grupo_musical.append(grupo)\n",
    "    genero_musical.append(genero)\n",
    "    \n",
    "    if fin != None:\n",
    "        año.append((comienzo, fin))\n",
    "    else:\n",
    "        año.append(comienzo)\n",
    "\n",
    "    return None\n",
    "\n",
    "def busca_genero(genero:str):\n",
    "\n",
    "    grupos = []\n",
    "    for gen in range(len(genero_musical)):\n",
    "        if genero_musical[gen] == genero:\n",
    "            grupos.append(grupo_musical[gen])\n",
    "    \n",
    "    return grupos\n",
    "\n",
    "def busca_grupos(activos = True):\n",
    "\n",
    "    grupos = []\n",
    "    if activos == False:\n",
    "        for i in range(len(año)):\n",
    "            if type(año[i]) == tuple:\n",
    "                grupos.append(grupo_musical[i])\n",
    "    elif activos == True:\n",
    "        for i in range(len(año)):\n",
    "            if type(año[i]) == int:\n",
    "                grupos.append(grupo_musical[i])\n",
    "    return grupos  \n",
    "\n",
    "def busca_genero_indice(genero:str):\n",
    "\n",
    "    indices = []\n",
    "    for gen in range(len(genero_musical)):\n",
    "        if genero_musical[gen] == genero:\n",
    "            indices.append(gen)\n",
    "    \n",
    "    return indices\n",
    "\n",
    "def filtra_listas_genero(genero:str):\n",
    "\n",
    "    grupos_filtrados = []\n",
    "    años_filtrados = []\n",
    "    filtrados = (grupos_filtrados, años_filtrados)\n",
    "\n",
    "    index = busca_genero_indice(genero)\n",
    "    for i in index:\n",
    "        grupos_filtrados.append(grupo_musical[i])\n",
    "        años_filtrados.append(año[i])\n",
    "\n",
    "    return filtrados\n",
    "\n",
    "def años_activos():\n",
    "\n",
    "    for grup in range(len(grupo_musical)):\n",
    "        if type(año[grup]) == tuple:\n",
    "            #print('tupla')\n",
    "            años = año[grup][1] - año[grup][0]\n",
    "        elif type(año[grup]) == int:\n",
    "            #print('int')\n",
    "            años = 2024 - año[grup]\n",
    "\n",
    "        print(f'{grupo_musical[grup]} --> {años} años activos.')\n",
    "\n",
    "inserta('Extremoduro', 'rock', 1987)\n",
    "inserta('The Police', 'rock', 1977, 1986)\n",
    "inserta('Arde Bogotá', 'indie', 2015)\n",
    "print(grupo_musical)\n",
    "print(genero_musical)\n",
    "print(año)\n",
    "print()\n",
    "print(busca_genero('rock'))\n",
    "print()\n",
    "print(busca_grupos())\n",
    "print()\n",
    "print(busca_grupos(False))\n",
    "print()\n",
    "print(busca_genero_indice('rock'))\n",
    "print()\n",
    "años_activos()"
   ]
  },
  {
   "attachments": {},
   "cell_type": "markdown",
   "metadata": {},
   "source": [
    "### Ejercicio 3 (3 puntos)\n",
    "\n",
    "#### Crear un programa que calcule la cuota de una hipoteca\n",
    "\n",
    "Las cuotas hipotecarias se calculan utilizando la fórmula del interés francés. \n",
    "\n",
    "La fórmula del interés francés es la siguiente:\n",
    "\\begin{align*}\n",
    "C=V \\frac{(1+i)^n i}{(1+i)^n -1}\n",
    "\\end{align*}\n",
    "\n",
    "\n",
    "    C = cuota a pagar (mensual)\n",
    "    V = volumen del préstamo hipotecario\n",
    "    i = tipo de interés del período (mensual)\n",
    "    n = número de cuotas (mensuales)\n",
    "\n"
   ]
  },
  {
   "attachments": {},
   "cell_type": "markdown",
   "metadata": {},
   "source": [
    "1. Crea un programa que solicite al usuario los datos de su hipoteca mediante input() los datos (volumen, interés **anual**, y plazo en **años**) y le devuelva la cuota **mensual** a pagar. No es necesario encapsularlo en funciones. (0.4)"
   ]
  },
  {
   "cell_type": "code",
   "execution_count": 12,
   "metadata": {},
   "outputs": [
    {
     "name": "stdout",
     "output_type": "stream",
     "text": [
      "Tu cuota mensual es de 443.54 €.\n"
     ]
    }
   ],
   "source": [
    "v = float(input('Inserta el volumen total de tu prestamo hipotecario: '))\n",
    "i = float(input('Inserta tu tipo de interes en tantos por uno. Ejemplo: 10% equivale a 0.1, 2% equivale a 0.02. ')) / 12\n",
    "n = int(input('Inserta la cantidad de años: ')) * 12\n",
    "\n",
    "c = v * ((1 + i)**n * i) / (((1 + i)**n) - 1)\n",
    "\n",
    "print(f'Tu cuota mensual es de {round(c, 2)} €.')"
   ]
  },
  {
   "attachments": {},
   "cell_type": "markdown",
   "metadata": {},
   "source": [
    "2. Crea una función `calcular_hip` que realiza el cálculo y cuyos argumentos de entrada sean `volumen`, `interes_anual` y `años`, devolviendo la couta mensual(float). El argumento de `años` deberá de tener un valor por defecto de 30. Documenta la función con el estilo de Google.  (0.4)"
   ]
  },
  {
   "cell_type": "code",
   "execution_count": 13,
   "metadata": {},
   "outputs": [
    {
     "name": "stdout",
     "output_type": "stream",
     "text": [
      "443.54\n"
     ]
    }
   ],
   "source": [
    "def calcular_hip(volumen, interes_anual, años = 30):\n",
    "    v = volumen\n",
    "    i = (interes_anual / 100) / 12 \n",
    "    n = años * 12\n",
    "\n",
    "    c = v * (i * (1 + i)**n) / (((1 + i)**n) - 1)\n",
    "\n",
    "    return round(c, 2)\n",
    "\n",
    "print(calcular_hip(120000, 2))"
   ]
  },
  {
   "attachments": {},
   "cell_type": "markdown",
   "metadata": {},
   "source": [
    "3. Calcula la cuota y guárdala en la variable `res_cuota` si la cantidad de la hipoteca son 350000 euros, el interés anual es del 5% y la quiere pagar en 20 años a partir de la función `calcular_hip`. (0.4)\n",
    "\n"
   ]
  },
  {
   "cell_type": "code",
   "execution_count": 14,
   "metadata": {},
   "outputs": [
    {
     "name": "stdout",
     "output_type": "stream",
     "text": [
      "2309.85\n"
     ]
    }
   ],
   "source": [
    "res_cuota = calcular_hip(350000, 5, 20)\n",
    "\n",
    "print(res_cuota)"
   ]
  },
  {
   "attachments": {},
   "cell_type": "markdown",
   "metadata": {},
   "source": [
    "4. Crea una función `gasto_vivienda`, con dos argumentos de entrada `ingreso` y `lista_hip`. Esta lista tendrá los 3 valores de los argumentos de entrada de `calcular_hip`, llamando a esta función desde dentro de `gasto_vivienda`. Tiene que devolver el valor del porcentaje de gasto en la hipoteca respecto a los ingresos. (Entre 0 y 1, es decir 0.5 si es del 50%) Documenta la función. (0.4)"
   ]
  },
  {
   "cell_type": "code",
   "execution_count": 18,
   "metadata": {},
   "outputs": [
    {
     "name": "stdout",
     "output_type": "stream",
     "text": [
      "0.37\n"
     ]
    }
   ],
   "source": [
    "datos = [120000, 2, 30]\n",
    "def gasto_vivienda(ingreso, lista_hip):\n",
    "\n",
    "    hip = calcular_hip(lista_hip[0], lista_hip[1], lista_hip[2])\n",
    "\n",
    "    return round(hip / ingreso, 2) \n",
    "\n",
    "print(gasto_vivienda(1200, datos))"
   ]
  },
  {
   "attachments": {},
   "cell_type": "markdown",
   "metadata": {},
   "source": [
    "5. Calcula el porcentaje de gasto en la hipoteca si el ingreso es de 1700 euros y guárdalo en la variable `res_porcentaje` a partir de la función `gasto_vivienda`. (0.4)\n"
   ]
  },
  {
   "cell_type": "code",
   "execution_count": 20,
   "metadata": {},
   "outputs": [
    {
     "name": "stdout",
     "output_type": "stream",
     "text": [
      "0.26\n"
     ]
    }
   ],
   "source": [
    "res_porcentaje = gasto_vivienda(1700, datos)\n",
    "print(res_porcentaje)"
   ]
  }
 ],
 "metadata": {
  "kernelspec": {
   "display_name": "Python 3 (ipykernel)",
   "language": "python",
   "name": "python3"
  },
  "language_info": {
   "codemirror_mode": {
    "name": "ipython",
    "version": 3
   },
   "file_extension": ".py",
   "mimetype": "text/x-python",
   "name": "python",
   "nbconvert_exporter": "python",
   "pygments_lexer": "ipython3",
   "version": "3.12.0"
  },
  "vscode": {
   "interpreter": {
    "hash": "90139cb9a825bf3d63f6f6704e828dbd1ff7edbd4d0c6e906a71235d6efc74af"
   }
  }
 },
 "nbformat": 4,
 "nbformat_minor": 4
}
