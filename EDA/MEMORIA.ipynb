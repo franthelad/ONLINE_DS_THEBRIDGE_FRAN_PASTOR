{
 "cells": [
  {
   "cell_type": "markdown",
   "metadata": {},
   "source": [
    "PUNTO 1\n",
    "\n",
    "He planteado como objetivo acercar la cultura del ajedrez a mis oyentes y quizas con suerte atraerlos al juego y convertirlos en mis compañeros para jugar =D\n",
    "\n",
    "Para ello he explicado brevemente conceptos como organismos, titulos o sistema de puntuacion y he realizado estudios y estadisticas en base a estos conceptos.\n",
    "\n",
    "He utilizado diferentes bases de datos que enumerare a continuacion. Podreis encontrar estas bases de datos y sus respectivos analisis estructurados en una jerarquia de carpetas y archivos.\n",
    "\n",
    "Algunos de los datos obtenidos han sido utilizados y otros no, encontraras graficas o estadisticas omitidos en la presentacion, pero que dejo para su evaluacion.   \n",
    "\n",
    "Hay anotaciones y comprobaciones personales que he ido marcando para hacerlo mas entendible."
   ]
  },
  {
   "cell_type": "markdown",
   "metadata": {},
   "source": [
    "# CARPETA PRINCIPAL"
   ]
  },
  {
   "cell_type": "markdown",
   "metadata": {},
   "source": [
    "NOTAS.TXT\n",
    "\n",
    "aqui he ido añadiendo notas y comentarios de cara a la presentacion. Una guia."
   ]
  },
  {
   "cell_type": "markdown",
   "metadata": {},
   "source": [
    "PRESENTACION\n",
    "\n",
    "powerpoint con la presentacion"
   ]
  },
  {
   "cell_type": "markdown",
   "metadata": {},
   "source": [
    "## CARPETA IMAGES\n",
    "\n",
    "imagenes que utilice para la presentacion"
   ]
  },
  {
   "cell_type": "markdown",
   "metadata": {},
   "source": [
    "## CARPETA DATA"
   ]
  },
  {
   "cell_type": "markdown",
   "metadata": {},
   "source": [
    "### data_20000p_2021_historico\n",
    "\n",
    "este es una base de datos con 20000 jugadores historicos titulados aprox y datos de puntuaciones, titulos, obtencion de los titulos, etc  \n",
    "\n",
    "aqui encontraremos  \n",
    "un archivo ipynb donde he limpiado los datos  \n",
    "un archivo ipynb donde realizo el analisis con los datos limpios  \n",
    "3 archivo .csv donde he ido segregando la base de datos original en funcion de mis necesidades  \n",
    "graficas exportadas a archivos .png para utilizarlas en el powerpint  \n",
    "un archivo de notas donde voy anotando cositas del analisis que me llaman la tencion, hipotesis, varios en general"
   ]
  },
  {
   "cell_type": "markdown",
   "metadata": {},
   "source": [
    "### data_fide  \n",
    "\n",
    "este es una base de datos con 5000 jugadores fide aprox y datos de puntuaciones, titulos, edad, nacionalidad, etc\n",
    "este date estaba practicamente limpio asi que no hay ipynb de limpieza    \n",
    "\n",
    "aqui encontraremos  \n",
    "un archivo ipynb donde realizo el analisis (df_active_2023.ipynb)  \n",
    "1 archivo .csv donde se encuentra la data  \n",
    "graficas exportadas a archivos .png para utilizarlas en el powerpint  \n",
    "aqui no hay archivo de notas, he ido anotando en el analisis"
   ]
  },
  {
   "cell_type": "markdown",
   "metadata": {},
   "source": [
    "### GM_12\n",
    "\n",
    "este es una base de datos con partidas de 12 grandes maestros a lo largo de la historia\n",
    "\n",
    "aqui encontraremos  \n",
    "un archivo .ipynb donde realizo la limpieza de los datos\n",
    "un archivo ipynb donde realizo el analisis   \n",
    "2 archivo .csv donde se encuentra la data, uno sucio y uno limpio  \n",
    "graficas exportadas a archivos .png para utilizarlas en el powerpint, una en concreto que no utilice, aunque me parecio interesante, pero no sabia como encajarla, solo 10 min, total fuera  \n",
    "un archivo de notas varias  \n",
    "\n",
    "aqui vemos dos carpetas para dos jugadores diferentes que se encuentran en esta data y a los cuales he estudiado individualmente porque me parecian de interes.  \n",
    "en sus respectivas carpetas encontramos graficas de sus estadisticas para la presentacion"
   ]
  },
  {
   "cell_type": "markdown",
   "metadata": {},
   "source": [
    "### Carpetas jugadores\n",
    "\n",
    "nos encontramos cuatro carpetas para cuatro jugadores diferentes, carlsen, fischer, nakamura y kasparov\n",
    "\n",
    "en cada carpeta encontramos archivos .ipynb de limpieza y de analisis  \n",
    ".csv original y limpio  \n",
    "graficas exportadas para la presentacion  \n",
    "notas  \n",
    "\n",
    "a nakamura no lo utilice al final en la presentacion"
   ]
  }
 ],
 "metadata": {
  "language_info": {
   "name": "python"
  }
 },
 "nbformat": 4,
 "nbformat_minor": 2
}
