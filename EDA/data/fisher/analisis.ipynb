{
 "cells": [
  {
   "cell_type": "code",
   "execution_count": 19,
   "metadata": {},
   "outputs": [],
   "source": [
    "import pandas as pd\n",
    "import numpy as np\n",
    "import matplotlib.pyplot as plt\n",
    "import seaborn as sns"
   ]
  },
  {
   "cell_type": "code",
   "execution_count": 20,
   "metadata": {},
   "outputs": [
    {
     "name": "stdout",
     "output_type": "stream",
     "text": [
      "<class 'pandas.core.frame.DataFrame'>\n",
      "RangeIndex: 827 entries, 0 to 826\n",
      "Data columns (total 11 columns):\n",
      " #   Column       Non-Null Count  Dtype         \n",
      "---  ------       --------------  -----         \n",
      " 0   Unnamed: 0   827 non-null    int64         \n",
      " 1   event        827 non-null    object        \n",
      " 2   site         827 non-null    object        \n",
      " 3   date_played  827 non-null    datetime64[ns]\n",
      " 4   white        827 non-null    object        \n",
      " 5   black        827 non-null    object        \n",
      " 6   result       827 non-null    object        \n",
      " 7   white_elo    72 non-null     float64       \n",
      " 8   black_elo    72 non-null     float64       \n",
      " 9   winner       827 non-null    object        \n",
      " 10  loser        827 non-null    object        \n",
      "dtypes: datetime64[ns](1), float64(2), int64(1), object(7)\n",
      "memory usage: 71.2+ KB\n"
     ]
    }
   ],
   "source": [
    "df_fisher = pd.read_csv('df_fisher_limpio.csv')\n",
    "df_fisher['date_played'] = pd.to_datetime(df_fisher['date_played'])\n",
    "df_fisher.info()"
   ]
  },
  {
   "cell_type": "code",
   "execution_count": 21,
   "metadata": {},
   "outputs": [
    {
     "data": {
      "text/html": [
       "<div>\n",
       "<style scoped>\n",
       "    .dataframe tbody tr th:only-of-type {\n",
       "        vertical-align: middle;\n",
       "    }\n",
       "\n",
       "    .dataframe tbody tr th {\n",
       "        vertical-align: top;\n",
       "    }\n",
       "\n",
       "    .dataframe thead th {\n",
       "        text-align: right;\n",
       "    }\n",
       "</style>\n",
       "<table border=\"1\" class=\"dataframe\">\n",
       "  <thead>\n",
       "    <tr style=\"text-align: right;\">\n",
       "      <th></th>\n",
       "      <th>Unnamed: 0</th>\n",
       "      <th>event</th>\n",
       "      <th>site</th>\n",
       "      <th>date_played</th>\n",
       "      <th>white</th>\n",
       "      <th>black</th>\n",
       "      <th>result</th>\n",
       "      <th>white_elo</th>\n",
       "      <th>black_elo</th>\n",
       "      <th>winner</th>\n",
       "      <th>loser</th>\n",
       "    </tr>\n",
       "  </thead>\n",
       "  <tbody>\n",
       "    <tr>\n",
       "      <th>0</th>\n",
       "      <td>0</td>\n",
       "      <td>USA-chJ</td>\n",
       "      <td>?</td>\n",
       "      <td>1955-01-01</td>\n",
       "      <td>Thomason, J.</td>\n",
       "      <td>Fischer, Robert James</td>\n",
       "      <td>0-1</td>\n",
       "      <td>NaN</td>\n",
       "      <td>NaN</td>\n",
       "      <td>Fischer, Robert James</td>\n",
       "      <td>Thomason, J.</td>\n",
       "    </tr>\n",
       "    <tr>\n",
       "      <th>1</th>\n",
       "      <td>1</td>\n",
       "      <td>USA-chJ</td>\n",
       "      <td>?</td>\n",
       "      <td>1955-01-01</td>\n",
       "      <td>Fischer, Robert James</td>\n",
       "      <td>Warner, K.</td>\n",
       "      <td>0-1</td>\n",
       "      <td>NaN</td>\n",
       "      <td>NaN</td>\n",
       "      <td>Warner, K.</td>\n",
       "      <td>Fischer, Robert James</td>\n",
       "    </tr>\n",
       "    <tr>\n",
       "      <th>2</th>\n",
       "      <td>2</td>\n",
       "      <td>USA-chJ</td>\n",
       "      <td>?</td>\n",
       "      <td>1955-01-01</td>\n",
       "      <td>Fischer, Robert James</td>\n",
       "      <td>Pupols, Viktors</td>\n",
       "      <td>0-1</td>\n",
       "      <td>NaN</td>\n",
       "      <td>NaN</td>\n",
       "      <td>Pupols, Viktors</td>\n",
       "      <td>Fischer, Robert James</td>\n",
       "    </tr>\n",
       "    <tr>\n",
       "      <th>3</th>\n",
       "      <td>3</td>\n",
       "      <td>USA-chJ</td>\n",
       "      <td>?</td>\n",
       "      <td>1955-01-01</td>\n",
       "      <td>Fischer, Robert James</td>\n",
       "      <td>Ames, D.</td>\n",
       "      <td>1/2-1/2</td>\n",
       "      <td>NaN</td>\n",
       "      <td>NaN</td>\n",
       "      <td>draw</td>\n",
       "      <td>draw</td>\n",
       "    </tr>\n",
       "    <tr>\n",
       "      <th>4</th>\n",
       "      <td>4</td>\n",
       "      <td>USA-chJ</td>\n",
       "      <td>?</td>\n",
       "      <td>1955-01-01</td>\n",
       "      <td>Whisler, W.</td>\n",
       "      <td>Fischer, Robert James</td>\n",
       "      <td>1/2-1/2</td>\n",
       "      <td>NaN</td>\n",
       "      <td>NaN</td>\n",
       "      <td>draw</td>\n",
       "      <td>draw</td>\n",
       "    </tr>\n",
       "  </tbody>\n",
       "</table>\n",
       "</div>"
      ],
      "text/plain": [
       "   Unnamed: 0    event site date_played                  white  \\\n",
       "0           0  USA-chJ    ?  1955-01-01           Thomason, J.   \n",
       "1           1  USA-chJ    ?  1955-01-01  Fischer, Robert James   \n",
       "2           2  USA-chJ    ?  1955-01-01  Fischer, Robert James   \n",
       "3           3  USA-chJ    ?  1955-01-01  Fischer, Robert James   \n",
       "4           4  USA-chJ    ?  1955-01-01            Whisler, W.   \n",
       "\n",
       "                   black   result  white_elo  black_elo  \\\n",
       "0  Fischer, Robert James      0-1        NaN        NaN   \n",
       "1             Warner, K.      0-1        NaN        NaN   \n",
       "2        Pupols, Viktors      0-1        NaN        NaN   \n",
       "3               Ames, D.  1/2-1/2        NaN        NaN   \n",
       "4  Fischer, Robert James  1/2-1/2        NaN        NaN   \n",
       "\n",
       "                  winner                  loser  \n",
       "0  Fischer, Robert James           Thomason, J.  \n",
       "1             Warner, K.  Fischer, Robert James  \n",
       "2        Pupols, Viktors  Fischer, Robert James  \n",
       "3                   draw                   draw  \n",
       "4                   draw                   draw  "
      ]
     },
     "execution_count": 21,
     "metadata": {},
     "output_type": "execute_result"
    }
   ],
   "source": [
    "df_fisher.head()"
   ]
  },
  {
   "cell_type": "code",
   "execution_count": 22,
   "metadata": {},
   "outputs": [],
   "source": [
    "def resultado(value):\n",
    "    name = 'Fischer, Robert James'\n",
    "    if value == name:\n",
    "        return 'Win'\n",
    "    elif value == 'draw':\n",
    "        return 'Draw'\n",
    "    else:\n",
    "        return 'Lose'"
   ]
  },
  {
   "cell_type": "code",
   "execution_count": 23,
   "metadata": {},
   "outputs": [
    {
     "data": {
      "text/plain": [
       "array(['Win', 'Lose', 'Draw'], dtype=object)"
      ]
     },
     "execution_count": 23,
     "metadata": {},
     "output_type": "execute_result"
    }
   ],
   "source": [
    "df_fisher['resultado'] = df_fisher['winner'].transform(resultado)\n",
    "df_fisher['resultado'].unique()"
   ]
  },
  {
   "cell_type": "code",
   "execution_count": 24,
   "metadata": {},
   "outputs": [
    {
     "data": {
      "text/html": [
       "<div>\n",
       "<style scoped>\n",
       "    .dataframe tbody tr th:only-of-type {\n",
       "        vertical-align: middle;\n",
       "    }\n",
       "\n",
       "    .dataframe tbody tr th {\n",
       "        vertical-align: top;\n",
       "    }\n",
       "\n",
       "    .dataframe thead th {\n",
       "        text-align: right;\n",
       "    }\n",
       "</style>\n",
       "<table border=\"1\" class=\"dataframe\">\n",
       "  <thead>\n",
       "    <tr style=\"text-align: right;\">\n",
       "      <th></th>\n",
       "      <th>Unnamed: 0</th>\n",
       "      <th>event</th>\n",
       "      <th>site</th>\n",
       "      <th>date_played</th>\n",
       "      <th>white</th>\n",
       "      <th>black</th>\n",
       "      <th>result</th>\n",
       "      <th>white_elo</th>\n",
       "      <th>black_elo</th>\n",
       "      <th>winner</th>\n",
       "      <th>loser</th>\n",
       "      <th>resultado</th>\n",
       "    </tr>\n",
       "  </thead>\n",
       "  <tbody>\n",
       "    <tr>\n",
       "      <th>0</th>\n",
       "      <td>0</td>\n",
       "      <td>USA-chJ</td>\n",
       "      <td>?</td>\n",
       "      <td>1955-01-01</td>\n",
       "      <td>Thomason, J.</td>\n",
       "      <td>Fischer, Robert James</td>\n",
       "      <td>0-1</td>\n",
       "      <td>NaN</td>\n",
       "      <td>NaN</td>\n",
       "      <td>Fischer, Robert James</td>\n",
       "      <td>Thomason, J.</td>\n",
       "      <td>Win</td>\n",
       "    </tr>\n",
       "    <tr>\n",
       "      <th>1</th>\n",
       "      <td>1</td>\n",
       "      <td>USA-chJ</td>\n",
       "      <td>?</td>\n",
       "      <td>1955-01-01</td>\n",
       "      <td>Fischer, Robert James</td>\n",
       "      <td>Warner, K.</td>\n",
       "      <td>0-1</td>\n",
       "      <td>NaN</td>\n",
       "      <td>NaN</td>\n",
       "      <td>Warner, K.</td>\n",
       "      <td>Fischer, Robert James</td>\n",
       "      <td>Lose</td>\n",
       "    </tr>\n",
       "    <tr>\n",
       "      <th>2</th>\n",
       "      <td>2</td>\n",
       "      <td>USA-chJ</td>\n",
       "      <td>?</td>\n",
       "      <td>1955-01-01</td>\n",
       "      <td>Fischer, Robert James</td>\n",
       "      <td>Pupols, Viktors</td>\n",
       "      <td>0-1</td>\n",
       "      <td>NaN</td>\n",
       "      <td>NaN</td>\n",
       "      <td>Pupols, Viktors</td>\n",
       "      <td>Fischer, Robert James</td>\n",
       "      <td>Lose</td>\n",
       "    </tr>\n",
       "    <tr>\n",
       "      <th>3</th>\n",
       "      <td>3</td>\n",
       "      <td>USA-chJ</td>\n",
       "      <td>?</td>\n",
       "      <td>1955-01-01</td>\n",
       "      <td>Fischer, Robert James</td>\n",
       "      <td>Ames, D.</td>\n",
       "      <td>1/2-1/2</td>\n",
       "      <td>NaN</td>\n",
       "      <td>NaN</td>\n",
       "      <td>draw</td>\n",
       "      <td>draw</td>\n",
       "      <td>Draw</td>\n",
       "    </tr>\n",
       "    <tr>\n",
       "      <th>4</th>\n",
       "      <td>4</td>\n",
       "      <td>USA-chJ</td>\n",
       "      <td>?</td>\n",
       "      <td>1955-01-01</td>\n",
       "      <td>Whisler, W.</td>\n",
       "      <td>Fischer, Robert James</td>\n",
       "      <td>1/2-1/2</td>\n",
       "      <td>NaN</td>\n",
       "      <td>NaN</td>\n",
       "      <td>draw</td>\n",
       "      <td>draw</td>\n",
       "      <td>Draw</td>\n",
       "    </tr>\n",
       "  </tbody>\n",
       "</table>\n",
       "</div>"
      ],
      "text/plain": [
       "   Unnamed: 0    event site date_played                  white  \\\n",
       "0           0  USA-chJ    ?  1955-01-01           Thomason, J.   \n",
       "1           1  USA-chJ    ?  1955-01-01  Fischer, Robert James   \n",
       "2           2  USA-chJ    ?  1955-01-01  Fischer, Robert James   \n",
       "3           3  USA-chJ    ?  1955-01-01  Fischer, Robert James   \n",
       "4           4  USA-chJ    ?  1955-01-01            Whisler, W.   \n",
       "\n",
       "                   black   result  white_elo  black_elo  \\\n",
       "0  Fischer, Robert James      0-1        NaN        NaN   \n",
       "1             Warner, K.      0-1        NaN        NaN   \n",
       "2        Pupols, Viktors      0-1        NaN        NaN   \n",
       "3               Ames, D.  1/2-1/2        NaN        NaN   \n",
       "4  Fischer, Robert James  1/2-1/2        NaN        NaN   \n",
       "\n",
       "                  winner                  loser resultado  \n",
       "0  Fischer, Robert James           Thomason, J.       Win  \n",
       "1             Warner, K.  Fischer, Robert James      Lose  \n",
       "2        Pupols, Viktors  Fischer, Robert James      Lose  \n",
       "3                   draw                   draw      Draw  \n",
       "4                   draw                   draw      Draw  "
      ]
     },
     "execution_count": 24,
     "metadata": {},
     "output_type": "execute_result"
    }
   ],
   "source": [
    "df_fisher.head()"
   ]
  },
  {
   "cell_type": "markdown",
   "metadata": {},
   "source": [
    "visctorias vs derrotas\n"
   ]
  },
  {
   "cell_type": "code",
   "execution_count": 30,
   "metadata": {},
   "outputs": [
    {
     "name": "stderr",
     "output_type": "stream",
     "text": [
      "C:\\Users\\franc\\AppData\\Local\\Temp\\ipykernel_25136\\3580141198.py:1: FutureWarning: \n",
      "\n",
      "Passing `palette` without assigning `hue` is deprecated and will be removed in v0.14.0. Assign the `x` variable to `hue` and set `legend=False` for the same effect.\n",
      "\n",
      "  sns.barplot(x= df_fisher['resultado'].value_counts().index, y= df_fisher['resultado'].value_counts(normalize= True).values * 100, palette= 'tab10', order= ['Draw', 'Win', 'Lose'])\n"
     ]
    },
    {
     "data": {
      "image/png": "[encoded data removed]",
      "text/plain": [
       "<Figure size 640x480 with 1 Axes>"
      ]
     },
     "metadata": {},
     "output_type": "display_data"
    }
   ],
   "source": [
    "sns.barplot(x= df_fisher['resultado'].value_counts().index, y= df_fisher['resultado'].value_counts(normalize= True).values * 100, palette= 'tab10', order= ['Draw', 'Win', 'Lose'])\n",
    "plt.title('Results') \n",
    "plt.xlabel('Result')  \n",
    "plt.ylabel('%')  \n",
    "#plt.savefig('resultados_fisher.png', transparent= True)"
   ]
  },
  {
   "cell_type": "markdown",
   "metadata": {},
   "source": [
    "fisher vs Spassky, Boris V"
   ]
  },
  {
   "cell_type": "code",
   "execution_count": 26,
   "metadata": {},
   "outputs": [
    {
     "name": "stdout",
     "output_type": "stream",
     "text": [
      "<class 'pandas.core.frame.DataFrame'>\n",
      "Index: 56 entries, 272 to 826\n",
      "Data columns (total 12 columns):\n",
      " #   Column       Non-Null Count  Dtype         \n",
      "---  ------       --------------  -----         \n",
      " 0   Unnamed: 0   56 non-null     int64         \n",
      " 1   event        56 non-null     object        \n",
      " 2   site         56 non-null     object        \n",
      " 3   date_played  56 non-null     datetime64[ns]\n",
      " 4   white        56 non-null     object        \n",
      " 5   black        56 non-null     object        \n",
      " 6   result       56 non-null     object        \n",
      " 7   white_elo    51 non-null     float64       \n",
      " 8   black_elo    51 non-null     float64       \n",
      " 9   winner       56 non-null     object        \n",
      " 10  loser        56 non-null     object        \n",
      " 11  resultado    56 non-null     object        \n",
      "dtypes: datetime64[ns](1), float64(2), int64(1), object(8)\n",
      "memory usage: 5.7+ KB\n"
     ]
    }
   ],
   "source": [
    "df_rival = df_fisher[(df_fisher['white'] == 'Spassky, Boris V') | (df_fisher['black'] == 'Spassky, Boris V')]\n",
    "df_rival.info()"
   ]
  },
  {
   "cell_type": "code",
   "execution_count": 27,
   "metadata": {},
   "outputs": [
    {
     "data": {
      "image/png": "[encoded data removed]",
      "text/plain": [
       "<Figure size 700x700 with 1 Axes>"
      ]
     },
     "metadata": {},
     "output_type": "display_data"
    }
   ],
   "source": [
    "res_fischer_spassky = df_rival['resultado'].value_counts()\n",
    "\n",
    "plt.figure(figsize= (7, 7))\n",
    "plt.pie(res_fischer_spassky, wedgeprops={'edgecolor': 'black', 'linewidth': 2})\n",
    "plt.title('Fischer VS Spassky')\n",
    "plt.legend(['Draw', 'Win', 'Lose'], loc= 'best', fontsize= 'large');\n",
    "#plt.savefig('fischer_vs_spassky_pie.png', transparent= True)"
   ]
  },
  {
   "cell_type": "code",
   "execution_count": 28,
   "metadata": {},
   "outputs": [
    {
     "data": {
      "text/plain": [
       "resultado\n",
       "Draw    28\n",
       "Win     17\n",
       "Lose    11\n",
       "Name: count, dtype: int64"
      ]
     },
     "execution_count": 28,
     "metadata": {},
     "output_type": "execute_result"
    }
   ],
   "source": [
    "res_fischer_spassky"
   ]
  },
  {
   "cell_type": "markdown",
   "metadata": {},
   "source": [
    "contra quien perdio fisher mas veces?"
   ]
  },
  {
   "cell_type": "code",
   "execution_count": 29,
   "metadata": {},
   "outputs": [
    {
     "data": {
      "text/plain": [
       "Series([], Name: proportion, dtype: float64)"
      ]
     },
     "execution_count": 29,
     "metadata": {},
     "output_type": "execute_result"
    }
   ],
   "source": [
    "df_fisher[df_fisher['resultado'] == 'Defeat']['winner'].value_counts(normalize= True) * 100\n",
    "# la mayor rivalidad de fischer fue contra spassky con 11 derrotas contra el (12%)"
   ]
  }
 ],
 "metadata": {
  "kernelspec": {
   "display_name": "Python 3",
   "language": "python",
   "name": "python3"
  },
  "language_info": {
   "codemirror_mode": {
    "name": "ipython",
    "version": 3
   },
   "file_extension": ".py",
   "mimetype": "text/x-python",
   "name": "python",
   "nbconvert_exporter": "python",
   "pygments_lexer": "ipython3",
   "version": "3.12.0"
  }
 },
 "nbformat": 4,
 "nbformat_minor": 2
}
