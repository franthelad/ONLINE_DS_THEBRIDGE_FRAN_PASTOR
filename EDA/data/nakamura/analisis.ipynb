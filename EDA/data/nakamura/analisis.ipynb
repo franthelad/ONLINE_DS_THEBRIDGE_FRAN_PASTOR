{
 "cells": [
  {
   "cell_type": "code",
   "execution_count": 1,
   "metadata": {},
   "outputs": [],
   "source": [
    "import pandas as pd\n",
    "import numpy as np\n",
    "import matplotlib.pyplot as plt\n",
    "import seaborn as sns"
   ]
  },
  {
   "cell_type": "code",
   "execution_count": 2,
   "metadata": {},
   "outputs": [
    {
     "name": "stdout",
     "output_type": "stream",
     "text": [
      "<class 'pandas.core.frame.DataFrame'>\n",
      "RangeIndex: 4811 entries, 0 to 4810\n",
      "Data columns (total 11 columns):\n",
      " #   Column       Non-Null Count  Dtype         \n",
      "---  ------       --------------  -----         \n",
      " 0   Unnamed: 0   4811 non-null   int64         \n",
      " 1   event        4811 non-null   object        \n",
      " 2   site         4811 non-null   object        \n",
      " 3   date_played  4811 non-null   datetime64[ns]\n",
      " 4   white        4811 non-null   object        \n",
      " 5   black        4811 non-null   object        \n",
      " 6   result       4811 non-null   object        \n",
      " 7   white_elo    4782 non-null   float64       \n",
      " 8   black_elo    4769 non-null   float64       \n",
      " 9   winner       4811 non-null   object        \n",
      " 10  loser        4811 non-null   object        \n",
      "dtypes: datetime64[ns](1), float64(2), int64(1), object(7)\n",
      "memory usage: 413.6+ KB\n"
     ]
    }
   ],
   "source": [
    "df_nakamura = pd.read_csv('df_nakamura_limpio.csv')\n",
    "df_nakamura['date_played'] = pd.to_datetime(df_nakamura['date_played'])\n",
    "df_nakamura.info()"
   ]
  },
  {
   "cell_type": "code",
   "execution_count": 3,
   "metadata": {},
   "outputs": [
    {
     "data": {
      "text/html": [
       "<div>\n",
       "<style scoped>\n",
       "    .dataframe tbody tr th:only-of-type {\n",
       "        vertical-align: middle;\n",
       "    }\n",
       "\n",
       "    .dataframe tbody tr th {\n",
       "        vertical-align: top;\n",
       "    }\n",
       "\n",
       "    .dataframe thead th {\n",
       "        text-align: right;\n",
       "    }\n",
       "</style>\n",
       "<table border=\"1\" class=\"dataframe\">\n",
       "  <thead>\n",
       "    <tr style=\"text-align: right;\">\n",
       "      <th></th>\n",
       "      <th>Unnamed: 0</th>\n",
       "      <th>event</th>\n",
       "      <th>site</th>\n",
       "      <th>date_played</th>\n",
       "      <th>white</th>\n",
       "      <th>black</th>\n",
       "      <th>result</th>\n",
       "      <th>white_elo</th>\n",
       "      <th>black_elo</th>\n",
       "      <th>winner</th>\n",
       "      <th>loser</th>\n",
       "    </tr>\n",
       "  </thead>\n",
       "  <tbody>\n",
       "    <tr>\n",
       "      <th>0</th>\n",
       "      <td>0</td>\n",
       "      <td>Wch U10</td>\n",
       "      <td>Cannes</td>\n",
       "      <td>1997-01-01</td>\n",
       "      <td>Bellaiche, Antony</td>\n",
       "      <td>Nakamura, Hikaru</td>\n",
       "      <td>1-0</td>\n",
       "      <td>NaN</td>\n",
       "      <td>NaN</td>\n",
       "      <td>Bellaiche, Antony</td>\n",
       "      <td>Nakamura, Hikaru</td>\n",
       "    </tr>\n",
       "    <tr>\n",
       "      <th>1</th>\n",
       "      <td>1</td>\n",
       "      <td>Wch U10</td>\n",
       "      <td>Cannes</td>\n",
       "      <td>1997-01-01</td>\n",
       "      <td>Nakamura, Hikaru</td>\n",
       "      <td>El Mikati, Mohamad</td>\n",
       "      <td>1-0</td>\n",
       "      <td>NaN</td>\n",
       "      <td>NaN</td>\n",
       "      <td>Nakamura, Hikaru</td>\n",
       "      <td>El Mikati, Mohamad</td>\n",
       "    </tr>\n",
       "    <tr>\n",
       "      <th>2</th>\n",
       "      <td>2</td>\n",
       "      <td>Wch U10</td>\n",
       "      <td>Cannes</td>\n",
       "      <td>1997-01-01</td>\n",
       "      <td>Nakamura, Hikaru</td>\n",
       "      <td>Eryomenko, Volodymyr</td>\n",
       "      <td>1-0</td>\n",
       "      <td>NaN</td>\n",
       "      <td>NaN</td>\n",
       "      <td>Nakamura, Hikaru</td>\n",
       "      <td>Eryomenko, Volodymyr</td>\n",
       "    </tr>\n",
       "    <tr>\n",
       "      <th>3</th>\n",
       "      <td>3</td>\n",
       "      <td>Wch U10</td>\n",
       "      <td>Cannes</td>\n",
       "      <td>1997-01-01</td>\n",
       "      <td>Amin, Bassem</td>\n",
       "      <td>Nakamura, Hikaru</td>\n",
       "      <td>1-0</td>\n",
       "      <td>NaN</td>\n",
       "      <td>NaN</td>\n",
       "      <td>Amin, Bassem</td>\n",
       "      <td>Nakamura, Hikaru</td>\n",
       "    </tr>\n",
       "    <tr>\n",
       "      <th>4</th>\n",
       "      <td>4</td>\n",
       "      <td>Wch U10</td>\n",
       "      <td>Cannes</td>\n",
       "      <td>1997-01-01</td>\n",
       "      <td>Lepan, Marvin</td>\n",
       "      <td>Nakamura, Hikaru</td>\n",
       "      <td>0-1</td>\n",
       "      <td>NaN</td>\n",
       "      <td>NaN</td>\n",
       "      <td>Nakamura, Hikaru</td>\n",
       "      <td>Lepan, Marvin</td>\n",
       "    </tr>\n",
       "  </tbody>\n",
       "</table>\n",
       "</div>"
      ],
      "text/plain": [
       "   Unnamed: 0    event    site date_played              white  \\\n",
       "0           0  Wch U10  Cannes  1997-01-01  Bellaiche, Antony   \n",
       "1           1  Wch U10  Cannes  1997-01-01   Nakamura, Hikaru   \n",
       "2           2  Wch U10  Cannes  1997-01-01   Nakamura, Hikaru   \n",
       "3           3  Wch U10  Cannes  1997-01-01       Amin, Bassem   \n",
       "4           4  Wch U10  Cannes  1997-01-01      Lepan, Marvin   \n",
       "\n",
       "                  black result  white_elo  black_elo             winner  \\\n",
       "0      Nakamura, Hikaru    1-0        NaN        NaN  Bellaiche, Antony   \n",
       "1    El Mikati, Mohamad    1-0        NaN        NaN   Nakamura, Hikaru   \n",
       "2  Eryomenko, Volodymyr    1-0        NaN        NaN   Nakamura, Hikaru   \n",
       "3      Nakamura, Hikaru    1-0        NaN        NaN       Amin, Bassem   \n",
       "4      Nakamura, Hikaru    0-1        NaN        NaN   Nakamura, Hikaru   \n",
       "\n",
       "                  loser  \n",
       "0      Nakamura, Hikaru  \n",
       "1    El Mikati, Mohamad  \n",
       "2  Eryomenko, Volodymyr  \n",
       "3      Nakamura, Hikaru  \n",
       "4         Lepan, Marvin  "
      ]
     },
     "execution_count": 3,
     "metadata": {},
     "output_type": "execute_result"
    }
   ],
   "source": [
    "df_nakamura.head()"
   ]
  },
  {
   "cell_type": "code",
   "execution_count": 12,
   "metadata": {},
   "outputs": [],
   "source": [
    "def resultado(value):\n",
    "    name = 'Nakamura, Hikaru'\n",
    "    name1 = 'Nakamura,Hi'\n",
    "    name2 = 'Nakamura,H'\n",
    "    if value == name or value == name1 or value == name2:\n",
    "        return 'Victory'\n",
    "    elif value == 'draw':\n",
    "        return 'Draw'\n",
    "    else:\n",
    "        return 'Defeat'"
   ]
  },
  {
   "cell_type": "code",
   "execution_count": 13,
   "metadata": {},
   "outputs": [
    {
     "data": {
      "text/plain": [
       "array(['Defeat', 'Victory', 'Draw'], dtype=object)"
      ]
     },
     "execution_count": 13,
     "metadata": {},
     "output_type": "execute_result"
    }
   ],
   "source": [
    "df_nakamura['resultado'] = df_nakamura['winner'].transform(resultado)\n",
    "df_nakamura['resultado'].unique()"
   ]
  },
  {
   "cell_type": "code",
   "execution_count": 8,
   "metadata": {},
   "outputs": [
    {
     "data": {
      "text/html": [
       "<div>\n",
       "<style scoped>\n",
       "    .dataframe tbody tr th:only-of-type {\n",
       "        vertical-align: middle;\n",
       "    }\n",
       "\n",
       "    .dataframe tbody tr th {\n",
       "        vertical-align: top;\n",
       "    }\n",
       "\n",
       "    .dataframe thead th {\n",
       "        text-align: right;\n",
       "    }\n",
       "</style>\n",
       "<table border=\"1\" class=\"dataframe\">\n",
       "  <thead>\n",
       "    <tr style=\"text-align: right;\">\n",
       "      <th></th>\n",
       "      <th>Unnamed: 0</th>\n",
       "      <th>event</th>\n",
       "      <th>site</th>\n",
       "      <th>date_played</th>\n",
       "      <th>white</th>\n",
       "      <th>black</th>\n",
       "      <th>result</th>\n",
       "      <th>white_elo</th>\n",
       "      <th>black_elo</th>\n",
       "      <th>winner</th>\n",
       "      <th>loser</th>\n",
       "      <th>resultado</th>\n",
       "    </tr>\n",
       "  </thead>\n",
       "  <tbody>\n",
       "    <tr>\n",
       "      <th>0</th>\n",
       "      <td>0</td>\n",
       "      <td>Wch U10</td>\n",
       "      <td>Cannes</td>\n",
       "      <td>1997-01-01</td>\n",
       "      <td>Bellaiche, Antony</td>\n",
       "      <td>Nakamura, Hikaru</td>\n",
       "      <td>1-0</td>\n",
       "      <td>NaN</td>\n",
       "      <td>NaN</td>\n",
       "      <td>Bellaiche, Antony</td>\n",
       "      <td>Nakamura, Hikaru</td>\n",
       "      <td>Defeat</td>\n",
       "    </tr>\n",
       "    <tr>\n",
       "      <th>1</th>\n",
       "      <td>1</td>\n",
       "      <td>Wch U10</td>\n",
       "      <td>Cannes</td>\n",
       "      <td>1997-01-01</td>\n",
       "      <td>Nakamura, Hikaru</td>\n",
       "      <td>El Mikati, Mohamad</td>\n",
       "      <td>1-0</td>\n",
       "      <td>NaN</td>\n",
       "      <td>NaN</td>\n",
       "      <td>Nakamura, Hikaru</td>\n",
       "      <td>El Mikati, Mohamad</td>\n",
       "      <td>Victory</td>\n",
       "    </tr>\n",
       "    <tr>\n",
       "      <th>2</th>\n",
       "      <td>2</td>\n",
       "      <td>Wch U10</td>\n",
       "      <td>Cannes</td>\n",
       "      <td>1997-01-01</td>\n",
       "      <td>Nakamura, Hikaru</td>\n",
       "      <td>Eryomenko, Volodymyr</td>\n",
       "      <td>1-0</td>\n",
       "      <td>NaN</td>\n",
       "      <td>NaN</td>\n",
       "      <td>Nakamura, Hikaru</td>\n",
       "      <td>Eryomenko, Volodymyr</td>\n",
       "      <td>Victory</td>\n",
       "    </tr>\n",
       "    <tr>\n",
       "      <th>3</th>\n",
       "      <td>3</td>\n",
       "      <td>Wch U10</td>\n",
       "      <td>Cannes</td>\n",
       "      <td>1997-01-01</td>\n",
       "      <td>Amin, Bassem</td>\n",
       "      <td>Nakamura, Hikaru</td>\n",
       "      <td>1-0</td>\n",
       "      <td>NaN</td>\n",
       "      <td>NaN</td>\n",
       "      <td>Amin, Bassem</td>\n",
       "      <td>Nakamura, Hikaru</td>\n",
       "      <td>Defeat</td>\n",
       "    </tr>\n",
       "    <tr>\n",
       "      <th>4</th>\n",
       "      <td>4</td>\n",
       "      <td>Wch U10</td>\n",
       "      <td>Cannes</td>\n",
       "      <td>1997-01-01</td>\n",
       "      <td>Lepan, Marvin</td>\n",
       "      <td>Nakamura, Hikaru</td>\n",
       "      <td>0-1</td>\n",
       "      <td>NaN</td>\n",
       "      <td>NaN</td>\n",
       "      <td>Nakamura, Hikaru</td>\n",
       "      <td>Lepan, Marvin</td>\n",
       "      <td>Victory</td>\n",
       "    </tr>\n",
       "  </tbody>\n",
       "</table>\n",
       "</div>"
      ],
      "text/plain": [
       "   Unnamed: 0    event    site date_played              white  \\\n",
       "0           0  Wch U10  Cannes  1997-01-01  Bellaiche, Antony   \n",
       "1           1  Wch U10  Cannes  1997-01-01   Nakamura, Hikaru   \n",
       "2           2  Wch U10  Cannes  1997-01-01   Nakamura, Hikaru   \n",
       "3           3  Wch U10  Cannes  1997-01-01       Amin, Bassem   \n",
       "4           4  Wch U10  Cannes  1997-01-01      Lepan, Marvin   \n",
       "\n",
       "                  black result  white_elo  black_elo             winner  \\\n",
       "0      Nakamura, Hikaru    1-0        NaN        NaN  Bellaiche, Antony   \n",
       "1    El Mikati, Mohamad    1-0        NaN        NaN   Nakamura, Hikaru   \n",
       "2  Eryomenko, Volodymyr    1-0        NaN        NaN   Nakamura, Hikaru   \n",
       "3      Nakamura, Hikaru    1-0        NaN        NaN       Amin, Bassem   \n",
       "4      Nakamura, Hikaru    0-1        NaN        NaN   Nakamura, Hikaru   \n",
       "\n",
       "                  loser resultado  \n",
       "0      Nakamura, Hikaru    Defeat  \n",
       "1    El Mikati, Mohamad   Victory  \n",
       "2  Eryomenko, Volodymyr   Victory  \n",
       "3      Nakamura, Hikaru    Defeat  \n",
       "4         Lepan, Marvin   Victory  "
      ]
     },
     "execution_count": 8,
     "metadata": {},
     "output_type": "execute_result"
    }
   ],
   "source": [
    "df_nakamura.head()"
   ]
  },
  {
   "cell_type": "markdown",
   "metadata": {},
   "source": [
    "visctorias vs derrotas\n"
   ]
  },
  {
   "cell_type": "code",
   "execution_count": 16,
   "metadata": {},
   "outputs": [
    {
     "name": "stderr",
     "output_type": "stream",
     "text": [
      "C:\\Users\\franc\\AppData\\Local\\Temp\\ipykernel_25420\\2487892464.py:1: FutureWarning: \n",
      "\n",
      "Passing `palette` without assigning `hue` is deprecated and will be removed in v0.14.0. Assign the `x` variable to `hue` and set `legend=False` for the same effect.\n",
      "\n",
      "  sns.barplot(x= df_nakamura['resultado'].value_counts().index, y= df_nakamura['resultado'].value_counts(normalize= True).values * 100, palette= 'tab10')\n"
     ]
    },
    {
     "data": {
      "image/png": "[encoded data removed]",
      "text/plain": [
       "<Figure size 640x480 with 1 Axes>"
      ]
     },
     "metadata": {},
     "output_type": "display_data"
    }
   ],
   "source": [
    "sns.barplot(x= df_nakamura['resultado'].value_counts().index, y= df_nakamura['resultado'].value_counts(normalize= True).values * 100, palette= 'tab10')\n",
    "plt.title('Results') \n",
    "plt.xlabel('Result')  \n",
    "plt.ylabel('%')  \n",
    "#plt.savefig('resultados_nakamura.png')"
   ]
  },
  {
   "cell_type": "code",
   "execution_count": 17,
   "metadata": {},
   "outputs": [
    {
     "data": {
      "text/plain": [
       "winner\n",
       "Carlsen,M                          85\n",
       "Vachier Lagrave,M                  41\n",
       "So,W                               41\n",
       "Aronian,L                          34\n",
       "Caruana,F                          32\n",
       "                                   ..\n",
       "Dominguez,L                         1\n",
       "Peterson,W                          1\n",
       "Baginskaite,C                       1\n",
       "Laxman,R                            1\n",
       "Martinez Alcantara,Jose Eduardo     1\n",
       "Name: count, Length: 252, dtype: int64"
      ]
     },
     "execution_count": 17,
     "metadata": {},
     "output_type": "execute_result"
    }
   ],
   "source": [
    "df_nakamura[df_nakamura['resultado'] == 'Defeat']['winner'].value_counts()"
   ]
  },
  {
   "cell_type": "markdown",
   "metadata": {},
   "source": [
    "nakamura vs carlsen"
   ]
  },
  {
   "cell_type": "code",
   "execution_count": 19,
   "metadata": {},
   "outputs": [
    {
     "data": {
      "image/png": "[encoded data removed]",
      "text/plain": [
       "<Figure size 700x700 with 1 Axes>"
      ]
     },
     "metadata": {},
     "output_type": "display_data"
    }
   ],
   "source": [
    "df_rival = df_nakamura[(df_nakamura['white'] == 'Carlsen,M') | (df_nakamura['black'] == 'Carlsen,M')]\n",
    "\n",
    "res_nakamura_carlsen = df_rival['resultado'].value_counts()\n",
    "\n",
    "plt.figure(figsize= (7, 7))\n",
    "plt.pie(res_nakamura_carlsen.sort_index(), wedgeprops={'edgecolor': 'black', 'linewidth': 2})\n",
    "plt.title('Nakamura VS Carlsen')\n",
    "plt.legend(res_nakamura_carlsen.sort_index().index, loc= 'best');\n",
    "#plt.savefig('nakamura_vs_carlsen_pie.png')"
   ]
  },
  {
   "cell_type": "code",
   "execution_count": 20,
   "metadata": {},
   "outputs": [
    {
     "data": {
      "text/plain": [
       "resultado\n",
       "Defeat     85\n",
       "Draw       98\n",
       "Victory    36\n",
       "Name: count, dtype: int64"
      ]
     },
     "execution_count": 20,
     "metadata": {},
     "output_type": "execute_result"
    }
   ],
   "source": [
    "res_nakamura_carlsen.sort_index()"
   ]
  }
 ],
 "metadata": {
  "kernelspec": {
   "display_name": "Python 3",
   "language": "python",
   "name": "python3"
  },
  "language_info": {
   "codemirror_mode": {
    "name": "ipython",
    "version": 3
   },
   "file_extension": ".py",
   "mimetype": "text/x-python",
   "name": "python",
   "nbconvert_exporter": "python",
   "pygments_lexer": "ipython3",
   "version": "3.12.0"
  }
 },
 "nbformat": 4,
 "nbformat_minor": 2
}
