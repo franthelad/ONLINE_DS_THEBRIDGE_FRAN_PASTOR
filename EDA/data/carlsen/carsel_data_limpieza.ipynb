{
 "cells": [
  {
   "cell_type": "code",
   "execution_count": 1,
   "metadata": {},
   "outputs": [],
   "source": [
    "import pandas as pd"
   ]
  },
  {
   "cell_type": "code",
   "execution_count": 5,
   "metadata": {},
   "outputs": [
    {
     "name": "stdout",
     "output_type": "stream",
     "text": [
      "<class 'pandas.core.frame.DataFrame'>\n",
      "RangeIndex: 4314 entries, 0 to 4313\n",
      "Data columns (total 10 columns):\n",
      " #   Column       Non-Null Count  Dtype  \n",
      "---  ------       --------------  -----  \n",
      " 0   event        4314 non-null   object \n",
      " 1   site         4314 non-null   object \n",
      " 2   date_played  4314 non-null   object \n",
      " 3   white        4314 non-null   object \n",
      " 4   black        4314 non-null   object \n",
      " 5   result       4314 non-null   object \n",
      " 6   white_elo    4293 non-null   float64\n",
      " 7   black_elo    4280 non-null   float64\n",
      " 8   winner       4314 non-null   object \n",
      " 9   loser        4314 non-null   object \n",
      "dtypes: float64(2), object(8)\n",
      "memory usage: 337.2+ KB\n"
     ]
    }
   ],
   "source": [
    "# elimino las columnas innecesarias\n",
    "df_carlsen = pd.read_csv('./Carlsen_game_info.csv')\n",
    "df_carlsen.drop(columns= ['white_rating_diff', 'black_rating_diff', 'white_title', 'black_title', 'termination', 'time_control', 'utc_date', 'utc_time', 'variant', 'ply_count'], inplace= True)\n",
    "df_carlsen.drop(columns= ['game_id' ,'game_order', 'round', 'date_created', 'file_name', 'eco', 'winner_loser_elo_diff'], inplace= True)\n",
    "df_carlsen.drop(columns= ['loser_elo', 'winner_elo'], inplace= True)\n",
    "df_carlsen.info()\n"
   ]
  },
  {
   "cell_type": "code",
   "execution_count": 6,
   "metadata": {},
   "outputs": [
    {
     "data": {
      "text/html": [
       "<div>\n",
       "<style scoped>\n",
       "    .dataframe tbody tr th:only-of-type {\n",
       "        vertical-align: middle;\n",
       "    }\n",
       "\n",
       "    .dataframe tbody tr th {\n",
       "        vertical-align: top;\n",
       "    }\n",
       "\n",
       "    .dataframe thead th {\n",
       "        text-align: right;\n",
       "    }\n",
       "</style>\n",
       "<table border=\"1\" class=\"dataframe\">\n",
       "  <thead>\n",
       "    <tr style=\"text-align: right;\">\n",
       "      <th></th>\n",
       "      <th>event</th>\n",
       "      <th>site</th>\n",
       "      <th>date_played</th>\n",
       "      <th>white</th>\n",
       "      <th>black</th>\n",
       "      <th>result</th>\n",
       "      <th>white_elo</th>\n",
       "      <th>black_elo</th>\n",
       "      <th>winner</th>\n",
       "      <th>loser</th>\n",
       "    </tr>\n",
       "  </thead>\n",
       "  <tbody>\n",
       "    <tr>\n",
       "      <th>0</th>\n",
       "      <td>Troll Masters</td>\n",
       "      <td>Gausdal NOR</td>\n",
       "      <td>2001.01.05</td>\n",
       "      <td>Edvardsen,R</td>\n",
       "      <td>Carlsen,Magnus</td>\n",
       "      <td>1/2-1/2</td>\n",
       "      <td>2055.0</td>\n",
       "      <td>NaN</td>\n",
       "      <td>draw</td>\n",
       "      <td>draw</td>\n",
       "    </tr>\n",
       "    <tr>\n",
       "      <th>1</th>\n",
       "      <td>Troll Masters</td>\n",
       "      <td>Gausdal NOR</td>\n",
       "      <td>2001.01.06</td>\n",
       "      <td>Carlsen,Magnus</td>\n",
       "      <td>Brameld,A</td>\n",
       "      <td>0-1</td>\n",
       "      <td>NaN</td>\n",
       "      <td>2095.0</td>\n",
       "      <td>Brameld,A</td>\n",
       "      <td>Carlsen,Magnus</td>\n",
       "    </tr>\n",
       "    <tr>\n",
       "      <th>2</th>\n",
       "      <td>Troll Masters</td>\n",
       "      <td>Gausdal NOR</td>\n",
       "      <td>2001.01.07</td>\n",
       "      <td>Carlsen,Magnus</td>\n",
       "      <td>Fant,G</td>\n",
       "      <td>1-0</td>\n",
       "      <td>NaN</td>\n",
       "      <td>2062.0</td>\n",
       "      <td>Carlsen,Magnus</td>\n",
       "      <td>Fant,G</td>\n",
       "    </tr>\n",
       "    <tr>\n",
       "      <th>3</th>\n",
       "      <td>Troll Masters</td>\n",
       "      <td>Gausdal NOR</td>\n",
       "      <td>2001.01.08</td>\n",
       "      <td>Tallaksen,G</td>\n",
       "      <td>Carlsen,Magnus</td>\n",
       "      <td>1/2-1/2</td>\n",
       "      <td>2258.0</td>\n",
       "      <td>NaN</td>\n",
       "      <td>draw</td>\n",
       "      <td>draw</td>\n",
       "    </tr>\n",
       "    <tr>\n",
       "      <th>4</th>\n",
       "      <td>Troll Masters</td>\n",
       "      <td>Gausdal NOR</td>\n",
       "      <td>2001.01.08</td>\n",
       "      <td>Carlsen,Magnus</td>\n",
       "      <td>Nilssen,J</td>\n",
       "      <td>0-1</td>\n",
       "      <td>NaN</td>\n",
       "      <td>2371.0</td>\n",
       "      <td>Nilssen,J</td>\n",
       "      <td>Carlsen,Magnus</td>\n",
       "    </tr>\n",
       "  </tbody>\n",
       "</table>\n",
       "</div>"
      ],
      "text/plain": [
       "           event         site date_played           white           black  \\\n",
       "0  Troll Masters  Gausdal NOR  2001.01.05     Edvardsen,R  Carlsen,Magnus   \n",
       "1  Troll Masters  Gausdal NOR  2001.01.06  Carlsen,Magnus       Brameld,A   \n",
       "2  Troll Masters  Gausdal NOR  2001.01.07  Carlsen,Magnus          Fant,G   \n",
       "3  Troll Masters  Gausdal NOR  2001.01.08     Tallaksen,G  Carlsen,Magnus   \n",
       "4  Troll Masters  Gausdal NOR  2001.01.08  Carlsen,Magnus       Nilssen,J   \n",
       "\n",
       "    result  white_elo  black_elo          winner           loser  \n",
       "0  1/2-1/2     2055.0        NaN            draw            draw  \n",
       "1      0-1        NaN     2095.0       Brameld,A  Carlsen,Magnus  \n",
       "2      1-0        NaN     2062.0  Carlsen,Magnus          Fant,G  \n",
       "3  1/2-1/2     2258.0        NaN            draw            draw  \n",
       "4      0-1        NaN     2371.0       Nilssen,J  Carlsen,Magnus  "
      ]
     },
     "execution_count": 6,
     "metadata": {},
     "output_type": "execute_result"
    }
   ],
   "source": [
    "df_carlsen.head()"
   ]
  },
  {
   "cell_type": "code",
   "execution_count": 8,
   "metadata": {},
   "outputs": [],
   "source": [
    "df_carlsen['date_played'] = pd.to_datetime(df_carlsen['date_played'], errors= 'coerce')\n",
    "# paso a datetime la columna de fechas, el paramentro errors pasa a NaT los que no siguen el formato"
   ]
  },
  {
   "cell_type": "code",
   "execution_count": 11,
   "metadata": {},
   "outputs": [],
   "source": [
    "df_carlsen.dropna(inplace= True)"
   ]
  },
  {
   "cell_type": "code",
   "execution_count": 12,
   "metadata": {},
   "outputs": [
    {
     "name": "stdout",
     "output_type": "stream",
     "text": [
      "<class 'pandas.core.frame.DataFrame'>\n",
      "Index: 4257 entries, 16 to 4313\n",
      "Data columns (total 10 columns):\n",
      " #   Column       Non-Null Count  Dtype         \n",
      "---  ------       --------------  -----         \n",
      " 0   event        4257 non-null   object        \n",
      " 1   site         4257 non-null   object        \n",
      " 2   date_played  4257 non-null   datetime64[ns]\n",
      " 3   white        4257 non-null   object        \n",
      " 4   black        4257 non-null   object        \n",
      " 5   result       4257 non-null   object        \n",
      " 6   white_elo    4257 non-null   float64       \n",
      " 7   black_elo    4257 non-null   float64       \n",
      " 8   winner       4257 non-null   object        \n",
      " 9   loser        4257 non-null   object        \n",
      "dtypes: datetime64[ns](1), float64(2), object(7)\n",
      "memory usage: 365.8+ KB\n"
     ]
    }
   ],
   "source": [
    "df_carlsen.info()"
   ]
  },
  {
   "cell_type": "code",
   "execution_count": 43,
   "metadata": {},
   "outputs": [],
   "source": [
    "df_carlsen.to_csv('df_carlsen_limpio.csv')"
   ]
  }
 ],
 "metadata": {
  "kernelspec": {
   "display_name": "Python 3",
   "language": "python",
   "name": "python3"
  },
  "language_info": {
   "codemirror_mode": {
    "name": "ipython",
    "version": 3
   },
   "file_extension": ".py",
   "mimetype": "text/x-python",
   "name": "python",
   "nbconvert_exporter": "python",
   "pygments_lexer": "ipython3",
   "version": "3.12.0"
  }
 },
 "nbformat": 4,
 "nbformat_minor": 2
}
