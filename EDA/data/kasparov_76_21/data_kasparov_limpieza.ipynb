{
 "cells": [
  {
   "cell_type": "code",
   "execution_count": 61,
   "metadata": {},
   "outputs": [],
   "source": [
    "import pandas as pd"
   ]
  },
  {
   "cell_type": "code",
   "execution_count": 62,
   "metadata": {},
   "outputs": [
    {
     "name": "stdout",
     "output_type": "stream",
     "text": [
      "<class 'pandas.core.frame.DataFrame'>\n",
      "RangeIndex: 2128 entries, 0 to 2127\n",
      "Data columns (total 19 columns):\n",
      " #   Column                 Non-Null Count  Dtype \n",
      "---  ------                 --------------  ----- \n",
      " 0   game_id                2128 non-null   object\n",
      " 1   game_order             2128 non-null   int64 \n",
      " 2   event                  2128 non-null   object\n",
      " 3   site                   2128 non-null   object\n",
      " 4   date_played            2128 non-null   object\n",
      " 5   round                  2128 non-null   object\n",
      " 6   white                  2128 non-null   object\n",
      " 7   black                  2128 non-null   object\n",
      " 8   result                 2128 non-null   object\n",
      " 9   white_elo              2057 non-null   object\n",
      " 10  black_elo              1851 non-null   object\n",
      " 11  winner                 2128 non-null   object\n",
      " 12  winner_elo             1217 non-null   object\n",
      " 13  loser                  2128 non-null   object\n",
      " 14  loser_elo              1020 non-null   object\n",
      " 15  winner_loser_elo_diff  2128 non-null   int64 \n",
      " 16  eco                    2128 non-null   object\n",
      " 17  date_created           2128 non-null   object\n",
      " 18  file_name              2128 non-null   object\n",
      "dtypes: int64(2), object(17)\n",
      "memory usage: 316.0+ KB\n"
     ]
    }
   ],
   "source": [
    "df_kasparov = pd.read_csv('Kasparov_game_info.csv')\n",
    "df_kasparov.info()"
   ]
  },
  {
   "cell_type": "code",
   "execution_count": 63,
   "metadata": {},
   "outputs": [
    {
     "data": {
      "text/html": [
       "<div>\n",
       "<style scoped>\n",
       "    .dataframe tbody tr th:only-of-type {\n",
       "        vertical-align: middle;\n",
       "    }\n",
       "\n",
       "    .dataframe tbody tr th {\n",
       "        vertical-align: top;\n",
       "    }\n",
       "\n",
       "    .dataframe thead th {\n",
       "        text-align: right;\n",
       "    }\n",
       "</style>\n",
       "<table border=\"1\" class=\"dataframe\">\n",
       "  <thead>\n",
       "    <tr style=\"text-align: right;\">\n",
       "      <th></th>\n",
       "      <th>event</th>\n",
       "      <th>site</th>\n",
       "      <th>date_played</th>\n",
       "      <th>white</th>\n",
       "      <th>black</th>\n",
       "      <th>result</th>\n",
       "      <th>white_elo</th>\n",
       "      <th>black_elo</th>\n",
       "      <th>winner</th>\n",
       "      <th>loser</th>\n",
       "    </tr>\n",
       "  </thead>\n",
       "  <tbody>\n",
       "    <tr>\n",
       "      <th>0</th>\n",
       "      <td>Wch U16</td>\n",
       "      <td>Wattignies</td>\n",
       "      <td>1976.08.27</td>\n",
       "      <td>Chandler, Murray G</td>\n",
       "      <td>Kasparov, Gary</td>\n",
       "      <td>1-0</td>\n",
       "      <td>NaN</td>\n",
       "      <td>NaN</td>\n",
       "      <td>Chandler, Murray G</td>\n",
       "      <td>Kasparov, Gary</td>\n",
       "    </tr>\n",
       "    <tr>\n",
       "      <th>1</th>\n",
       "      <td>Wch U16</td>\n",
       "      <td>Wattignies</td>\n",
       "      <td>1976.??.??</td>\n",
       "      <td>Kasparov, Gary</td>\n",
       "      <td>Galle, Andre</td>\n",
       "      <td>1-0</td>\n",
       "      <td>NaN</td>\n",
       "      <td>NaN</td>\n",
       "      <td>Kasparov, Gary</td>\n",
       "      <td>Galle, Andre</td>\n",
       "    </tr>\n",
       "    <tr>\n",
       "      <th>2</th>\n",
       "      <td>Wch U16</td>\n",
       "      <td>Wattignies</td>\n",
       "      <td>1976.??.??</td>\n",
       "      <td>Kasparov, Gary</td>\n",
       "      <td>Grinberg, Nir</td>\n",
       "      <td>1/2-1/2</td>\n",
       "      <td>NaN</td>\n",
       "      <td>NaN</td>\n",
       "      <td>draw</td>\n",
       "      <td>draw</td>\n",
       "    </tr>\n",
       "    <tr>\n",
       "      <th>3</th>\n",
       "      <td>Wch U16</td>\n",
       "      <td>Wattignies</td>\n",
       "      <td>1976.??.??</td>\n",
       "      <td>Roos, Louis</td>\n",
       "      <td>Kasparov, Gary</td>\n",
       "      <td>0-1</td>\n",
       "      <td>NaN</td>\n",
       "      <td>NaN</td>\n",
       "      <td>Kasparov, Gary</td>\n",
       "      <td>Roos, Louis</td>\n",
       "    </tr>\n",
       "    <tr>\n",
       "      <th>4</th>\n",
       "      <td>Wch U16</td>\n",
       "      <td>Wattignies</td>\n",
       "      <td>1976.??.??</td>\n",
       "      <td>Van der Wiel, John TH</td>\n",
       "      <td>Kasparov, Gary</td>\n",
       "      <td>1-0</td>\n",
       "      <td>NaN</td>\n",
       "      <td>NaN</td>\n",
       "      <td>Van der Wiel, John TH</td>\n",
       "      <td>Kasparov, Gary</td>\n",
       "    </tr>\n",
       "  </tbody>\n",
       "</table>\n",
       "</div>"
      ],
      "text/plain": [
       "     event        site date_played                  white           black  \\\n",
       "0  Wch U16  Wattignies  1976.08.27     Chandler, Murray G  Kasparov, Gary   \n",
       "1  Wch U16  Wattignies  1976.??.??         Kasparov, Gary    Galle, Andre   \n",
       "2  Wch U16  Wattignies  1976.??.??         Kasparov, Gary   Grinberg, Nir   \n",
       "3  Wch U16  Wattignies  1976.??.??            Roos, Louis  Kasparov, Gary   \n",
       "4  Wch U16  Wattignies  1976.??.??  Van der Wiel, John TH  Kasparov, Gary   \n",
       "\n",
       "    result white_elo black_elo                 winner           loser  \n",
       "0      1-0       NaN       NaN     Chandler, Murray G  Kasparov, Gary  \n",
       "1      1-0       NaN       NaN         Kasparov, Gary    Galle, Andre  \n",
       "2  1/2-1/2       NaN       NaN                   draw            draw  \n",
       "3      0-1       NaN       NaN         Kasparov, Gary     Roos, Louis  \n",
       "4      1-0       NaN       NaN  Van der Wiel, John TH  Kasparov, Gary  "
      ]
     },
     "execution_count": 63,
     "metadata": {},
     "output_type": "execute_result"
    }
   ],
   "source": [
    "df_kasparov.drop(columns= ['game_id', 'game_order', 'round', 'winner_elo', 'loser_elo', 'winner_loser_elo_diff', 'eco', 'date_created', 'file_name'], inplace= True)\n",
    "df_kasparov.head()"
   ]
  },
  {
   "cell_type": "code",
   "execution_count": 64,
   "metadata": {},
   "outputs": [
    {
     "name": "stderr",
     "output_type": "stream",
     "text": [
      "C:\\Users\\franc\\AppData\\Local\\Temp\\ipykernel_16180\\1221505284.py:3: FutureWarning: ChainedAssignmentError: behaviour will change in pandas 3.0!\n",
      "You are setting values through chained assignment. Currently this works in certain cases, but when using Copy-on-Write (which will become the default behaviour in pandas 3.0) this will never work to update the original DataFrame or Series, because the intermediate object on which we are setting values will behave as a copy.\n",
      "A typical example is when you are setting values in a column of a DataFrame, like:\n",
      "\n",
      "df[\"col\"][row_indexer] = value\n",
      "\n",
      "Use `df.loc[row_indexer, \"col\"] = values` instead, to perform the assignment in a single step and ensure this keeps updating the original `df`.\n",
      "\n",
      "See the caveats in the documentation: https://pandas.pydata.org/pandas-docs/stable/user_guide/indexing.html#returning-a-view-versus-a-copy\n",
      "\n",
      "  df_kasparov['date_played'][i] = pd.to_datetime(df_kasparov['date_played'][i])\n",
      "C:\\Users\\franc\\AppData\\Local\\Temp\\ipykernel_16180\\1221505284.py:6: FutureWarning: ChainedAssignmentError: behaviour will change in pandas 3.0!\n",
      "You are setting values through chained assignment. Currently this works in certain cases, but when using Copy-on-Write (which will become the default behaviour in pandas 3.0) this will never work to update the original DataFrame or Series, because the intermediate object on which we are setting values will behave as a copy.\n",
      "A typical example is when you are setting values in a column of a DataFrame, like:\n",
      "\n",
      "df[\"col\"][row_indexer] = value\n",
      "\n",
      "Use `df.loc[row_indexer, \"col\"] = values` instead, to perform the assignment in a single step and ensure this keeps updating the original `df`.\n",
      "\n",
      "See the caveats in the documentation: https://pandas.pydata.org/pandas-docs/stable/user_guide/indexing.html#returning-a-view-versus-a-copy\n",
      "\n",
      "  df_kasparov['date_played'][i] = pd.to_datetime(df_kasparov['date_played'][i], format='%Y.??.??')\n",
      "C:\\Users\\franc\\AppData\\Local\\Temp\\ipykernel_16180\\1221505284.py:8: FutureWarning: ChainedAssignmentError: behaviour will change in pandas 3.0!\n",
      "You are setting values through chained assignment. Currently this works in certain cases, but when using Copy-on-Write (which will become the default behaviour in pandas 3.0) this will never work to update the original DataFrame or Series, because the intermediate object on which we are setting values will behave as a copy.\n",
      "A typical example is when you are setting values in a column of a DataFrame, like:\n",
      "\n",
      "df[\"col\"][row_indexer] = value\n",
      "\n",
      "Use `df.loc[row_indexer, \"col\"] = values` instead, to perform the assignment in a single step and ensure this keeps updating the original `df`.\n",
      "\n",
      "See the caveats in the documentation: https://pandas.pydata.org/pandas-docs/stable/user_guide/indexing.html#returning-a-view-versus-a-copy\n",
      "\n",
      "  df_kasparov['date_played'][i] = pd.to_datetime(df_kasparov['date_played'][i], format='%Y.%m.??')\n"
     ]
    }
   ],
   "source": [
    "for i in range(len(df_kasparov['date_played'])): # hay fechas en distintos formatos, itero sobre la columna utilizando su rango para modificar el valor de cada valor a datetime, si da\n",
    "                                                 # error salta el try e intenta con otro formato, si falla salta el segundo try e intenta el ultimo y cuanto formato\n",
    "    try:\n",
    "        df_kasparov['date_played'][i] = pd.to_datetime(df_kasparov['date_played'][i])\n",
    "    except ValueError:\n",
    "        try:\n",
    "            df_kasparov['date_played'][i] = pd.to_datetime(df_kasparov['date_played'][i], format='%Y.??.??')\n",
    "        except ValueError:\n",
    "            df_kasparov['date_played'][i] = pd.to_datetime(df_kasparov['date_played'][i], format='%Y.%m.??')\n",
    "\n",
    "df_kasparov['date_played'] = pd.to_datetime(df_kasparov['date_played']) # sin esta linea final no aparece como datetime en info"
   ]
  },
  {
   "cell_type": "code",
   "execution_count": 65,
   "metadata": {},
   "outputs": [
    {
     "name": "stdout",
     "output_type": "stream",
     "text": [
      "<class 'pandas.core.frame.DataFrame'>\n",
      "RangeIndex: 2128 entries, 0 to 2127\n",
      "Data columns (total 10 columns):\n",
      " #   Column       Non-Null Count  Dtype         \n",
      "---  ------       --------------  -----         \n",
      " 0   event        2128 non-null   object        \n",
      " 1   site         2128 non-null   object        \n",
      " 2   date_played  2128 non-null   datetime64[ns]\n",
      " 3   white        2128 non-null   object        \n",
      " 4   black        2128 non-null   object        \n",
      " 5   result       2128 non-null   object        \n",
      " 6   white_elo    2057 non-null   object        \n",
      " 7   black_elo    1851 non-null   object        \n",
      " 8   winner       2128 non-null   object        \n",
      " 9   loser        2128 non-null   object        \n",
      "dtypes: datetime64[ns](1), object(9)\n",
      "memory usage: 166.4+ KB\n"
     ]
    }
   ],
   "source": [
    "df_kasparov.info()"
   ]
  },
  {
   "cell_type": "code",
   "execution_count": 73,
   "metadata": {},
   "outputs": [],
   "source": [
    "df_kasparov.to_csv('df_kasparov_limpio.csv')"
   ]
  }
 ],
 "metadata": {
  "kernelspec": {
   "display_name": "Python 3",
   "language": "python",
   "name": "python3"
  },
  "language_info": {
   "codemirror_mode": {
    "name": "ipython",
    "version": 3
   },
   "file_extension": ".py",
   "mimetype": "text/x-python",
   "name": "python",
   "nbconvert_exporter": "python",
   "pygments_lexer": "ipython3",
   "version": "3.12.0"
  }
 },
 "nbformat": 4,
 "nbformat_minor": 2
}
