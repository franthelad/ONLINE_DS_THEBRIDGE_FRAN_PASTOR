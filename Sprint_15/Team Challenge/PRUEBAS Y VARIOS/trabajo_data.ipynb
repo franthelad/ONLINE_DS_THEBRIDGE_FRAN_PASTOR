{
 "cells": [
  {
   "cell_type": "markdown",
   "metadata": {},
   "source": [
    "### IMPORTACIONES"
   ]
  },
  {
   "cell_type": "code",
   "execution_count": 51,
   "metadata": {},
   "outputs": [],
   "source": [
    "import pandas as pd\n",
    "import numpy as np\n",
    "import matplotlib.pyplot as plt\n",
    "import seaborn as sns\n",
    "from sklearn.preprocessing import OrdinalEncoder, StandardScaler\n",
    "import re"
   ]
  },
  {
   "cell_type": "markdown",
   "metadata": {},
   "source": [
    "### EXPLORAMOS EL DATA"
   ]
  },
  {
   "cell_type": "code",
   "execution_count": 52,
   "metadata": {},
   "outputs": [],
   "source": [
    "df_pc = pd.read_csv('./data/train.csv')"
   ]
  },
  {
   "cell_type": "code",
   "execution_count": 53,
   "metadata": {},
   "outputs": [
    {
     "data": {
      "text/html": [
       "<div>\n",
       "<style scoped>\n",
       "    .dataframe tbody tr th:only-of-type {\n",
       "        vertical-align: middle;\n",
       "    }\n",
       "\n",
       "    .dataframe tbody tr th {\n",
       "        vertical-align: top;\n",
       "    }\n",
       "\n",
       "    .dataframe thead th {\n",
       "        text-align: right;\n",
       "    }\n",
       "</style>\n",
       "<table border=\"1\" class=\"dataframe\">\n",
       "  <thead>\n",
       "    <tr style=\"text-align: right;\">\n",
       "      <th></th>\n",
       "      <th>id</th>\n",
       "      <th>laptop_ID</th>\n",
       "      <th>Company</th>\n",
       "      <th>Product</th>\n",
       "      <th>TypeName</th>\n",
       "      <th>Inches</th>\n",
       "      <th>ScreenResolution</th>\n",
       "      <th>Cpu</th>\n",
       "      <th>Ram</th>\n",
       "      <th>Memory</th>\n",
       "      <th>Gpu</th>\n",
       "      <th>OpSys</th>\n",
       "      <th>Weight</th>\n",
       "      <th>Price_euros</th>\n",
       "    </tr>\n",
       "  </thead>\n",
       "  <tbody>\n",
       "    <tr>\n",
       "      <th>0</th>\n",
       "      <td>268</td>\n",
       "      <td>1002</td>\n",
       "      <td>Dell</td>\n",
       "      <td>Inspiron 5567</td>\n",
       "      <td>Notebook</td>\n",
       "      <td>15.6</td>\n",
       "      <td>1366x768</td>\n",
       "      <td>Intel Core i7 7500U 2.7GHz</td>\n",
       "      <td>8GB</td>\n",
       "      <td>1TB HDD</td>\n",
       "      <td>AMD Radeon R7 M445</td>\n",
       "      <td>Windows 10</td>\n",
       "      <td>2.36kg</td>\n",
       "      <td>749.00</td>\n",
       "    </tr>\n",
       "    <tr>\n",
       "      <th>1</th>\n",
       "      <td>347</td>\n",
       "      <td>867</td>\n",
       "      <td>Asus</td>\n",
       "      <td>X541NA (N4200/4GB/1TB/W10)</td>\n",
       "      <td>Notebook</td>\n",
       "      <td>15.6</td>\n",
       "      <td>1366x768</td>\n",
       "      <td>Intel Pentium Quad Core N4200 1.1GHz</td>\n",
       "      <td>4GB</td>\n",
       "      <td>1TB HDD</td>\n",
       "      <td>Intel HD Graphics 505</td>\n",
       "      <td>Windows 10</td>\n",
       "      <td>2kg</td>\n",
       "      <td>449.00</td>\n",
       "    </tr>\n",
       "    <tr>\n",
       "      <th>2</th>\n",
       "      <td>353</td>\n",
       "      <td>966</td>\n",
       "      <td>Toshiba</td>\n",
       "      <td>Portege Z30-C-1CW</td>\n",
       "      <td>Notebook</td>\n",
       "      <td>13.3</td>\n",
       "      <td>Full HD 1920x1080</td>\n",
       "      <td>Intel Core i5 6200U 2.3GHz</td>\n",
       "      <td>8GB</td>\n",
       "      <td>256GB SSD</td>\n",
       "      <td>Intel HD Graphics 520</td>\n",
       "      <td>Windows 7</td>\n",
       "      <td>1.2kg</td>\n",
       "      <td>1460.00</td>\n",
       "    </tr>\n",
       "    <tr>\n",
       "      <th>3</th>\n",
       "      <td>578</td>\n",
       "      <td>767</td>\n",
       "      <td>Dell</td>\n",
       "      <td>Alienware 17</td>\n",
       "      <td>Gaming</td>\n",
       "      <td>15.6</td>\n",
       "      <td>IPS Panel 4K Ultra HD 3840x2160</td>\n",
       "      <td>Intel Core i7 7700HQ 2.8GHz</td>\n",
       "      <td>16GB</td>\n",
       "      <td>256GB SSD +  1TB HDD</td>\n",
       "      <td>Nvidia GeForce GTX 1070</td>\n",
       "      <td>Windows 10</td>\n",
       "      <td>4.42kg</td>\n",
       "      <td>2868.99</td>\n",
       "    </tr>\n",
       "    <tr>\n",
       "      <th>4</th>\n",
       "      <td>42</td>\n",
       "      <td>1241</td>\n",
       "      <td>Dell</td>\n",
       "      <td>Latitude E7270</td>\n",
       "      <td>Ultrabook</td>\n",
       "      <td>12.5</td>\n",
       "      <td>Full HD / Touchscreen 1920x1080</td>\n",
       "      <td>Intel Core i5 6300U 2.4GHz</td>\n",
       "      <td>8GB</td>\n",
       "      <td>256GB SSD</td>\n",
       "      <td>Intel HD Graphics 520</td>\n",
       "      <td>Windows 7</td>\n",
       "      <td>1.26kg</td>\n",
       "      <td>1713.37</td>\n",
       "    </tr>\n",
       "  </tbody>\n",
       "</table>\n",
       "</div>"
      ],
      "text/plain": [
       "    id  laptop_ID  Company                     Product   TypeName  Inches  \\\n",
       "0  268       1002     Dell               Inspiron 5567   Notebook    15.6   \n",
       "1  347        867     Asus  X541NA (N4200/4GB/1TB/W10)   Notebook    15.6   \n",
       "2  353        966  Toshiba           Portege Z30-C-1CW   Notebook    13.3   \n",
       "3  578        767     Dell                Alienware 17     Gaming    15.6   \n",
       "4   42       1241     Dell              Latitude E7270  Ultrabook    12.5   \n",
       "\n",
       "                  ScreenResolution                                   Cpu  \\\n",
       "0                         1366x768            Intel Core i7 7500U 2.7GHz   \n",
       "1                         1366x768  Intel Pentium Quad Core N4200 1.1GHz   \n",
       "2                Full HD 1920x1080            Intel Core i5 6200U 2.3GHz   \n",
       "3  IPS Panel 4K Ultra HD 3840x2160           Intel Core i7 7700HQ 2.8GHz   \n",
       "4  Full HD / Touchscreen 1920x1080            Intel Core i5 6300U 2.4GHz   \n",
       "\n",
       "    Ram                Memory                      Gpu       OpSys  Weight  \\\n",
       "0   8GB               1TB HDD       AMD Radeon R7 M445  Windows 10  2.36kg   \n",
       "1   4GB               1TB HDD    Intel HD Graphics 505  Windows 10     2kg   \n",
       "2   8GB             256GB SSD    Intel HD Graphics 520   Windows 7   1.2kg   \n",
       "3  16GB  256GB SSD +  1TB HDD  Nvidia GeForce GTX 1070  Windows 10  4.42kg   \n",
       "4   8GB             256GB SSD    Intel HD Graphics 520   Windows 7  1.26kg   \n",
       "\n",
       "   Price_euros  \n",
       "0       749.00  \n",
       "1       449.00  \n",
       "2      1460.00  \n",
       "3      2868.99  \n",
       "4      1713.37  "
      ]
     },
     "execution_count": 53,
     "metadata": {},
     "output_type": "execute_result"
    }
   ],
   "source": [
    "df_pc.head()"
   ]
  },
  {
   "cell_type": "code",
   "execution_count": 54,
   "metadata": {},
   "outputs": [
    {
     "name": "stdout",
     "output_type": "stream",
     "text": [
      "<class 'pandas.core.frame.DataFrame'>\n",
      "RangeIndex: 912 entries, 0 to 911\n",
      "Data columns (total 14 columns):\n",
      " #   Column            Non-Null Count  Dtype  \n",
      "---  ------            --------------  -----  \n",
      " 0   id                912 non-null    int64  \n",
      " 1   laptop_ID         912 non-null    int64  \n",
      " 2   Company           912 non-null    object \n",
      " 3   Product           912 non-null    object \n",
      " 4   TypeName          912 non-null    object \n",
      " 5   Inches            912 non-null    float64\n",
      " 6   ScreenResolution  912 non-null    object \n",
      " 7   Cpu               912 non-null    object \n",
      " 8   Ram               912 non-null    object \n",
      " 9   Memory            912 non-null    object \n",
      " 10  Gpu               912 non-null    object \n",
      " 11  OpSys             912 non-null    object \n",
      " 12  Weight            912 non-null    object \n",
      " 13  Price_euros       912 non-null    float64\n",
      "dtypes: float64(2), int64(2), object(10)\n",
      "memory usage: 99.9+ KB\n"
     ]
    }
   ],
   "source": [
    "df_pc.info()\n",
    "# no tengo nulos"
   ]
  },
  {
   "cell_type": "code",
   "execution_count": 55,
   "metadata": {},
   "outputs": [],
   "source": [
    "x_train = df_pc#.drop('Price_euros', axis= 1)\n",
    "# y_train = df_pc['Price_euros']"
   ]
  },
  {
   "cell_type": "code",
   "execution_count": 56,
   "metadata": {},
   "outputs": [
    {
     "name": "stdout",
     "output_type": "stream",
     "text": [
      "ID\n",
      "----------\n",
      "Cardinalidad feature \"id\" -> 912.\n",
      "Cardinalidad tanto por 1 feature \"id\" -> 1.0.\n",
      "\n",
      "LAPTOP_ID\n",
      "----------\n",
      "Cardinalidad feature \"laptop_ID\" -> 912.\n",
      "Cardinalidad tanto por 1 feature \"laptop_ID\" -> 1.0.\n",
      "\n",
      "COMPANY\n",
      "----------\n",
      "Cardinalidad feature \"Company\" -> 19.\n",
      "Cardinalidad tanto por 1 feature \"Company\" -> 0.020833333333333332.\n",
      "\n",
      "PRODUCT\n",
      "----------\n",
      "Cardinalidad feature \"Product\" -> 475.\n",
      "Cardinalidad tanto por 1 feature \"Product\" -> 0.5208333333333334.\n",
      "\n",
      "TYPENAME\n",
      "----------\n",
      "Cardinalidad feature \"TypeName\" -> 6.\n",
      "Cardinalidad tanto por 1 feature \"TypeName\" -> 0.006578947368421052.\n",
      "\n",
      "INCHES\n",
      "----------\n",
      "Cardinalidad feature \"Inches\" -> 15.\n",
      "Cardinalidad tanto por 1 feature \"Inches\" -> 0.01644736842105263.\n",
      "\n",
      "SCREENRESOLUTION\n",
      "----------\n",
      "Cardinalidad feature \"ScreenResolution\" -> 35.\n",
      "Cardinalidad tanto por 1 feature \"ScreenResolution\" -> 0.03837719298245614.\n",
      "\n",
      "CPU\n",
      "----------\n",
      "Cardinalidad feature \"Cpu\" -> 104.\n",
      "Cardinalidad tanto por 1 feature \"Cpu\" -> 0.11403508771929824.\n",
      "\n",
      "RAM\n",
      "----------\n",
      "Cardinalidad feature \"Ram\" -> 8.\n",
      "Cardinalidad tanto por 1 feature \"Ram\" -> 0.008771929824561403.\n",
      "\n",
      "MEMORY\n",
      "----------\n",
      "Cardinalidad feature \"Memory\" -> 36.\n",
      "Cardinalidad tanto por 1 feature \"Memory\" -> 0.039473684210526314.\n",
      "\n",
      "GPU\n",
      "----------\n",
      "Cardinalidad feature \"Gpu\" -> 91.\n",
      "Cardinalidad tanto por 1 feature \"Gpu\" -> 0.09978070175438597.\n",
      "\n",
      "OPSYS\n",
      "----------\n",
      "Cardinalidad feature \"OpSys\" -> 9.\n",
      "Cardinalidad tanto por 1 feature \"OpSys\" -> 0.009868421052631578.\n",
      "\n",
      "WEIGHT\n",
      "----------\n",
      "Cardinalidad feature \"Weight\" -> 158.\n",
      "Cardinalidad tanto por 1 feature \"Weight\" -> 0.17324561403508773.\n",
      "\n",
      "PRICE_EUROS\n",
      "----------\n",
      "Cardinalidad feature \"Price_euros\" -> 614.\n",
      "Cardinalidad tanto por 1 feature \"Price_euros\" -> 0.6732456140350878.\n",
      "\n"
     ]
    }
   ],
   "source": [
    "for feature in x_train.columns:\n",
    "\n",
    "    cardinalidad = x_train[feature].nunique()\n",
    "    porc_cardinalidad = cardinalidad / len(x_train)\n",
    "\n",
    "    print(feature.upper())\n",
    "    print('-'*10)\n",
    "    print(f'Cardinalidad feature \"{feature}\" -> {cardinalidad}.')\n",
    "    print(f'Cardinalidad tanto por 1 feature \"{feature}\" -> {porc_cardinalidad}.\\n')"
   ]
  },
  {
   "cell_type": "code",
   "execution_count": 57,
   "metadata": {},
   "outputs": [
    {
     "data": {
      "text/plain": [
       "'\\nID. como feature no aporta nada imagino, solo la necesito para identificar el pc, lo puedo poner como indice\\nLAPTOP_ID. me sobra\\nCOMPANY. categorica\\nPRODUCT. numerica continua, quiero estudiar las variables, habra repetidas o similares?\\nTYPENAME. categorica\\nINCHES. numerica discreta\\nSCREENRESOLUTION. categorica, discreta. igual puedo simplificar esto?\\nCPU. continua, estudiar si puedo simplificarla, en pllan por el procesador por ejemplo\\nRAM. pasar a numerica discreta\\nMEMORY. igual puedo poner la memoria como numerica en gb y crear una columna anexa que sea SDD o HDD en binaria?\\nGPU. continua, no se bien que hacer con ella\\nOPSYS. categorica\\nWEIGHT. numerica continua. poner en kg o gramos?\\n'"
      ]
     },
     "execution_count": 57,
     "metadata": {},
     "output_type": "execute_result"
    }
   ],
   "source": [
    "'''\n",
    "ID. como feature no aporta nada imagino, solo la necesito para identificar el pc, lo puedo poner como indice\n",
    "LAPTOP_ID. me sobra\n",
    "COMPANY. categorica\n",
    "PRODUCT. numerica continua, quiero estudiar las variables, habra repetidas o similares?\n",
    "TYPENAME. categorica\n",
    "INCHES. numerica discreta\n",
    "SCREENRESOLUTION. categorica, discreta. igual puedo simplificar esto?\n",
    "CPU. continua, estudiar si puedo simplificarla, en pllan por el procesador por ejemplo\n",
    "RAM. pasar a numerica discreta\n",
    "MEMORY. igual puedo poner la memoria como numerica en gb y crear una columna anexa que sea SDD o HDD en binaria?\n",
    "GPU. continua, no se bien que hacer con ella\n",
    "OPSYS. categorica\n",
    "WEIGHT. numerica continua. poner en kg o gramos?\n",
    "'''"
   ]
  },
  {
   "cell_type": "code",
   "execution_count": 58,
   "metadata": {},
   "outputs": [],
   "source": [
    "x_train.drop('laptop_ID', axis= 1, inplace= True)\n",
    "# eliminamos la columna de laptop_id"
   ]
  },
  {
   "cell_type": "code",
   "execution_count": 59,
   "metadata": {},
   "outputs": [],
   "source": [
    "x_train.set_index('id', inplace= True)\n",
    "# ponemos id como indice del df"
   ]
  },
  {
   "cell_type": "markdown",
   "metadata": {},
   "source": [
    "## vamos a estudiar las variables una por una a ver como podemos optimizarlas  \n",
    "\n",
    "variable company"
   ]
  },
  {
   "cell_type": "code",
   "execution_count": 60,
   "metadata": {},
   "outputs": [
    {
     "data": {
      "text/plain": [
       "array(['Dell', 'Asus', 'Toshiba', 'MSI', 'HP', 'Lenovo', 'Acer', 'Apple',\n",
       "       'Fujitsu', 'Mediacom', 'Razer', 'Samsung', 'LG', 'Microsoft',\n",
       "       'Vero', 'Google', 'Huawei', 'Xiaomi', 'Chuwi'], dtype=object)"
      ]
     },
     "execution_count": 60,
     "metadata": {},
     "output_type": "execute_result"
    }
   ],
   "source": [
    "x_train['Company'].unique()"
   ]
  },
  {
   "cell_type": "code",
   "execution_count": 61,
   "metadata": {},
   "outputs": [
    {
     "data": {
      "text/plain": [
       "Company\n",
       "Lenovo       208\n",
       "Dell         207\n",
       "HP           189\n",
       "Asus         108\n",
       "Acer          75\n",
       "Toshiba       37\n",
       "MSI           34\n",
       "Apple         17\n",
       "Mediacom       7\n",
       "Razer          6\n",
       "Samsung        6\n",
       "Fujitsu        3\n",
       "Microsoft      3\n",
       "Vero           3\n",
       "Xiaomi         3\n",
       "Google         2\n",
       "Chuwi          2\n",
       "LG             1\n",
       "Huawei         1\n",
       "Name: count, dtype: int64"
      ]
     },
     "execution_count": 61,
     "metadata": {},
     "output_type": "execute_result"
    }
   ],
   "source": [
    "x_train['Company'].value_counts()"
   ]
  },
  {
   "cell_type": "code",
   "execution_count": 62,
   "metadata": {},
   "outputs": [],
   "source": [
    "ordinal_company = OrdinalEncoder()\n",
    "\n",
    "x_train['Company'] = ordinal_company.fit_transform(x_train[['Company']])\n",
    "# a compañia le pasamos el ordinal y convertimos a numerica"
   ]
  },
  {
   "cell_type": "markdown",
   "metadata": {},
   "source": [
    "variable producto"
   ]
  },
  {
   "cell_type": "code",
   "execution_count": 63,
   "metadata": {},
   "outputs": [
    {
     "data": {
      "text/plain": [
       "475"
      ]
     },
     "execution_count": 63,
     "metadata": {},
     "output_type": "execute_result"
    }
   ],
   "source": [
    "x_train['Product'].nunique()"
   ]
  },
  {
   "cell_type": "code",
   "execution_count": 64,
   "metadata": {},
   "outputs": [
    {
     "data": {
      "text/plain": [
       "array(['Inspiron 5567', 'X541NA (N4200/4GB/1TB/W10)', 'Portege Z30-C-1CW',\n",
       "       'Alienware 17', 'Latitude E7270', 'ZenBook Flip',\n",
       "       'X541UA-DM1897 (i3-6006U/4GB/256GB/FHD/Linux)', 'GP62M 7RDX',\n",
       "       'UX430UQ-GV209R (i7-7500U/8GB/256GB/GeForce', 'Rog GL553VE-FY052T',\n",
       "       'X540SA-RBPDN09 (N3710/4GB/1TB/W10)', 'Inspiron 5570',\n",
       "       'Tecra A50-C-1ZV', '15-cd005nv (A9-9420/6GB/256GB/Radeon',\n",
       "       'Satellite Pro', 'Latitude 5590', 'Yoga 520-14IKB',\n",
       "       'Aspire E5-575', 'Thinkpad P51', 'Aspire A517-51G', 'Yoga Book',\n",
       "       '17-ak002nv (A10-9620P/6GB/2TB/Radeon', 'EliteBook 820',\n",
       "       'Omen 17-W295', 'Precision M5520',\n",
       "       'X540UA-DM186 (i3-6006U/4GB/1TB/FHD/Linux)', 'Extensa EX2540-58KR',\n",
       "       'IdeaPad 310-15IKB', 'IdeaPad 320-15IAP', 'ProBook 640',\n",
       "       'Inspiron 3576', 'GL553VE-FY082T (i7-7700HQ/8GB/1TB',\n",
       "       'B51-80 (i7-6500U/8GB/1008GB/Radeon', 'Vostro 3568',\n",
       "       'Chromebook CB5-571-C1DZ', 'IdeaPad 320-15ABR', 'Inspiron 3552',\n",
       "       'X553SA-XX021T (N3050/4GB/500GB/W10)', 'Aspire 3', 'VivoBook S15',\n",
       "       'GL62M 7RD', 'Inspiron 5578',\n",
       "       '15-BS101nv (i7-8550U/8GB/256GB/FHD/W10)', 'ProBook 650',\n",
       "       'Chromebook X360', 'EliteBook 840', 'Inspiron 3567',\n",
       "       'IdeaPad 110-15ISK', 'MacBook Pro', '250 G6', 'EliteBook 850',\n",
       "       'Vostro 5568', '15-ra044nv (N3060/4GB/500GB/W10)', 'LifeBook A556',\n",
       "       'Tecra Z40-C-136', 'Thinkpad T460', 'Thinkpad T560',\n",
       "       'SmartBook 140', 'ThinkPad P51', 'Ideapad 310-15ISK', 'Aspire 5',\n",
       "       'L403NA-GA013TS (N3350/4GB/32GB/W10)', 'XPS 13',\n",
       "       'GL62M (i5-7300HQ/8GB/1TB', 'EliteBook Folio', 'Latitude 5480',\n",
       "       'IdeaPad 310-15ISK', 'Chromebook 14', 'Latitude E5570',\n",
       "       'Aspire A315-31', 'Blade Pro', 'IdeaPad 320-15AST',\n",
       "       'GT72VR Dominator', 'IdeaPad 320-15ISK',\n",
       "       'N23 (N3060/4GB/128GB/W10)', 'Thinkpad X270', 'Inspiron 7773',\n",
       "       'Inspiron 5379', 'Portege X30-D-10L',\n",
       "       '15-cb003na (i5-7300HQ/8GB/1TB',\n",
       "       'V330-15IKB (i7-8550U/8GB/256GB/FHD/W10)',\n",
       "       'V110-15ISK (i3-6006U/4GB/1TB/No',\n",
       "       'X553SA-XX031T (N3050/4GB/500GB/W10)', 'EliteBook x360',\n",
       "       'Probook 430', 'Inspiron 7567', 'IdeaPad Y700-15ACZ',\n",
       "       'Legion Y520-15IKBN', 'Latitude 3180', 'Probook 450',\n",
       "       'ThinkPad Yoga', 'ROG Strix', 'K756UX-T4340T (i5-7200U/8GB/500GB',\n",
       "       'GE63VR 7RE', 'Chromebook C731-C78G', 'GT73EVR 7RE',\n",
       "       'X555QG-DM242T (A10-9620P/4GB/1TB', 'ProBook 450',\n",
       "       'Tecra A40-C-1E5', 'Yoga 900-13ISK', 'Elitebook 1040',\n",
       "       'GE72 Apache', 'Thinkpad T470', 'Pro P2540UA-XS51', 'Probook 440',\n",
       "       'Zenbook 3', 'V310-15ISK (i3-6006U/4GB/500GB/No', 'Inspiron 7577',\n",
       "       'ProBook 470', 'Inspiron 3179',\n",
       "       'V320-17ISK (i3-6006U/4GB/500GB/FHD/No', 'VivoBook Max', 'Swift 3',\n",
       "       '15-AY023na (N3710/8GB/2TB/W10)', 'Latitude 3580', 'GT62VR 7RE',\n",
       "       'XPS 15', 'EliteBook 1040', 'GL62M 7RDX', 'ZBook 15u',\n",
       "       'Pavilion Power', 'Envy 13-AD007nv',\n",
       "       'UX410UA-GV350T (i5-8250U/8GB/256GB/FHD/W10)', 'Aspire 7',\n",
       "       'Zbook 15', 'Lifebook A557', 'Notebook 9', 'IdeaPad 320-15IKBN',\n",
       "       'Rog GL502VM-DS74', 'ThinkPad 13', 'Aspire A315-51',\n",
       "       'V110-15IKB (i5-7200U/4GB/128GB/W10)',\n",
       "       '15-bw011nv (A6-9220/4GB/1TB/FHD/W10)', 'Latitude 5580',\n",
       "       'Ideapad 700-15ISK', 'Elitebook 840', 'TravelMate P259-G2',\n",
       "       'GE73VR 7RE', 'Aspire E5-475', 'ThinkPad X1', 'Elitebook 820',\n",
       "       'Aspire R7', 'Aspire ES1-572', 'IdeaPad 510-15IKB',\n",
       "       'SP714-51 (i7-7Y75/8GB/256GB/FHD/W10)', 'ThinkPad P40', 'GL62 6QF',\n",
       "       'Latitude 7480', 'Aspire E5-774G', 'Portégé Z30-C-16K',\n",
       "       'FX502VM-DM105T (i7-6700HQ/8GB/1TB/GeForce',\n",
       "       'X542UQ-DM117 (i3-7100U/8GB/1TB/GeForce', 'Spectre Pro',\n",
       "       'Portege X30-D-10V', 'Rog Strix', 'Predator G9-793',\n",
       "       'SmartBook 130', 'Tecra A50-D-11D', 'Inspiron 7579',\n",
       "       '15-bw007nv (A10-9620P/6GB/128GB/Radeon', 'ThinkPad L570',\n",
       "       'Spin 3', 'Pro P2540UA-XO0198T', 'Rog G752VT-GC073T',\n",
       "       'V510-15IKB (i5-7200U/8GB/256GB/FHD/No',\n",
       "       'E402WA-GA010T (E2-6110/2GB/32GB/W10)', 'Latitude 3480',\n",
       "       'Stream 11-Y000na', 'L502NA-GO052T (N3350/4GB/128GB/W10)',\n",
       "       'Rog GL553VE-DS74', 'Inspiron 5579',\n",
       "       'X705UV-BX074T (i3-6006U/4GB/1TB/GeForce', 'GS43VR 7RE',\n",
       "       'IdeaPad 320-17IKBR', 'Gram 15Z975', 'ZBook 15', 'Latitude E7470',\n",
       "       'E402WA-GA007T (E2-6110/4GB/64GB/W10', 'Rog G752VL-UH71T',\n",
       "       'GP72MVR 7RFX', 'ThinkPad E570', 'ThinkPad T470s',\n",
       "       'X541NA-PD1003Y (N4200/4GB/500GB/W10)', 'Pavilion 15-AW003nv',\n",
       "       'Aspire 1', 'Envy 13-AB077cl', 'X541NA-GO414T (N3350/8GB/1TB/W10)',\n",
       "       'MacBook 12\"', 'ThinkPad T460s', 'Macbook Air',\n",
       "       '17-X047na (i3-6006U/8GB/1TB/W10)', 'IdeaPad Y900-17ISK',\n",
       "       'Swift SF114-31-P5HY', 'Spectre x360', 'Chromebook Flip',\n",
       "       'Thinkpad P50', 'Inspiron 5568', 'Inspiron 5770', 'Laptop MSI',\n",
       "       'GS73VR Stealth', 'SmartBook Edge', 'ThinkPad E480',\n",
       "       'Thinkpad Yoga', 'Yoga 500-15ISK', 'Latitude 7280',\n",
       "       'IdeaPad 320-15IKB', 'ZenBook UX305CA-UBM1', 'GT73VR Titan',\n",
       "       'Thinkpad T460p', 'Surface Laptop',\n",
       "       'V310-15IKB (i5-7200U/4GB/1TB/No', 'ThinkPad T470p',\n",
       "       'Q304UA-BHI5T11 (i5-7200U/6GB/1TB/FHD/W10)', 'Aspire ES1-523',\n",
       "       'Elitebook Folio', 'Portégé Z30-C-188', 'IdeaPad 100S-14IBR',\n",
       "       'B51-80 (i7-6500U/4GB/1008GB/FHD/W7)', 'Yoga 500-14ISK',\n",
       "       'Portege Z30-C-16J', '17-bs000nv I3', 'IdeaPad Y700-15ISK',\n",
       "       '15-bw009nv (A12-9720P/6GB/1TB/Radeon', 'Envy 13-ad009n',\n",
       "       'VivoBook Flip', '15-bs190od (i5-8250U/4GB/1TB/W10)',\n",
       "       '15-bs078cl (i7-7500U/8GB/2TB/W10)', 'Omen 17-W006na',\n",
       "       'Pro P2540UA-XO0192R', 'Portege Z30T-C-133', 'Tecra X40-D-10G',\n",
       "       'TravelMate B117-M', 'X751NV-TY001 (N4200/4GB/1TB/GeForce',\n",
       "       'Thinkpad E470', 'ProBook 440', 'Thinkpad L560', 'Elitebook 850',\n",
       "       '15-BS026nv (i5-7200U/8GB/256GB/Radeon', 'Inspiron 7570',\n",
       "       'Yoga 900S-12ISK', 'ThinkPad P70', 'Aspire A715-71G',\n",
       "       'Chromebook N23', 'Omen 17-AN010nv', 'K146 (N3350/4GB/32GB/W10)',\n",
       "       'Legion Y720-15IKB', 'ThinkPad X270', 'GP62 7RDX', 'Spin 5',\n",
       "       'UX510UX-CN269T (i7-7500U/8GB/256GB', 'Latitude 5289',\n",
       "       'Chromebook 15', 'ZBook 17', 'Pixelbook (Core', 'Leopard GP72M',\n",
       "       'Aspire A515-51G', 'VivoBook E403NA', 'Portege X30-D-10X',\n",
       "       'Rog GL702VS-GC095T', 'ThinkPad T570', 'Thinkpad X260',\n",
       "       'Thinkpad P71', 'ZenBook UX430UA',\n",
       "       'FX503VM-E4007T (i7-7700HQ/16GB/1TB', 'ZenBook UX430UN',\n",
       "       'Pavilion X360', 'Vostro 3559', '250 G5', 'ZBook Studio',\n",
       "       'MateBook X', 'Tecra Z50-C-144', 'Chromebook 3',\n",
       "       'V110-15ISK (i3-6006U/4GB/1TB/Radeon', 'ThinkPad T560',\n",
       "       'IdeaPad 520S-14IKB', 'Tecra Z40-C-12X', 'Flex 5', 'GP72M 7REX',\n",
       "       'Precision 7520', 'V110-15ISK (i5-6200U/4GB/500GB/W10)',\n",
       "       'ROG GL703VD-GC028T', 'Alienware 15',\n",
       "       'V330-15IKB (i5-8250U/4GB/256GB/FHD/W10)', 'GP72VR Leopard',\n",
       "       'Inspiron 5370', 'Precision 3520', 'Yoga 910-13IKB',\n",
       "       'Aspire A515-51G-59QF', 'ThinkPad L470', 'ProBook 430',\n",
       "       'Chromebook 13', 'Thinkpad E570', 'ThinkPad E580', 'GE63VR 7RF',\n",
       "       'Inspiron 5767', 'Ideapad 510S-13IKB', 'Yoga 920-13IKB',\n",
       "       'N42-20 Chromebook', 'Tecra Z50-C-140', 'Inspiron 3168',\n",
       "       'Tecra A40-C-1DF', 'Pavilion x360',\n",
       "       'V310-15IKB (i7-7500U/4GB/1TB/FHD/W10)', 'ZenBook UX530UQ-PRO',\n",
       "       'K147 (N3350/4GB/32GB/FHD/W10)', 'Thinkpad T570',\n",
       "       '15-bs011nv (i7-7500U/4GB/500GB/Radeon', 'Aspire E5-576G',\n",
       "       'Inspiron 7559', 'Yoga 730', 'Probook 470', 'ThinkPad T460',\n",
       "       'C740-C9QX (3205U/2GB/32GB/Chrome', 'Zenbook Flip',\n",
       "       '15-BA015wm (E2-7110/4GB/500GB/W10)',\n",
       "       '15-rb013nv (E2-9000e/4GB/500GB/W10)', 'Vostro 5468',\n",
       "       'Spectre 13-V100nv', 'R417NA-RS01 (N3350/4GB/32GB/W10)',\n",
       "       'FlexBook Edge', '15-bs018nq (i3-6006U/4GB/500GB/FHD/No',\n",
       "       'GT62VR 6RD', 'Latitude E5270', 'Vivobook E200HA',\n",
       "       'Omen 17-w207nv', 'V110-15ISK (i3-6006U/4GB/500GB/W10)',\n",
       "       'X541UV-DM1439T (i3-7100U/6GB/256GB/GeForce', 'GS60 Ghost',\n",
       "       'LifeBook A557', 'Rog G701VIK-BA060T', 'Zenbook UX410UA-GV027T',\n",
       "       'G752VY-GC162T (i7-6700HQ/16GB/1TB', 'Rog GL753VE-DS74',\n",
       "       'Thinkpad X1', 'Pavilion 15-CK000nv', 'Zenbook UX430UA',\n",
       "       'Vivobook Max', 'B51-80 (i5-6200U/8GB/1TB/Radeon',\n",
       "       'FX553VD-FY647T (i7-7700HQ/8GB/256GB/GeForce',\n",
       "       '15-bs015dx (i5-7200U/8GB/1TB/W10)',\n",
       "       '15-ay047nv (i3-6006U/6GB/1TB/Radeon',\n",
       "       'V110-15IAP (N3350/4GB/128GB/No', 'IdeaPad 300-17ISK',\n",
       "       'V310-15IKB (i5-7200U/4GB/1TB/FHD/W10)',\n",
       "       '17-BS037cl (i3-6006U/8GB/1TB/W10)',\n",
       "       'V110-15IAP (N3350/4GB/1TB/No', 'V310-15IKB (i5-7200U/8GB/1TB',\n",
       "       'Omen 15-AX205na', 'V142 (X5-Z8350/2GB/32GB/W10)', 'Omen -',\n",
       "       'ZenBook UX510UX-CN211T', 'IdeaPad 320-17IKB',\n",
       "       'A541NA-GO342 (N3350/4GB/500GB/Linux)',\n",
       "       '15-BS103nv (i5-8250U/6GB/256GB/Radeon', 'Yoga 510-15IKB',\n",
       "       'FX753VE-GC093 (i7-7700HQ/12GB/1TB/GeForce', 'Tecra A50-D-11M',\n",
       "       'Portege X20W-D-10V', 'V110-15ISK (i3-6006U/4GB/128GB/W10)',\n",
       "       'Latitude 3380', 'Yoga 720-13IKB', 'GS40 Phantom',\n",
       "       'X541NA-GO121 (N4200/4GB/1TB/Linux)', 'Latitude 3570',\n",
       "       'Envy 17-U275cl', 'IdeaPad 500-15ISK', 'GS63VR 7RF',\n",
       "       'FX753VD-GC071T (i7-7700HQ/8GB/1TB/GeForce',\n",
       "       'FX753VD-GC086T (i5-7300HQ/8GB/1TB',\n",
       "       'X556UJ-XO044T (i7-6500U/4GB/500GB/GeForce', 'Inspiron 5577',\n",
       "       '17-BS092ND (i3-6006U/8GB/256GB/W10)', 'Pro P2540UA-AB51',\n",
       "       '255 G6', 'ZenBook Pro', 'Portege A30-C-1CZ', 'Rog GL702VM-GC017T',\n",
       "       'IdeaPad 320-14IAP', 'GL72M 7REX',\n",
       "       '15-bs053od (i7-7500U/6GB/1TB/W10)', 'Aspire F5-573G',\n",
       "       'IdeaPad 510s-14IKB', 'Noteb Pav', 'Aspire ES1-531',\n",
       "       'ZenBook UX310UA-WB71', 'GE72MVR 7RG',\n",
       "       'V330-15IKB (i5-8250U/8GB/256GB/FHD/W10)', 'GE62 Apache',\n",
       "       'IdeaPad 520s-14IKB', 'V110-15ISK (i5-6200U/4GB/128GB/W10)',\n",
       "       'Ideapad 320-15IKBN', 'FX550IK-DM018T (FX-9830P/8GB/1TB/Radeon',\n",
       "       'X541NA (N3350/4GB/1TB/FHD/W10)', 'Rog GL702VM-GC354T',\n",
       "       'VivoBook X540YA-XX519T', 'Aspire F5-573G-510L',\n",
       "       '15-AC110nv (i7-6500U/6GB/1TB/Radeon', 'Rog GL502VS',\n",
       "       'TravelMate P238-M', 'Pavilion 15-cb003nv', 'Predator 17',\n",
       "       'ROG G701VI', 'Mi Notebook', 'GT80S 6QF-074US',\n",
       "       'Chromebook C910-C2ST', '250 G4', 'Tecra Z40-C-161', 'Nitro 5',\n",
       "       'GS73VR 7RG', 'V310-15ISK (i5-7200U/8GB/1TB', 'ThinkPad E470',\n",
       "       'ROG G752VSK-GC493T', '17-bs001nv (i5-7200U/6GB/2TB/Radeon',\n",
       "       'Probook 650', 'X541NA-GO020T (N3350/4GB/1TB/W10)', 'Probook 640',\n",
       "       'Swift 7', 'Tecra A40-C-1KF', 'VivoBook Pro',\n",
       "       '15-bw003nv (A9-Series-9420/4GB/256GB/FHD/W10)',\n",
       "       'FX753VE-GC155T (i7-7700HQ/16GB/1TB', 'Tecra A50-C-21G',\n",
       "       'Aspire ES1-533', 'Yoga 720-15IKB', 'Lapbook 15,6',\n",
       "       'IdeaPad 720S-13IKB', 'GE72VR Apache', 'Zbook 17', 'Blade Stealth',\n",
       "       'Omen 15-ce006nv', 'MacBook Air', 'LapBook 15.6\"',\n",
       "       '15-bs025nv (i5-7200U/8GB/256GB/W10)', 'Zenbook UX330UA-AH5Q',\n",
       "       'ProBook x360', '17-ak001nv (A6-9220/4GB/500GB/Radeon',\n",
       "       'UX410UA-GV097T (i3-7100U/4GB/256GB/FHD/W10)',\n",
       "       'Pavilion 15-BC000nv', 'Precision 5520', 'Vostro 5370',\n",
       "       'Smartbook 142', 'Thinkpad T460s',\n",
       "       '15-ba043na (A12-9700P/8GB/2TB/W10)', 'Thinkpad 13',\n",
       "       'Portege Z30-C-1CV', 'Stream 14-AX000nv',\n",
       "       'FX553VD-DM627T (i5-7300HQ/8GB/1TB', 'IdeaPad Y910-17ISK',\n",
       "       'Rog G752VL-GC088D', 'GS70 Stealth', 'Envy 13-AB002nv',\n",
       "       'GP62M 7REX', 'SmartBook 141', 'Zenbook UX510UW-FI095T',\n",
       "       'Portege Z30-C-16L', 'Rog GL753VD-GC082T',\n",
       "       'TMX349-G2-M-50FS (i5-7200U/8GB/256GB/FHD/W10)', 'Tecra Z50-D-10E',\n",
       "       'X541NA (N3350/4GB/1TB/Linux)',\n",
       "       'X751SV-TY001T (N3710/4GB/1TB/GeForce', 'Inspiron 5368',\n",
       "       '15-bw002nv (A6-9220/4GB/256GB/Radeon', 'Rog GL552VW-CN470T',\n",
       "       'Inspiron 7378', 'Yoga 500-14IBD',\n",
       "       'X505BP-BR019T (A9-9420/4GB/1TB/Radeon',\n",
       "       'V310-15ISK (i3-6006U/4GB/128GB/FHD/No', 'ThinkPad T470',\n",
       "       '14-am079na (N3710/8GB/2TB/W10)',\n",
       "       'V110-15ISK (i5-6200U/4GB/500GB/No', 'Ideapad 320-15IKBR',\n",
       "       'Latitude E5470', 'Thinkpad P51s', 'Chromebook C738T-C2EJ',\n",
       "       'Portege Z30-C-16H'], dtype=object)"
      ]
     },
     "execution_count": 64,
     "metadata": {},
     "output_type": "execute_result"
    }
   ],
   "source": [
    "x_train['Product'].unique()"
   ]
  },
  {
   "cell_type": "code",
   "execution_count": 65,
   "metadata": {},
   "outputs": [
    {
     "data": {
      "text/plain": [
       "Product\n",
       "Inspiron 3567                                21\n",
       "XPS 13                                       20\n",
       "250 G6                                       19\n",
       "Vostro 3568                                  16\n",
       "Inspiron 5570                                11\n",
       "                                             ..\n",
       "Elitebook Folio                               1\n",
       "Q304UA-BHI5T11 (i5-7200U/6GB/1TB/FHD/W10)     1\n",
       "ThinkPad T470p                                1\n",
       "V310-15IKB (i5-7200U/4GB/1TB/No               1\n",
       "Portege Z30-C-16H                             1\n",
       "Name: count, Length: 475, dtype: int64"
      ]
     },
     "execution_count": 65,
     "metadata": {},
     "output_type": "execute_result"
    }
   ],
   "source": [
    "x_train['Product'].value_counts()"
   ]
  },
  {
   "cell_type": "code",
   "execution_count": 66,
   "metadata": {},
   "outputs": [],
   "source": [
    "ordinal_product = OrdinalEncoder()\n",
    "\n",
    "x_train['Product'] = ordinal_product.fit_transform(x_train[['Product']])\n",
    "# a product le pasamos el ordinal y convertimos a numerica"
   ]
  },
  {
   "cell_type": "markdown",
   "metadata": {},
   "source": [
    "variable tipename"
   ]
  },
  {
   "cell_type": "code",
   "execution_count": 67,
   "metadata": {},
   "outputs": [
    {
     "data": {
      "text/plain": [
       "array(['Notebook', 'Gaming', 'Ultrabook', '2 in 1 Convertible', 'Netbook',\n",
       "       'Workstation'], dtype=object)"
      ]
     },
     "execution_count": 67,
     "metadata": {},
     "output_type": "execute_result"
    }
   ],
   "source": [
    "x_train['TypeName'].unique()"
   ]
  },
  {
   "cell_type": "code",
   "execution_count": 68,
   "metadata": {},
   "outputs": [],
   "source": [
    "ordinal_typename = OrdinalEncoder()\n",
    "\n",
    "x_train['TypeName'] = ordinal_typename.fit_transform(x_train[['TypeName']])"
   ]
  },
  {
   "cell_type": "markdown",
   "metadata": {},
   "source": [
    "variable inches"
   ]
  },
  {
   "cell_type": "code",
   "execution_count": 69,
   "metadata": {},
   "outputs": [
    {
     "data": {
      "text/plain": [
       "array([15.6, 13.3, 12.5, 14. , 17.3, 10.1, 11.6, 15.4, 15. , 12. , 13.5,\n",
       "       12.3, 13. , 13.9, 18.4])"
      ]
     },
     "execution_count": 69,
     "metadata": {},
     "output_type": "execute_result"
    }
   ],
   "source": [
    "x_train['Inches'].unique()\n",
    "\n",
    "# a esta columna no vamos a hacerle nada"
   ]
  },
  {
   "cell_type": "markdown",
   "metadata": {},
   "source": [
    "varaible screenresolution"
   ]
  },
  {
   "cell_type": "code",
   "execution_count": 70,
   "metadata": {},
   "outputs": [
    {
     "data": {
      "text/plain": [
       "array(['1366x768', 'Full HD 1920x1080', 'IPS Panel 4K Ultra HD 3840x2160',\n",
       "       'Full HD / Touchscreen 1920x1080', 'IPS Panel Full HD 1920x1080',\n",
       "       'IPS Panel Full HD / Touchscreen 1920x1080',\n",
       "       'IPS Panel Touchscreen 1920x1200',\n",
       "       '4K Ultra HD / Touchscreen 3840x2160', 'Touchscreen 1366x768',\n",
       "       'IPS Panel Retina Display 2880x1800', 'IPS Panel 1366x768',\n",
       "       'IPS Panel Quad HD+ / Touchscreen 3200x1800',\n",
       "       'Quad HD+ / Touchscreen 3200x1800', '4K Ultra HD 3840x2160',\n",
       "       'IPS Panel 2560x1440', '1600x900', 'Touchscreen 2560x1440',\n",
       "       'IPS Panel Quad HD+ 2560x1440',\n",
       "       'IPS Panel Retina Display 2304x1440', '1440x900',\n",
       "       'IPS Panel Retina Display 2560x1600', 'Touchscreen 2256x1504',\n",
       "       '2560x1440', 'IPS Panel Touchscreen / 4K Ultra HD 3840x2160',\n",
       "       'IPS Panel Touchscreen 2560x1440', '1920x1080',\n",
       "       'Touchscreen 2400x1600', 'IPS Panel Full HD 2160x1440',\n",
       "       'Quad HD+ 3200x1800',\n",
       "       'IPS Panel 4K Ultra HD / Touchscreen 3840x2160',\n",
       "       'Touchscreen / Full HD 1920x1080',\n",
       "       'Touchscreen / 4K Ultra HD 3840x2160',\n",
       "       'IPS Panel Quad HD+ 3200x1800', 'IPS Panel Full HD 1920x1200',\n",
       "       'IPS Panel Touchscreen 1366x768'], dtype=object)"
      ]
     },
     "execution_count": 70,
     "metadata": {},
     "output_type": "execute_result"
    }
   ],
   "source": [
    "x_train['ScreenResolution'].unique()"
   ]
  },
  {
   "cell_type": "code",
   "execution_count": 71,
   "metadata": {},
   "outputs": [],
   "source": [
    "# vamos a utilizar expresiones regulares para extraer la resolucion en plan 1234x1234\n",
    "# patron = r'\\d{3,4}x\\d{3,4}'"
   ]
  },
  {
   "cell_type": "code",
   "execution_count": 72,
   "metadata": {},
   "outputs": [],
   "source": [
    "# creamos una funcion para pasarla por el df\n",
    "\n",
    "def resolution_converter(texto):\n",
    "\n",
    "    patron = r'\\d{3,4}x\\d{3,4}'\n",
    "    res = re.findall(patron, texto)\n",
    "\n",
    "    return res[0]"
   ]
  },
  {
   "cell_type": "code",
   "execution_count": 73,
   "metadata": {},
   "outputs": [],
   "source": [
    "x_train['ScreenResolution'] = x_train['ScreenResolution'].apply(resolution_converter)"
   ]
  },
  {
   "cell_type": "code",
   "execution_count": 74,
   "metadata": {},
   "outputs": [
    {
     "data": {
      "text/plain": [
       "ScreenResolution\n",
       "1920x1080    582\n",
       "1366x768     229\n",
       "3840x2160     34\n",
       "3200x1800     15\n",
       "2560x1440     14\n",
       "1600x900      11\n",
       "2304x1440      6\n",
       "1920x1200      5\n",
       "2560x1600      5\n",
       "2880x1800      3\n",
       "2256x1504      3\n",
       "1440x900       2\n",
       "2400x1600      2\n",
       "2160x1440      1\n",
       "Name: count, dtype: int64"
      ]
     },
     "execution_count": 74,
     "metadata": {},
     "output_type": "execute_result"
    }
   ],
   "source": [
    "x_train['ScreenResolution'].value_counts()\n",
    "# me devuelve 14 categorias, me vale"
   ]
  },
  {
   "cell_type": "code",
   "execution_count": 75,
   "metadata": {},
   "outputs": [],
   "source": [
    "ordinal_screen = OrdinalEncoder()\n",
    "\n",
    "x_train['ScreenResolution'] = ordinal_screen.fit_transform(x_train[['ScreenResolution']])"
   ]
  },
  {
   "cell_type": "markdown",
   "metadata": {},
   "source": [
    "variable cpu"
   ]
  },
  {
   "cell_type": "code",
   "execution_count": 76,
   "metadata": {},
   "outputs": [
    {
     "data": {
      "text/plain": [
       "array(['Intel Core i7 7500U 2.7GHz',\n",
       "       'Intel Pentium Quad Core N4200 1.1GHz',\n",
       "       'Intel Core i5 6200U 2.3GHz', 'Intel Core i7 7700HQ 2.8GHz',\n",
       "       'Intel Core i5 6300U 2.4GHz', 'Intel Core i3 6006U 2GHz',\n",
       "       'Intel Pentium Quad Core N3710 1.6GHz',\n",
       "       'Intel Core i7 8550U 1.8GHz', 'AMD A9-Series A9-9420 3GHz',\n",
       "       'Intel Pentium Dual Core 4405U 2.1GHz',\n",
       "       'Intel Core i5 8250U 1.6GHz', 'Intel Core i3 7100U 2.4GHz',\n",
       "       'Intel Core i5 7200U 2.5GHz', 'Intel Xeon E3-1535M v6 3.1GHz',\n",
       "       'Intel Atom x5-Z8550 1.44GHz', 'AMD A10-Series 9620P 2.5GHz',\n",
       "       'Intel Core i5 7300U 2.6GHz',\n",
       "       'Intel Celeron Dual Core N3350 1.1GHz',\n",
       "       'Intel Core i7 6500U 2.5GHz', 'Intel Core i3 6006U 2.0GHz',\n",
       "       'Intel Celeron Dual Core 3205U 1.5GHz',\n",
       "       'AMD A12-Series 9720P 3.6GHz',\n",
       "       'Intel Celeron Dual Core N3050 1.6GHz',\n",
       "       'Intel Core i3 7130U 2.7GHz', 'Intel Core i5 7300HQ 2.5GHz',\n",
       "       'Intel Core i5 7200U 2.7GHz', 'Intel Core i7 7820HQ 2.9GHz',\n",
       "       'Intel Core i7 2.2GHz', 'Intel Celeron Dual Core N3060 1.6GHz',\n",
       "       'Intel Core i7 6600U 2.6GHz', 'Intel Atom x5-Z8350 1.44GHz',\n",
       "       'Intel Core M 6Y75 1.2GHz', 'Intel Core i7 7600U 2.8GHz',\n",
       "       'Intel Core i7 7820HK 2.9GHz', 'AMD E-Series E2-9000 2.2GHz',\n",
       "       'Intel Core i7 6500U 2.50GHz', 'AMD A9-Series 9420 3GHz',\n",
       "       'AMD FX 8800P 2.1GHz', 'AMD A10-Series A10-9620P 2.5GHz',\n",
       "       'Intel Core i7 6700HQ 2.6GHz', 'Intel Core M 7Y30 1.0GHz',\n",
       "       'Intel Core i7 7Y75 1.3GHz', 'Intel Core i5 7200U 2.70GHz',\n",
       "       'Intel Celeron Dual Core 3855U 1.6GHz',\n",
       "       'AMD A6-Series 9220 2.5GHz', 'Intel Core i5 6300HQ 2.3GHz',\n",
       "       'Intel Core i5 7500U 2.7GHz', 'AMD Ryzen 1600 3.2GHz',\n",
       "       'Intel Celeron Dual Core N3350 2GHz',\n",
       "       'AMD E-Series E2-6110 1.5GHz', 'AMD E-Series 6110 1.5GHz',\n",
       "       'AMD A9-Series 9410 2.9GHz',\n",
       "       'Intel Celeron Quad Core N3450 1.1GHz',\n",
       "       'Intel Core i5 7440HQ 2.8GHz', 'Intel Core i5 1.3GHz',\n",
       "       'Intel Core i5 1.8GHz', 'Intel Core i7 6820HK 2.7GHz',\n",
       "       'Intel Core M M3-6Y30 0.9GHz', 'Intel Core i7 6820HQ 2.7GHz',\n",
       "       'Intel Core i3 6100U 2.3GHz', 'Intel Core i5 3.1GHz',\n",
       "       'Intel Core M 6Y30 0.9GHz', 'Intel Core M 1.2GHz',\n",
       "       'AMD A8-Series 7410 2.2GHz', 'Intel Core i5 7Y54 1.2GHz',\n",
       "       'AMD A12-Series 9720P 2.7GHz', 'Intel Core i7 8650U 1.9GHz',\n",
       "       'Intel Core i5 2.3GHz', 'Intel Core i7 7660U 2.5GHz',\n",
       "       'Intel Core i5 7Y57 1.2GHz', 'Intel Core i3 6006U 2.2GHz',\n",
       "       'Intel Core i7 2.8GHz', 'Intel Xeon E3-1505M V6 3GHz',\n",
       "       'AMD Ryzen 1700 3GHz', 'Intel Core M 1.1GHz',\n",
       "       'Intel Pentium Dual Core 4405Y 1.5GHz',\n",
       "       'Intel Celeron Quad Core N3160 1.6GHz',\n",
       "       'Intel Celeron Dual Core N3060 1.60GHz',\n",
       "       'AMD E-Series 7110 1.8GHz', 'AMD E-Series 9000e 1.5GHz',\n",
       "       'Intel Core i3 6100U 2.1GHz',\n",
       "       'Intel Pentium Dual Core N4200 1.1GHz',\n",
       "       'Intel Core M M7-6Y75 1.2GHz', 'Intel Core M m3 1.2GHz',\n",
       "       'Intel Atom X5-Z8350 1.44GHz', 'Intel Core i5 7200U 2.50GHz',\n",
       "       'Intel Core i7 2.7GHz', 'AMD FX 9830P 3GHz',\n",
       "       'Intel Core M m3-7Y30 2.2GHz', 'Intel Core i5 2.9GHz',\n",
       "       'Intel Core i7 6920HQ 2.9GHz', 'Intel Core i7 7560U 2.4GHz',\n",
       "       'Intel Xeon E3-1535M v5 2.9GHz', 'Intel Core i5 1.6GHz',\n",
       "       'Intel Core i7 6560U 2.2GHz', 'Intel Atom x5-Z8300 1.44GHz',\n",
       "       'Intel Core i7 7500U 2.5GHz', 'Intel Atom Z8350 1.92GHz',\n",
       "       'AMD A12-Series 9700P 2.5GHz',\n",
       "       'Intel Pentium Quad Core N3700 1.6GHz',\n",
       "       'AMD A6-Series A6-9220 2.5GHz', 'AMD A9-Series 9420 2.9GHz',\n",
       "       'AMD A6-Series 9220 2.9GHz', 'AMD E-Series 9000 2.2GHz'],\n",
       "      dtype=object)"
      ]
     },
     "execution_count": 76,
     "metadata": {},
     "output_type": "execute_result"
    }
   ],
   "source": [
    "x_train['Cpu'].unique()\n",
    "\n",
    "# aqui me parece a mi que vamos a utilizar tambien las expresiones regulares para extraer los GHz"
   ]
  },
  {
   "cell_type": "code",
   "execution_count": 77,
   "metadata": {},
   "outputs": [],
   "source": [
    "# creamos una funcion para pasarla por el df\n",
    "\n",
    "def cpu_converter(texto):\n",
    "\n",
    "    patron = r'\\d{1,2}\\.\\d{1,2}GHz'\n",
    "    res = re.findall(patron, texto)\n",
    "\n",
    "    if res == []:\n",
    "\n",
    "        patron = r'\\dGHz'\n",
    "        res = re.findall(patron, texto)\n",
    "    \n",
    "    res[0] = res[0].replace('GHz', '')\n",
    "\n",
    "    return float(res[0])"
   ]
  },
  {
   "cell_type": "code",
   "execution_count": 78,
   "metadata": {},
   "outputs": [],
   "source": [
    "x_train['Cpu'] = x_train['Cpu'].apply(cpu_converter)"
   ]
  },
  {
   "cell_type": "code",
   "execution_count": 79,
   "metadata": {},
   "outputs": [
    {
     "data": {
      "text/plain": [
       "Cpu\n",
       "2.50    208\n",
       "2.80    114\n",
       "2.70    107\n",
       "1.60     98\n",
       "2.30     65\n",
       "2.00     58\n",
       "1.80     48\n",
       "2.60     47\n",
       "1.10     40\n",
       "2.40     40\n",
       "2.90     15\n",
       "3.00     13\n",
       "1.44     11\n",
       "1.20     10\n",
       "1.50      8\n",
       "2.20      8\n",
       "1.30      6\n",
       "3.60      4\n",
       "3.10      3\n",
       "2.10      3\n",
       "0.90      2\n",
       "1.00      1\n",
       "3.20      1\n",
       "1.90      1\n",
       "1.92      1\n",
       "Name: count, dtype: int64"
      ]
     },
     "execution_count": 79,
     "metadata": {},
     "output_type": "execute_result"
    }
   ],
   "source": [
    "x_train['Cpu'].value_counts()"
   ]
  },
  {
   "cell_type": "markdown",
   "metadata": {},
   "source": [
    "variable ram"
   ]
  },
  {
   "cell_type": "code",
   "execution_count": 80,
   "metadata": {},
   "outputs": [
    {
     "data": {
      "text/plain": [
       "array(['8GB', '4GB', '16GB', '12GB', '6GB', '32GB', '2GB', '24GB'],\n",
       "      dtype=object)"
      ]
     },
     "execution_count": 80,
     "metadata": {},
     "output_type": "execute_result"
    }
   ],
   "source": [
    "# vamos a extraerle el valor numerico con expresiones regulares y hacerla numerica\n",
    "\n",
    "x_train['Ram'].unique()"
   ]
  },
  {
   "cell_type": "code",
   "execution_count": 81,
   "metadata": {},
   "outputs": [],
   "source": [
    "# creamos una funcion para pasarla por el df\n",
    "\n",
    "def ram_converter(texto):\n",
    "\n",
    "    patron = r'\\d{1,2}'\n",
    "    res = re.findall(patron, texto)\n",
    "\n",
    "    return int(res[0])"
   ]
  },
  {
   "cell_type": "code",
   "execution_count": 82,
   "metadata": {},
   "outputs": [],
   "source": [
    "x_train['Ram'] = x_train['Ram'].apply(ram_converter)"
   ]
  },
  {
   "cell_type": "markdown",
   "metadata": {},
   "source": [
    "variable memory"
   ]
  },
  {
   "cell_type": "code",
   "execution_count": 83,
   "metadata": {},
   "outputs": [
    {
     "data": {
      "text/plain": [
       "array(['1TB HDD', '256GB SSD', '256GB SSD +  1TB HDD',\n",
       "       '512GB SSD +  2TB HDD', '128GB SSD +  1TB HDD', '128GB SSD',\n",
       "       '1TB SSD', '64GB Flash Storage', '2TB HDD', '500GB HDD',\n",
       "       '1.0TB Hybrid', '16GB Flash Storage', '256GB Flash Storage',\n",
       "       '180GB SSD', '32GB Flash Storage', '512GB SSD',\n",
       "       '512GB SSD +  1TB HDD', '256GB SSD +  500GB HDD',\n",
       "       '256GB SSD +  2TB HDD', '1TB SSD +  1TB HDD', '64GB SSD',\n",
       "       '128GB Flash Storage', '256GB SSD +  1.0TB Hybrid', '32GB SSD',\n",
       "       '512GB Flash Storage', '240GB SSD', '256GB SSD +  256GB SSD',\n",
       "       '16GB SSD', '8GB SSD', '64GB Flash Storage +  1TB HDD',\n",
       "       '1.0TB HDD', '1TB HDD +  1TB HDD', '512GB SSD +  512GB SSD',\n",
       "       '128GB SSD +  2TB HDD', '32GB HDD', '512GB SSD +  1.0TB Hybrid'],\n",
       "      dtype=object)"
      ]
     },
     "execution_count": 83,
     "metadata": {},
     "output_type": "execute_result"
    }
   ],
   "source": [
    "x_train['Memory'].unique()"
   ]
  },
  {
   "cell_type": "code",
   "execution_count": 84,
   "metadata": {},
   "outputs": [
    {
     "data": {
      "text/plain": [
       "36"
      ]
     },
     "execution_count": 84,
     "metadata": {},
     "output_type": "execute_result"
    }
   ],
   "source": [
    "x_train['Memory'].nunique() # creo que la voy a dejar igual, no voy a modificarla"
   ]
  },
  {
   "cell_type": "code",
   "execution_count": 85,
   "metadata": {},
   "outputs": [],
   "source": [
    "ordinal_memory = OrdinalEncoder()\n",
    "\n",
    "x_train['Memory'] = ordinal_memory.fit_transform(x_train[['Memory']])"
   ]
  },
  {
   "cell_type": "markdown",
   "metadata": {},
   "source": [
    "variable gpu"
   ]
  },
  {
   "cell_type": "code",
   "execution_count": 86,
   "metadata": {},
   "outputs": [
    {
     "data": {
      "text/plain": [
       "array(['AMD Radeon R7 M445', 'Intel HD Graphics 505',\n",
       "       'Intel HD Graphics 520', 'Nvidia GeForce GTX 1070',\n",
       "       'Nvidia GeForce GT 940MX', 'Nvidia GeForce GTX 1050',\n",
       "       'Nvidia GeForce 940MX', 'Nvidia GeForce GTX 1050 Ti',\n",
       "       'Intel HD Graphics 405', 'Intel UHD Graphics 620',\n",
       "       'AMD Radeon 530', 'Intel HD Graphics 510', 'Intel HD Graphics 620',\n",
       "       'Nvidia Quadro M2200M', 'Nvidia GeForce MX150',\n",
       "       'Intel HD Graphics 400', 'Nvidia Quadro M1200',\n",
       "       'Nvidia GeForce 920MX', 'Intel HD Graphics 500', 'AMD Radeon 520',\n",
       "       'AMD Radeon R5 M330', 'AMD Radeon R5 M420X', 'Intel HD Graphics',\n",
       "       'Intel HD Graphics 630', 'AMD Radeon R5 M430',\n",
       "       'Intel Iris Pro Graphics', 'Nvidia GeForce GTX 940MX',\n",
       "       'Intel HD Graphics 515', 'Nvidia GeForce GTX 1080',\n",
       "       'AMD Radeon R2 Graphics', 'Nvidia GeForce 150MX', 'AMD Radeon R5',\n",
       "       'Nvidia GeForce GTX 1050Ti', 'AMD Radeon R9 M385',\n",
       "       'Nvidia GeForce 930MX', 'Nvidia GeForce GTX 1060',\n",
       "       'Nvidia GeForce GTX 950M', 'Nvidia GeForce GTX 960M',\n",
       "       'Intel HD Graphics 615', 'AMD FirePro W4190M ', 'AMD Radeon R4',\n",
       "       'Nvidia Quadro M500M', 'AMD Radeon RX 580',\n",
       "       'Nvidia GeForce GTX 970M', 'AMD Radeon R7 M365X', 'AMD Radeon R2',\n",
       "       'Nvidia Quadro M1000M', 'Nvidia GeForce GTX 965M',\n",
       "       'Nvidia GeForce MX130', 'AMD Radeon R5 M420', 'AMD Radeon R7 M440',\n",
       "       'Intel HD Graphics 6000', 'Nvidia GeForce GTX 980M',\n",
       "       'Nvidia Quadro M2000M', 'Intel Iris Plus Graphics 650',\n",
       "       'AMD Radeon RX 550', 'Intel Iris Plus Graphics 640',\n",
       "       'Intel HD Graphics 5300', 'AMD Radeon R5 520',\n",
       "       'Nvidia GeForce 960M', 'Nvidia GeForce 930M',\n",
       "       'Nvidia Quadro 3000M', 'Nvidia GeForce GTX 1070M',\n",
       "       'Nvidia Quadro M620M', 'AMD Radeon R5 M315',\n",
       "       'Nvidia GeForce 920MX ', 'Intel HD Graphics 620 ',\n",
       "       'AMD Radeon Pro 555', 'Nvidia Quadro M620',\n",
       "       'Nvidia GeForce 930MX ', 'Nvidia GeForce GTX 960<U+039C>',\n",
       "       'Nvidia Quadro M2200', 'Nvidia GeForce 920M',\n",
       "       'Nvidia Quadro M3000M', 'AMD R17M-M1-70',\n",
       "       'Nvidia GeForce GTX 940M', 'AMD Radeon R7 M460',\n",
       "       'AMD Radeon R7 M360', 'AMD Radeon R4 Graphics',\n",
       "       'AMD Radeon Pro 455', 'AMD Radeon RX 560',\n",
       "       'Intel Iris Graphics 550', 'Nvidia GTX 980 SLI', 'AMD R4 Graphics',\n",
       "       'Nvidia GeForce GTX1050 Ti', 'Intel Iris Graphics 540',\n",
       "       'AMD FirePro W6150M', 'AMD Radeon R7 Graphics', 'AMD Radeon R7',\n",
       "       'Intel Graphics 620', 'Nvidia Quadro M520M'], dtype=object)"
      ]
     },
     "execution_count": 86,
     "metadata": {},
     "output_type": "execute_result"
    }
   ],
   "source": [
    "x_train['Gpu'].unique()"
   ]
  },
  {
   "cell_type": "code",
   "execution_count": 87,
   "metadata": {},
   "outputs": [
    {
     "data": {
      "text/plain": [
       "91"
      ]
     },
     "execution_count": 87,
     "metadata": {},
     "output_type": "execute_result"
    }
   ],
   "source": [
    "x_train['Gpu'].nunique()\n",
    "\n",
    "# creo que voy a categorizarlas por la marca, amd, intel, nvidia e intel"
   ]
  },
  {
   "cell_type": "code",
   "execution_count": 88,
   "metadata": {},
   "outputs": [],
   "source": [
    "# creamos una funcion para pasarla por el df\n",
    "\n",
    "def gpu_converter(texto):\n",
    "\n",
    "    patrones = [r'AMD', r'Nvidia', r'Intel']\n",
    "\n",
    "    for i in patrones:\n",
    "        res = re.findall(i, texto)\n",
    "        if res != []:\n",
    "            break\n",
    "    try:\n",
    "        return res[0]\n",
    "    except:\n",
    "        return 'Others'"
   ]
  },
  {
   "cell_type": "code",
   "execution_count": 89,
   "metadata": {},
   "outputs": [],
   "source": [
    "x_train['Gpu'] = x_train['Gpu'].apply(gpu_converter)"
   ]
  },
  {
   "cell_type": "code",
   "execution_count": 90,
   "metadata": {},
   "outputs": [],
   "source": [
    "ordinal_gpu = OrdinalEncoder()\n",
    "\n",
    "x_train['Gpu'] = ordinal_gpu.fit_transform(x_train[['Gpu']])"
   ]
  },
  {
   "cell_type": "markdown",
   "metadata": {},
   "source": [
    "variable opsys"
   ]
  },
  {
   "cell_type": "code",
   "execution_count": 91,
   "metadata": {},
   "outputs": [
    {
     "data": {
      "text/plain": [
       "array(['Windows 10', 'Windows 7', 'Linux', 'Chrome OS', 'No OS',\n",
       "       'Mac OS X', 'Windows 10 S', 'macOS', 'Android'], dtype=object)"
      ]
     },
     "execution_count": 91,
     "metadata": {},
     "output_type": "execute_result"
    }
   ],
   "source": [
    "x_train['OpSys'].unique()\n",
    "\n",
    "# este se va a quedar asi, en ordinal"
   ]
  },
  {
   "cell_type": "code",
   "execution_count": 92,
   "metadata": {},
   "outputs": [],
   "source": [
    "ordinal_opsys = OrdinalEncoder()\n",
    "\n",
    "x_train['OpSys'] = ordinal_gpu.fit_transform(x_train[['OpSys']])"
   ]
  },
  {
   "cell_type": "markdown",
   "metadata": {},
   "source": [
    "variable weight"
   ]
  },
  {
   "cell_type": "code",
   "execution_count": 93,
   "metadata": {},
   "outputs": [
    {
     "data": {
      "text/plain": [
       "array(['2.36kg', '2kg', '1.2kg', '4.42kg', '1.26kg', '2.26kg', '2.4kg',\n",
       "       '1.3kg', '2.5kg', '2.65kg', '2.02kg', '2.2kg', '1.95kg', '1.75kg',\n",
       "       '1.88kg', '1.74kg', '2.23kg', '3kg', '0.69kg', '2.71kg', '3.35kg',\n",
       "       '1.78kg', '2.13kg', '2.32kg', '2.18kg', '2.20kg', '2.1kg', '1.7kg',\n",
       "       '2.3kg', '1.91kg', '2.31kg', '1.4kg', '1.48kg', '2.04kg', '1.54kg',\n",
       "       '1.86kg', '1.98kg', '1.47kg', '2.67kg', '1.85kg', '1.5kg',\n",
       "       '0.97kg', '1.6kg', '1.68kg', '2.09kg', '2.33kg', '3.49kg',\n",
       "       '3.78kg', '1.36kg', '2.77kg', '1.29kg', '1.62kg', '1.05kg',\n",
       "       '2.05kg', '1.9kg', '1.28kg', '1.49kg', '2.62kg', '2.0kg', '1.63kg',\n",
       "       '1.37kg', '2.73kg', '2.69kg', '1.25kg', '4.14kg', '2.9kg',\n",
       "       '1.23kg', '2.37kg', '1.10kg', '1.90kg', '2.63kg', '1.39kg',\n",
       "       '2.8kg', '2.94kg', '1.43kg', '1.22kg', '2.21kg', '1.32kg', '2.6kg',\n",
       "       '1.45kg', '1.14kg', '4.36kg', '1.8kg', '1.1kg', '3.3kg', '3.2kg',\n",
       "       '4.2kg', '1.35kg', '2.19kg', '1.96kg', '4.0kg', '1.84kg', '1.65kg',\n",
       "       '1.76kg', '1.17kg', '1.09kg', '2.59kg', '4.33kg', '2.7kg',\n",
       "       '1.64kg', '0.92kg', '1.34kg', '4.6kg', '1.56kg', '1.13kg',\n",
       "       '2.08kg', '2.43kg', '2.38kg', '1.93kg', '1.252kg', '0.920kg',\n",
       "       '1.16kg', '1.24kg', '1.38kg', '2.75kg', '1.87kg', '1.42kg',\n",
       "       '0.99kg', '2.14kg', '1.44kg', '3.14kg', '3.4kg', '2.24kg',\n",
       "       '1.15kg', '1.83kg', '3.21kg', '2.06kg', '2.83kg', '1.19kg',\n",
       "       '1.31kg', '1.11kg', '1.27kg', '0.98kg', '3.6kg', '4.3kg', '2.99kg',\n",
       "       '2.17kg', '1.58kg', '0.81kg', '3.0kg', '2.54kg', '2.56kg',\n",
       "       '2.29kg', '1.21kg', '1.99kg', '2.45kg', '2.34kg', '2.79kg',\n",
       "       '3.8kg', '4.4kg', '1.12kg', '1.89kg', '1.08kg', '1.41kg', '4kg',\n",
       "       '2.72kg', '1.94kg', '1.79kg'], dtype=object)"
      ]
     },
     "execution_count": 93,
     "metadata": {},
     "output_type": "execute_result"
    }
   ],
   "source": [
    "x_train['Weight'].unique()\n",
    "\n",
    "# aqui vamos a hacerla numerica extrayendo los pesos"
   ]
  },
  {
   "cell_type": "code",
   "execution_count": 94,
   "metadata": {},
   "outputs": [],
   "source": [
    "def weight_converter(texto):\n",
    "\n",
    "    patron = r'\\d{1,2}\\.\\d{1,2}'\n",
    "    res = re.findall(patron, texto)\n",
    "\n",
    "    if res == []:\n",
    "\n",
    "        patron = r'\\d'\n",
    "        res = re.findall(patron, texto)\n",
    "\n",
    "    return float(res[0])"
   ]
  },
  {
   "cell_type": "code",
   "execution_count": 95,
   "metadata": {},
   "outputs": [],
   "source": [
    "x_train['Weight'] = x_train['Weight'].apply(weight_converter)"
   ]
  },
  {
   "cell_type": "markdown",
   "metadata": {},
   "source": [
    "## final"
   ]
  },
  {
   "cell_type": "code",
   "execution_count": 96,
   "metadata": {},
   "outputs": [
    {
     "name": "stdout",
     "output_type": "stream",
     "text": [
      "<class 'pandas.core.frame.DataFrame'>\n",
      "Index: 912 entries, 268 to 1179\n",
      "Data columns (total 12 columns):\n",
      " #   Column            Non-Null Count  Dtype  \n",
      "---  ------            --------------  -----  \n",
      " 0   Company           912 non-null    float64\n",
      " 1   Product           912 non-null    float64\n",
      " 2   TypeName          912 non-null    float64\n",
      " 3   Inches            912 non-null    float64\n",
      " 4   ScreenResolution  912 non-null    float64\n",
      " 5   Cpu               912 non-null    float64\n",
      " 6   Ram               912 non-null    int64  \n",
      " 7   Memory            912 non-null    float64\n",
      " 8   Gpu               912 non-null    float64\n",
      " 9   OpSys             912 non-null    float64\n",
      " 10  Weight            912 non-null    float64\n",
      " 11  Price_euros       912 non-null    float64\n",
      "dtypes: float64(11), int64(1)\n",
      "memory usage: 92.6 KB\n"
     ]
    }
   ],
   "source": [
    "x_train.info()"
   ]
  },
  {
   "cell_type": "code",
   "execution_count": 97,
   "metadata": {},
   "outputs": [
    {
     "data": {
      "text/html": [
       "<div>\n",
       "<style scoped>\n",
       "    .dataframe tbody tr th:only-of-type {\n",
       "        vertical-align: middle;\n",
       "    }\n",
       "\n",
       "    .dataframe tbody tr th {\n",
       "        vertical-align: top;\n",
       "    }\n",
       "\n",
       "    .dataframe thead th {\n",
       "        text-align: right;\n",
       "    }\n",
       "</style>\n",
       "<table border=\"1\" class=\"dataframe\">\n",
       "  <thead>\n",
       "    <tr style=\"text-align: right;\">\n",
       "      <th></th>\n",
       "      <th>Company</th>\n",
       "      <th>Product</th>\n",
       "      <th>TypeName</th>\n",
       "      <th>Inches</th>\n",
       "      <th>ScreenResolution</th>\n",
       "      <th>Cpu</th>\n",
       "      <th>Ram</th>\n",
       "      <th>Memory</th>\n",
       "      <th>Gpu</th>\n",
       "      <th>OpSys</th>\n",
       "      <th>Weight</th>\n",
       "      <th>Price_euros</th>\n",
       "    </tr>\n",
       "  </thead>\n",
       "  <tbody>\n",
       "    <tr>\n",
       "      <th>count</th>\n",
       "      <td>912.000000</td>\n",
       "      <td>912.000000</td>\n",
       "      <td>912.000000</td>\n",
       "      <td>912.000000</td>\n",
       "      <td>912.000000</td>\n",
       "      <td>912.000000</td>\n",
       "      <td>912.000000</td>\n",
       "      <td>912.000000</td>\n",
       "      <td>912.000000</td>\n",
       "      <td>912.000000</td>\n",
       "      <td>912.000000</td>\n",
       "      <td>912.000000</td>\n",
       "    </tr>\n",
       "    <tr>\n",
       "      <th>mean</th>\n",
       "      <td>6.449561</td>\n",
       "      <td>234.040570</td>\n",
       "      <td>2.589912</td>\n",
       "      <td>15.011404</td>\n",
       "      <td>2.962719</td>\n",
       "      <td>2.287895</td>\n",
       "      <td>8.188596</td>\n",
       "      <td>15.289474</td>\n",
       "      <td>1.160088</td>\n",
       "      <td>4.796053</td>\n",
       "      <td>2.032105</td>\n",
       "      <td>1108.122873</td>\n",
       "    </tr>\n",
       "    <tr>\n",
       "      <th>std</th>\n",
       "      <td>4.146293</td>\n",
       "      <td>133.403803</td>\n",
       "      <td>1.232841</td>\n",
       "      <td>1.411744</td>\n",
       "      <td>2.929230</td>\n",
       "      <td>0.513277</td>\n",
       "      <td>4.899827</td>\n",
       "      <td>7.729197</td>\n",
       "      <td>0.634385</td>\n",
       "      <td>1.075659</td>\n",
       "      <td>0.653780</td>\n",
       "      <td>714.597741</td>\n",
       "    </tr>\n",
       "    <tr>\n",
       "      <th>min</th>\n",
       "      <td>0.000000</td>\n",
       "      <td>0.000000</td>\n",
       "      <td>0.000000</td>\n",
       "      <td>10.100000</td>\n",
       "      <td>0.000000</td>\n",
       "      <td>0.900000</td>\n",
       "      <td>2.000000</td>\n",
       "      <td>0.000000</td>\n",
       "      <td>0.000000</td>\n",
       "      <td>0.000000</td>\n",
       "      <td>0.690000</td>\n",
       "      <td>174.000000</td>\n",
       "    </tr>\n",
       "    <tr>\n",
       "      <th>25%</th>\n",
       "      <td>4.000000</td>\n",
       "      <td>136.750000</td>\n",
       "      <td>2.000000</td>\n",
       "      <td>14.000000</td>\n",
       "      <td>0.000000</td>\n",
       "      <td>2.000000</td>\n",
       "      <td>4.000000</td>\n",
       "      <td>9.000000</td>\n",
       "      <td>1.000000</td>\n",
       "      <td>5.000000</td>\n",
       "      <td>1.500000</td>\n",
       "      <td>589.000000</td>\n",
       "    </tr>\n",
       "    <tr>\n",
       "      <th>50%</th>\n",
       "      <td>7.000000</td>\n",
       "      <td>218.500000</td>\n",
       "      <td>3.000000</td>\n",
       "      <td>15.600000</td>\n",
       "      <td>3.000000</td>\n",
       "      <td>2.500000</td>\n",
       "      <td>8.000000</td>\n",
       "      <td>15.000000</td>\n",
       "      <td>1.000000</td>\n",
       "      <td>5.000000</td>\n",
       "      <td>2.040000</td>\n",
       "      <td>949.000000</td>\n",
       "    </tr>\n",
       "    <tr>\n",
       "      <th>75%</th>\n",
       "      <td>10.000000</td>\n",
       "      <td>347.250000</td>\n",
       "      <td>3.000000</td>\n",
       "      <td>15.600000</td>\n",
       "      <td>3.000000</td>\n",
       "      <td>2.700000</td>\n",
       "      <td>8.000000</td>\n",
       "      <td>22.000000</td>\n",
       "      <td>2.000000</td>\n",
       "      <td>5.000000</td>\n",
       "      <td>2.300000</td>\n",
       "      <td>1458.500000</td>\n",
       "    </tr>\n",
       "    <tr>\n",
       "      <th>max</th>\n",
       "      <td>18.000000</td>\n",
       "      <td>474.000000</td>\n",
       "      <td>5.000000</td>\n",
       "      <td>18.400000</td>\n",
       "      <td>13.000000</td>\n",
       "      <td>3.600000</td>\n",
       "      <td>32.000000</td>\n",
       "      <td>35.000000</td>\n",
       "      <td>2.000000</td>\n",
       "      <td>8.000000</td>\n",
       "      <td>4.600000</td>\n",
       "      <td>6099.000000</td>\n",
       "    </tr>\n",
       "  </tbody>\n",
       "</table>\n",
       "</div>"
      ],
      "text/plain": [
       "          Company     Product    TypeName      Inches  ScreenResolution  \\\n",
       "count  912.000000  912.000000  912.000000  912.000000        912.000000   \n",
       "mean     6.449561  234.040570    2.589912   15.011404          2.962719   \n",
       "std      4.146293  133.403803    1.232841    1.411744          2.929230   \n",
       "min      0.000000    0.000000    0.000000   10.100000          0.000000   \n",
       "25%      4.000000  136.750000    2.000000   14.000000          0.000000   \n",
       "50%      7.000000  218.500000    3.000000   15.600000          3.000000   \n",
       "75%     10.000000  347.250000    3.000000   15.600000          3.000000   \n",
       "max     18.000000  474.000000    5.000000   18.400000         13.000000   \n",
       "\n",
       "              Cpu         Ram      Memory         Gpu       OpSys      Weight  \\\n",
       "count  912.000000  912.000000  912.000000  912.000000  912.000000  912.000000   \n",
       "mean     2.287895    8.188596   15.289474    1.160088    4.796053    2.032105   \n",
       "std      0.513277    4.899827    7.729197    0.634385    1.075659    0.653780   \n",
       "min      0.900000    2.000000    0.000000    0.000000    0.000000    0.690000   \n",
       "25%      2.000000    4.000000    9.000000    1.000000    5.000000    1.500000   \n",
       "50%      2.500000    8.000000   15.000000    1.000000    5.000000    2.040000   \n",
       "75%      2.700000    8.000000   22.000000    2.000000    5.000000    2.300000   \n",
       "max      3.600000   32.000000   35.000000    2.000000    8.000000    4.600000   \n",
       "\n",
       "       Price_euros  \n",
       "count   912.000000  \n",
       "mean   1108.122873  \n",
       "std     714.597741  \n",
       "min     174.000000  \n",
       "25%     589.000000  \n",
       "50%     949.000000  \n",
       "75%    1458.500000  \n",
       "max    6099.000000  "
      ]
     },
     "execution_count": 97,
     "metadata": {},
     "output_type": "execute_result"
    }
   ],
   "source": [
    "x_train.describe()\n",
    "\n",
    "# esto vamos a tener que escalarlo"
   ]
  },
  {
   "cell_type": "code",
   "execution_count": 98,
   "metadata": {},
   "outputs": [
    {
     "name": "stdout",
     "output_type": "stream",
     "text": [
      "Company 19\n",
      "Product 475\n",
      "TypeName 6\n",
      "Inches 15\n",
      "ScreenResolution 14\n",
      "Cpu 25\n",
      "Ram 8\n",
      "Memory 36\n",
      "Gpu 3\n",
      "OpSys 9\n",
      "Weight 150\n",
      "Price_euros 614\n"
     ]
    }
   ],
   "source": [
    "for i in x_train.columns:\n",
    "    print(i, x_train[i].nunique())"
   ]
  },
  {
   "cell_type": "code",
   "execution_count": 99,
   "metadata": {},
   "outputs": [],
   "source": [
    "x_train.to_csv('./data/train_limpio.csv', index=False)"
   ]
  },
  {
   "cell_type": "code",
   "execution_count": 100,
   "metadata": {},
   "outputs": [
    {
     "ename": "ValueError",
     "evalue": "Found unknown categories ['Yoga 11e', 'Precision 7720', 'Inspiron 7779', 'ES1-523-84K7 (A8-7410/8GB/256GB/FHD/W10)', 'LapBook 12.3', 'V330-15IKB (i3-7130U/4GB/128GB/FHD/W10)', 'F756UX-T4201D (i7-7500U/8GB/128GB', '15-BW004nv (A9-9420/4GB/256GB/Radeon', 'Insprion 5767', 'Rog G752VY-GC229T', 'FX753VD-GC007T (i7-7700HQ/8GB/1TB', 'Rog GL753VE-GC070T', 'X550VX-XX015D (i5-6300HQ/4GB/1TB/GeForce', 'Ideapad 520-15IKBR', 'Lenovo IdeaPad', 'Q524UQ-BHI7T15 (i7-7500U/12GB/2TB/GeForce', 'ZenBook UX310UA-FB485T', '110-15ACL (A6-7310/4GB/500GB/W10)', 'V131 (X5-Z8350/4GB/32GB/FHD/W10)', '15-BW094nd (A6-9220/8GB/128GB/W10)', 'Portege Z30-C-16P', '15-BS028nv (i3-6006U/4GB/1TB/Radeon', 'B51-80 (i5-6200U/8GB/1008GB/Radeon', 'Thinkpad T470s', 'Tecra X40-D-10Z', '15-bs023nv (i3-6006U/4GB/1TB/FHD/W10)', 'FX753VD-GC461T (i7-7700HQ/16GB/1TB', 'VivoBook L402NA', 'Inspiron 5378', 'Pavilion 14-BK001nv', 'FX502VM-DM560T (i7-7700HQ/8GB/1TB', 'ThinkPad L460', 'GE72VR 6RF', '17-Y002nv (A10-9600P/6GB/2TB/Radeon', 'Chromebook Plus', 'E5 774G', 'ZenBook UX310UQ-GL026T', '15-bs012nv (i7-7500U/8GB/1TB/Radeon', '15-BS078nr (i7-7500U/8GB/1TB/W10)', 'Rog G752VS-BA171T', '17-AK091ND (A9-9420/8GB/1TB/W10)', 'GV62 7RD-1686NL', 'V310-15ISK (i5-6200U/4GB/1TB/FHD/No', 'IdeaPad 320-17ISK', 'Tecra A50-C-218', 'V110-15ISK (3855U/4GB/500GB/W10)', 'GV62M 7RD', 'Vivobook X541UV-DM1217T', 'Stream 14-AX001nv', '320-15ISK (i3-6006U/4GB/1TB/GeForce', 'IdeaPad 720S-14IKB', 'ZenBook 3', 'X542UQ-GO005 (i5-7200U/8GB/1TB/GeForce', 'X555BP-XX180T (A9-9420/4GB/1TB/Radeon', 'G701VO-IH74K (i7-6820HK/32GB/2x', 'GT72S Dominator', '15-bs005nv (i3-6006U/4GB/1TB', 'GS63VR 7RG', 'SP315-51 (i7-7500U/12GB/1TB/FHD/W10)', 'IdeaPad 510-15ISK', 'ThinkPad P51s', 'Gram 15Z970', 'Latitude 5490', 'Latitude 7390', 'Chromebook 11', 'IdeaPad 310-15ABR', 'ZenBook UX410UA-GV183T', 'ROG GL553VE-FY022', 'IdeaPad 120S-14IAP', 'GP62M Leopard', 'Portege X30-D-10K', 'Thinkpad T470p', 'ROG Zephyrus', 'PL60 7RD', 'GL72M 7RDX', 'ENVY -', '15-BW037na (A9-9420/4GB/1TB/Radeon', 'VivoBook E12', 'IdeaPad 110-17ACL', 'K556UR-DM621T (i7-7500U/8GB/256GB/GeForce', 'Envy x360', 'GE73VR 7RF', 'Notebook Odyssey', 'X751NV-TY001T (N4200/4GB/1TB/GeForce', 'Aspire A515-51G-37JS', 'R558UA-DM966T (i5-7200U/8GB/128GB/FHD/W10)', 'GS73VR 7RF', 'TP501UA-CJ131T (i5-7200U/8GB/1TB/W10)', 'FX502VM-AS73 (i7-7700HQ/16GB/1TB', 'Yoga 700-11ISK', 'Spectre X360', '15-bs024nv (i5-7200U/8GB/128GB/W10)', 'Omen 17-an006nv', 'Q534UX-BHI7T19 (i7-7500U/16GB/2TB', 'Gram 14Z970', 'Omen 17-w212nv', 'Rog GL753VD-GC042T', 'VivoBook S14', 'Envy 13-AB020nr', 'Spin SP111-31', 'Vostro 5471', 'ROG G701VO', 'FX503VD-E4022T (i7-7700HQ/8GB/1TB/GeForce', 'GS63VR 6RF', 'Ideapad 320-15ISK', 'GL62M 7REX', 'A715-71G-59DH (i5-7300HQ/8GB/1TB/GeForce', 'Nitro AN515-51', 'V310-15ISK (i3-6006U/4GB/1TB/FHD/W10)', 'Rog GL752VW-T4308T', 'Portege X30-D-10J', 'Aspire VX5-591G', 'Portege Z30-C-16Z', 'GP62MVR 6RF', 'Stream 14-AX040wm', 'Precision 3510', 'Spectre 13-V111dx', 'GT80S 6QE', 'Omen 17-an012dx', 'Inspiron 7560', 'Tecra Z40-C-12Z', '15-BW091ND (A9-9420/6GB/1TB', 'IdeaPad 110-15IBR', 'VivoBook E201NA', 'Rog GL552VW-DM201T', 'Chromebook C202SA', 'Ideapad 320-15IAP', 'Aspire A515-51G-32MX', 'Omen 15-ce007nv', '15-bs017nv (i7-7500U/8GB/256GB/Radeon', 'Zenbook UX390UA', 'ROG G703VI-E5062T', '15-bs002nv (i3-6006U/4GB/128GB/FHD/W10)', 'TravelMate B', '15-bw000nv (E2-9000e/4GB/500GB/Radeon', 'Extensa EX2540', 'CB5-132T-C9KK (N3160/4GB/32GB/Chrome', 'EliteBook 1030', 'V330-15IKB (i5-8250U/4GB/500GB/FHD/W10)', 'Rog GL702VS-BA023T', 'Tecra X40-D-10H', 'IdeaPad 320s-14IKB', 'V310-15ISK (i5-7200U/4GB/1TB/FHD/W10)'] in column 0 during transform",
     "output_type": "error",
     "traceback": [
      "\u001b[1;31m---------------------------------------------------------------------------\u001b[0m",
      "\u001b[1;31mValueError\u001b[0m                                Traceback (most recent call last)",
      "Cell \u001b[1;32mIn[100], line 13\u001b[0m\n\u001b[0;32m      9\u001b[0m x_test[\u001b[38;5;124m'\u001b[39m\u001b[38;5;124mCompany\u001b[39m\u001b[38;5;124m'\u001b[39m] \u001b[38;5;241m=\u001b[39m ordinal_company\u001b[38;5;241m.\u001b[39mtransform(x_test[[\u001b[38;5;124m'\u001b[39m\u001b[38;5;124mCompany\u001b[39m\u001b[38;5;124m'\u001b[39m]])\n\u001b[0;32m     11\u001b[0m \u001b[38;5;66;03m# variable product\u001b[39;00m\n\u001b[1;32m---> 13\u001b[0m x_test[\u001b[38;5;124m'\u001b[39m\u001b[38;5;124mProduct\u001b[39m\u001b[38;5;124m'\u001b[39m] \u001b[38;5;241m=\u001b[39m \u001b[43mordinal_product\u001b[49m\u001b[38;5;241;43m.\u001b[39;49m\u001b[43mtransform\u001b[49m\u001b[43m(\u001b[49m\u001b[43mx_test\u001b[49m\u001b[43m[\u001b[49m\u001b[43m[\u001b[49m\u001b[38;5;124;43m'\u001b[39;49m\u001b[38;5;124;43mProduct\u001b[39;49m\u001b[38;5;124;43m'\u001b[39;49m\u001b[43m]\u001b[49m\u001b[43m]\u001b[49m\u001b[43m)\u001b[49m\n\u001b[0;32m     15\u001b[0m \u001b[38;5;66;03m# variable typename\u001b[39;00m\n\u001b[0;32m     18\u001b[0m x_test[\u001b[38;5;124m'\u001b[39m\u001b[38;5;124mTypeName\u001b[39m\u001b[38;5;124m'\u001b[39m] \u001b[38;5;241m=\u001b[39m ordinal_typename\u001b[38;5;241m.\u001b[39mtransform(x_test[[\u001b[38;5;124m'\u001b[39m\u001b[38;5;124mTypeName\u001b[39m\u001b[38;5;124m'\u001b[39m]])\n",
      "File \u001b[1;32m~\\AppData\\Local\\Programs\\Python\\Python312\\Lib\\site-packages\\sklearn\\utils\\_set_output.py:295\u001b[0m, in \u001b[0;36m_wrap_method_output.<locals>.wrapped\u001b[1;34m(self, X, *args, **kwargs)\u001b[0m\n\u001b[0;32m    293\u001b[0m \u001b[38;5;129m@wraps\u001b[39m(f)\n\u001b[0;32m    294\u001b[0m \u001b[38;5;28;01mdef\u001b[39;00m \u001b[38;5;21mwrapped\u001b[39m(\u001b[38;5;28mself\u001b[39m, X, \u001b[38;5;241m*\u001b[39margs, \u001b[38;5;241m*\u001b[39m\u001b[38;5;241m*\u001b[39mkwargs):\n\u001b[1;32m--> 295\u001b[0m     data_to_wrap \u001b[38;5;241m=\u001b[39m \u001b[43mf\u001b[49m\u001b[43m(\u001b[49m\u001b[38;5;28;43mself\u001b[39;49m\u001b[43m,\u001b[49m\u001b[43m \u001b[49m\u001b[43mX\u001b[49m\u001b[43m,\u001b[49m\u001b[43m \u001b[49m\u001b[38;5;241;43m*\u001b[39;49m\u001b[43margs\u001b[49m\u001b[43m,\u001b[49m\u001b[43m \u001b[49m\u001b[38;5;241;43m*\u001b[39;49m\u001b[38;5;241;43m*\u001b[39;49m\u001b[43mkwargs\u001b[49m\u001b[43m)\u001b[49m\n\u001b[0;32m    296\u001b[0m     \u001b[38;5;28;01mif\u001b[39;00m \u001b[38;5;28misinstance\u001b[39m(data_to_wrap, \u001b[38;5;28mtuple\u001b[39m):\n\u001b[0;32m    297\u001b[0m         \u001b[38;5;66;03m# only wrap the first output for cross decomposition\u001b[39;00m\n\u001b[0;32m    298\u001b[0m         return_tuple \u001b[38;5;241m=\u001b[39m (\n\u001b[0;32m    299\u001b[0m             _wrap_data_with_container(method, data_to_wrap[\u001b[38;5;241m0\u001b[39m], X, \u001b[38;5;28mself\u001b[39m),\n\u001b[0;32m    300\u001b[0m             \u001b[38;5;241m*\u001b[39mdata_to_wrap[\u001b[38;5;241m1\u001b[39m:],\n\u001b[0;32m    301\u001b[0m         )\n",
      "File \u001b[1;32m~\\AppData\\Local\\Programs\\Python\\Python312\\Lib\\site-packages\\sklearn\\preprocessing\\_encoders.py:1577\u001b[0m, in \u001b[0;36mOrdinalEncoder.transform\u001b[1;34m(self, X)\u001b[0m\n\u001b[0;32m   1563\u001b[0m \u001b[38;5;250m\u001b[39m\u001b[38;5;124;03m\"\"\"\u001b[39;00m\n\u001b[0;32m   1564\u001b[0m \u001b[38;5;124;03mTransform X to ordinal codes.\u001b[39;00m\n\u001b[0;32m   1565\u001b[0m \n\u001b[1;32m   (...)\u001b[0m\n\u001b[0;32m   1574\u001b[0m \u001b[38;5;124;03m    Transformed input.\u001b[39;00m\n\u001b[0;32m   1575\u001b[0m \u001b[38;5;124;03m\"\"\"\u001b[39;00m\n\u001b[0;32m   1576\u001b[0m check_is_fitted(\u001b[38;5;28mself\u001b[39m, \u001b[38;5;124m\"\u001b[39m\u001b[38;5;124mcategories_\u001b[39m\u001b[38;5;124m\"\u001b[39m)\n\u001b[1;32m-> 1577\u001b[0m X_int, X_mask \u001b[38;5;241m=\u001b[39m \u001b[38;5;28;43mself\u001b[39;49m\u001b[38;5;241;43m.\u001b[39;49m\u001b[43m_transform\u001b[49m\u001b[43m(\u001b[49m\n\u001b[0;32m   1578\u001b[0m \u001b[43m    \u001b[49m\u001b[43mX\u001b[49m\u001b[43m,\u001b[49m\n\u001b[0;32m   1579\u001b[0m \u001b[43m    \u001b[49m\u001b[43mhandle_unknown\u001b[49m\u001b[38;5;241;43m=\u001b[39;49m\u001b[38;5;28;43mself\u001b[39;49m\u001b[38;5;241;43m.\u001b[39;49m\u001b[43mhandle_unknown\u001b[49m\u001b[43m,\u001b[49m\n\u001b[0;32m   1580\u001b[0m \u001b[43m    \u001b[49m\u001b[43mforce_all_finite\u001b[49m\u001b[38;5;241;43m=\u001b[39;49m\u001b[38;5;124;43m\"\u001b[39;49m\u001b[38;5;124;43mallow-nan\u001b[39;49m\u001b[38;5;124;43m\"\u001b[39;49m\u001b[43m,\u001b[49m\n\u001b[0;32m   1581\u001b[0m \u001b[43m    \u001b[49m\u001b[43mignore_category_indices\u001b[49m\u001b[38;5;241;43m=\u001b[39;49m\u001b[38;5;28;43mself\u001b[39;49m\u001b[38;5;241;43m.\u001b[39;49m\u001b[43m_missing_indices\u001b[49m\u001b[43m,\u001b[49m\n\u001b[0;32m   1582\u001b[0m \u001b[43m\u001b[49m\u001b[43m)\u001b[49m\n\u001b[0;32m   1583\u001b[0m X_trans \u001b[38;5;241m=\u001b[39m X_int\u001b[38;5;241m.\u001b[39mastype(\u001b[38;5;28mself\u001b[39m\u001b[38;5;241m.\u001b[39mdtype, copy\u001b[38;5;241m=\u001b[39m\u001b[38;5;28;01mFalse\u001b[39;00m)\n\u001b[0;32m   1585\u001b[0m \u001b[38;5;28;01mfor\u001b[39;00m cat_idx, missing_idx \u001b[38;5;129;01min\u001b[39;00m \u001b[38;5;28mself\u001b[39m\u001b[38;5;241m.\u001b[39m_missing_indices\u001b[38;5;241m.\u001b[39mitems():\n",
      "File \u001b[1;32m~\\AppData\\Local\\Programs\\Python\\Python312\\Lib\\site-packages\\sklearn\\preprocessing\\_encoders.py:213\u001b[0m, in \u001b[0;36m_BaseEncoder._transform\u001b[1;34m(self, X, handle_unknown, force_all_finite, warn_on_unknown, ignore_category_indices)\u001b[0m\n\u001b[0;32m    208\u001b[0m \u001b[38;5;28;01mif\u001b[39;00m handle_unknown \u001b[38;5;241m==\u001b[39m \u001b[38;5;124m\"\u001b[39m\u001b[38;5;124merror\u001b[39m\u001b[38;5;124m\"\u001b[39m:\n\u001b[0;32m    209\u001b[0m     msg \u001b[38;5;241m=\u001b[39m (\n\u001b[0;32m    210\u001b[0m         \u001b[38;5;124m\"\u001b[39m\u001b[38;5;124mFound unknown categories \u001b[39m\u001b[38;5;132;01m{0}\u001b[39;00m\u001b[38;5;124m in column \u001b[39m\u001b[38;5;132;01m{1}\u001b[39;00m\u001b[38;5;124m\"\u001b[39m\n\u001b[0;32m    211\u001b[0m         \u001b[38;5;124m\"\u001b[39m\u001b[38;5;124m during transform\u001b[39m\u001b[38;5;124m\"\u001b[39m\u001b[38;5;241m.\u001b[39mformat(diff, i)\n\u001b[0;32m    212\u001b[0m     )\n\u001b[1;32m--> 213\u001b[0m     \u001b[38;5;28;01mraise\u001b[39;00m \u001b[38;5;167;01mValueError\u001b[39;00m(msg)\n\u001b[0;32m    214\u001b[0m \u001b[38;5;28;01melse\u001b[39;00m:\n\u001b[0;32m    215\u001b[0m     \u001b[38;5;28;01mif\u001b[39;00m warn_on_unknown:\n",
      "\u001b[1;31mValueError\u001b[0m: Found unknown categories ['Yoga 11e', 'Precision 7720', 'Inspiron 7779', 'ES1-523-84K7 (A8-7410/8GB/256GB/FHD/W10)', 'LapBook 12.3', 'V330-15IKB (i3-7130U/4GB/128GB/FHD/W10)', 'F756UX-T4201D (i7-7500U/8GB/128GB', '15-BW004nv (A9-9420/4GB/256GB/Radeon', 'Insprion 5767', 'Rog G752VY-GC229T', 'FX753VD-GC007T (i7-7700HQ/8GB/1TB', 'Rog GL753VE-GC070T', 'X550VX-XX015D (i5-6300HQ/4GB/1TB/GeForce', 'Ideapad 520-15IKBR', 'Lenovo IdeaPad', 'Q524UQ-BHI7T15 (i7-7500U/12GB/2TB/GeForce', 'ZenBook UX310UA-FB485T', '110-15ACL (A6-7310/4GB/500GB/W10)', 'V131 (X5-Z8350/4GB/32GB/FHD/W10)', '15-BW094nd (A6-9220/8GB/128GB/W10)', 'Portege Z30-C-16P', '15-BS028nv (i3-6006U/4GB/1TB/Radeon', 'B51-80 (i5-6200U/8GB/1008GB/Radeon', 'Thinkpad T470s', 'Tecra X40-D-10Z', '15-bs023nv (i3-6006U/4GB/1TB/FHD/W10)', 'FX753VD-GC461T (i7-7700HQ/16GB/1TB', 'VivoBook L402NA', 'Inspiron 5378', 'Pavilion 14-BK001nv', 'FX502VM-DM560T (i7-7700HQ/8GB/1TB', 'ThinkPad L460', 'GE72VR 6RF', '17-Y002nv (A10-9600P/6GB/2TB/Radeon', 'Chromebook Plus', 'E5 774G', 'ZenBook UX310UQ-GL026T', '15-bs012nv (i7-7500U/8GB/1TB/Radeon', '15-BS078nr (i7-7500U/8GB/1TB/W10)', 'Rog G752VS-BA171T', '17-AK091ND (A9-9420/8GB/1TB/W10)', 'GV62 7RD-1686NL', 'V310-15ISK (i5-6200U/4GB/1TB/FHD/No', 'IdeaPad 320-17ISK', 'Tecra A50-C-218', 'V110-15ISK (3855U/4GB/500GB/W10)', 'GV62M 7RD', 'Vivobook X541UV-DM1217T', 'Stream 14-AX001nv', '320-15ISK (i3-6006U/4GB/1TB/GeForce', 'IdeaPad 720S-14IKB', 'ZenBook 3', 'X542UQ-GO005 (i5-7200U/8GB/1TB/GeForce', 'X555BP-XX180T (A9-9420/4GB/1TB/Radeon', 'G701VO-IH74K (i7-6820HK/32GB/2x', 'GT72S Dominator', '15-bs005nv (i3-6006U/4GB/1TB', 'GS63VR 7RG', 'SP315-51 (i7-7500U/12GB/1TB/FHD/W10)', 'IdeaPad 510-15ISK', 'ThinkPad P51s', 'Gram 15Z970', 'Latitude 5490', 'Latitude 7390', 'Chromebook 11', 'IdeaPad 310-15ABR', 'ZenBook UX410UA-GV183T', 'ROG GL553VE-FY022', 'IdeaPad 120S-14IAP', 'GP62M Leopard', 'Portege X30-D-10K', 'Thinkpad T470p', 'ROG Zephyrus', 'PL60 7RD', 'GL72M 7RDX', 'ENVY -', '15-BW037na (A9-9420/4GB/1TB/Radeon', 'VivoBook E12', 'IdeaPad 110-17ACL', 'K556UR-DM621T (i7-7500U/8GB/256GB/GeForce', 'Envy x360', 'GE73VR 7RF', 'Notebook Odyssey', 'X751NV-TY001T (N4200/4GB/1TB/GeForce', 'Aspire A515-51G-37JS', 'R558UA-DM966T (i5-7200U/8GB/128GB/FHD/W10)', 'GS73VR 7RF', 'TP501UA-CJ131T (i5-7200U/8GB/1TB/W10)', 'FX502VM-AS73 (i7-7700HQ/16GB/1TB', 'Yoga 700-11ISK', 'Spectre X360', '15-bs024nv (i5-7200U/8GB/128GB/W10)', 'Omen 17-an006nv', 'Q534UX-BHI7T19 (i7-7500U/16GB/2TB', 'Gram 14Z970', 'Omen 17-w212nv', 'Rog GL753VD-GC042T', 'VivoBook S14', 'Envy 13-AB020nr', 'Spin SP111-31', 'Vostro 5471', 'ROG G701VO', 'FX503VD-E4022T (i7-7700HQ/8GB/1TB/GeForce', 'GS63VR 6RF', 'Ideapad 320-15ISK', 'GL62M 7REX', 'A715-71G-59DH (i5-7300HQ/8GB/1TB/GeForce', 'Nitro AN515-51', 'V310-15ISK (i3-6006U/4GB/1TB/FHD/W10)', 'Rog GL752VW-T4308T', 'Portege X30-D-10J', 'Aspire VX5-591G', 'Portege Z30-C-16Z', 'GP62MVR 6RF', 'Stream 14-AX040wm', 'Precision 3510', 'Spectre 13-V111dx', 'GT80S 6QE', 'Omen 17-an012dx', 'Inspiron 7560', 'Tecra Z40-C-12Z', '15-BW091ND (A9-9420/6GB/1TB', 'IdeaPad 110-15IBR', 'VivoBook E201NA', 'Rog GL552VW-DM201T', 'Chromebook C202SA', 'Ideapad 320-15IAP', 'Aspire A515-51G-32MX', 'Omen 15-ce007nv', '15-bs017nv (i7-7500U/8GB/256GB/Radeon', 'Zenbook UX390UA', 'ROG G703VI-E5062T', '15-bs002nv (i3-6006U/4GB/128GB/FHD/W10)', 'TravelMate B', '15-bw000nv (E2-9000e/4GB/500GB/Radeon', 'Extensa EX2540', 'CB5-132T-C9KK (N3160/4GB/32GB/Chrome', 'EliteBook 1030', 'V330-15IKB (i5-8250U/4GB/500GB/FHD/W10)', 'Rog GL702VS-BA023T', 'Tecra X40-D-10H', 'IdeaPad 320s-14IKB', 'V310-15ISK (i5-7200U/4GB/1TB/FHD/W10)'] in column 0 during transform"
     ]
    }
   ],
   "source": [
    "x_test = pd.read_csv('./data/test.csv')\n",
    "\n",
    "# variable ladtop id\n",
    "\n",
    "x_test.drop('laptop_ID', axis= 1, inplace= True)\n",
    "\n",
    "# variable company\n",
    "\n",
    "x_test['Company'] = ordinal_company.transform(x_test[['Company']])\n",
    "\n",
    "# variable product\n",
    "\n",
    "x_test['Product'] = ordinal_product.transform(x_test[['Product']])\n",
    "\n",
    "# variable typename\n",
    "\n",
    "\n",
    "x_test['TypeName'] = ordinal_typename.transform(x_test[['TypeName']])\n",
    "\n",
    "# variable inches\n",
    "\n",
    "# nada\n",
    "\n",
    "# variable screenresolution\n",
    "\n",
    "def resolution_converter(texto):\n",
    "\n",
    "    patron = r'\\d{3,4}x\\d{3,4}'\n",
    "    res = re.findall(patron, texto)\n",
    "\n",
    "    return res[0]\n",
    "\n",
    "x_test['ScreenResolution'] = x_test['ScreenResolution'].apply(resolution_converter)\n",
    "\n",
    "ordinal_screen = OrdinalEncoder()\n",
    "\n",
    "x_test['ScreenResolution'] = ordinal_screen.transform(x_test[['ScreenResolution']])\n",
    "\n",
    "# variable cpu\n",
    "\n",
    "def cpu_converter(texto):\n",
    "\n",
    "    patron = r'\\d{1,2}\\.\\d{1,2}GHz'\n",
    "    res = re.findall(patron, texto)\n",
    "\n",
    "    if res == []:\n",
    "\n",
    "        patron = r'\\dGHz'\n",
    "        res = re.findall(patron, texto)\n",
    "    \n",
    "    res[0] = res[0].replace('GHz', '')\n",
    "\n",
    "    return float(res[0])\n",
    "\n",
    "x_test['Cpu'] = x_test['Cpu'].apply(cpu_converter)\n",
    "\n",
    "# variable ram\n",
    "\n",
    "def ram_converter(texto):\n",
    "\n",
    "    patron = r'\\d{1,2}'\n",
    "    res = re.findall(patron, texto)\n",
    "\n",
    "    return int(res[0])\n",
    "\n",
    "x_test['Ram'] = x_test['Ram'].apply(ram_converter)\n",
    "\n",
    "# variable memory\n",
    "\n",
    "\n",
    "x_test['Memory'] = ordinal_memory.transform(x_test[['Memory']])\n",
    "\n",
    "# variable gpu\n",
    "\n",
    "def gpu_converter(texto):\n",
    "\n",
    "    patrones = [r'AMD', r'Nvidia', r'Intel']\n",
    "\n",
    "    for i in patrones:\n",
    "        res = re.findall(i, texto)\n",
    "        if res != []:\n",
    "            break\n",
    "\n",
    "    try:\n",
    "        return res[0]\n",
    "    except:\n",
    "        return 'Others'\n",
    "\n",
    "x_test['Gpu'] = x_test['Gpu'].apply(gpu_converter)\n",
    "\n",
    "\n",
    "x_test['Gpu'] = ordinal_gpu.transform(x_test[['Gpu']])\n",
    "\n",
    "# variable opsys\n",
    "\n",
    "\n",
    "x_test['OpSys'] = ordinal_gpu.transform(x_test[['OpSys']])\n",
    "\n",
    "# variable weight\n",
    "\n",
    "def weight_converter(texto):\n",
    "\n",
    "    patron = r'\\d{1,2}\\.\\d{1,2}'\n",
    "    res = re.findall(patron, texto)\n",
    "\n",
    "    if res == []:\n",
    "\n",
    "        patron = r'\\d'\n",
    "        res = re.findall(patron, texto)\n",
    "\n",
    "    return float(res[0])\n",
    "\n",
    "x_test['Weight'] = x_test['Weight'].apply(weight_converter)\n",
    "\n",
    "x_test.to_csv('./data/test_limpio.csv', index=False)"
   ]
  }
 ],
 "metadata": {
  "kernelspec": {
   "display_name": "Python 3",
   "language": "python",
   "name": "python3"
  },
  "language_info": {
   "codemirror_mode": {
    "name": "ipython",
    "version": 3
   },
   "file_extension": ".py",
   "mimetype": "text/x-python",
   "name": "python",
   "nbconvert_exporter": "python",
   "pygments_lexer": "ipython3",
   "version": "3.12.0"
  }
 },
 "nbformat": 4,
 "nbformat_minor": 2
}
